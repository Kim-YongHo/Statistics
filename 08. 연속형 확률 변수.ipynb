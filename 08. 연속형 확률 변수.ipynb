{
 "cells": [
  {
   "cell_type": "markdown",
   "id": "f94ac5cd",
   "metadata": {},
   "source": [
    "## 연속형 확률 변수\n",
    "- 확률변수가 취할 수 있는 값이 연속적인 확률변수\n",
    "- 특정 값을 취하는 확률은 정의되지 않음\n",
    "- 확률변수가 어느 구간에 들어가는가에 대한 확률을 정의\n",
    "\n",
    "- [예] 룰렛 :\n",
    "    - 취할 수 있는 값이 0부터 1사이의 실수\n",
    "    - 큰 수이면 나오기 쉬어지는 불공정한 구조\n",
    "    - 0.5라는 값을 취할 확률 0\n",
    "    - 정확하게 0.500000...을 취할 가능성을 없을므로 확률은 0ㅡ"
   ]
  },
  {
   "cell_type": "markdown",
   "id": "c51b38b5",
   "metadata": {},
   "source": [
    "## 확률 밀도 함수\n",
    "- 확률 변수가 취할 수 있는 값은 구간[a,b]\n",
    "- 확률 밀도함수 (PDF) 또는 밀도함수 f(X)로 정의\n",
    "- 어떤 특정 값을 취하는 확률로는 정의되지 않음\n",
    "    - 𝑓(𝑥) ≠𝑃(𝑋=𝑥)\n",
    "![](../picture/밀도적분.png)\n",
    "\n",
    "- 이 적분은 밀도함수 f(x)와 x축 그리고 두 직선 x=x0, x=x1로 둘러 싸인 영역의 면적으로 해설할 수 있고, 그림에서 칠해진 면적이 확률 P임"
   ]
  },
  {
   "cell_type": "code",
   "execution_count": 2,
   "id": "eba4af63",
   "metadata": {},
   "outputs": [],
   "source": [
    "import numpy as np\n",
    "import matplotlib.pyplot as plt\n",
    "\n",
    "%precision 3\n",
    "%matplotlib inline\n"
   ]
  },
  {
   "cell_type": "code",
   "execution_count": 3,
   "id": "6125b05a",
   "metadata": {},
   "outputs": [],
   "source": [
    "from scipy import integrate\n",
    "import warnings\n",
    "\n",
    "# 적분에 관한 warning을 출력하지 않도록 한다\n",
    "warnings.filterwarnings('ignore',\n",
    "                        category=integrate.IntegrationWarning)\n"
   ]
  },
  {
   "cell_type": "code",
   "execution_count": 4,
   "id": "36ff8be8",
   "metadata": {},
   "outputs": [],
   "source": [
    "from IPython.core.interactiveshell import InteractiveShell\n",
    "InteractiveShell.ast_node_interactivity=\"all\"\n"
   ]
  },
  {
   "cell_type": "markdown",
   "id": "9f66b061",
   "metadata": {},
   "source": [
    "## 불공정한 룰렛을 들어 코드 구현\n",
    "\n",
    "- [예] 룰렛 :\n",
    "    - 취할 수 있는 값이 0부터 1사이의 실수\n",
    "    - 큰 수이면 나오기 쉬어지는 불공정한 구조"
   ]
  },
  {
   "cell_type": "code",
   "execution_count": 5,
   "id": "787102ad",
   "metadata": {},
   "outputs": [],
   "source": [
    "# 취할수 있는 값의 구간 정의\n",
    "x_range = np.array([0,1])"
   ]
  },
  {
   "cell_type": "markdown",
   "id": "91c2c350",
   "metadata": {},
   "source": [
    "- x_range를 정의역으로 하는 밀도함수를 구현\n",
    "    - 불공정한 룰렛은 큰 값일수록 나오기 쉽기 때문에 아래와 같은 밀도함수로 정의\n",
    "![](../picture/룰렛밀도함수.png)"
   ]
  },
  {
   "cell_type": "code",
   "execution_count": 7,
   "id": "a580fd99",
   "metadata": {},
   "outputs": [],
   "source": [
    "def f(x):\n",
    "    if x_range[0] <= x<= x_range[1]:\n",
    "            return 2*x\n",
    "    else:\n",
    "        return 0"
   ]
  },
  {
   "cell_type": "code",
   "execution_count": 8,
   "id": "1d89c4ca",
   "metadata": {},
   "outputs": [
    {
     "data": {
      "text/plain": [
       "0.800"
      ]
     },
     "execution_count": 8,
     "metadata": {},
     "output_type": "execute_result"
    }
   ],
   "source": [
    "f(0.4)\n",
    "# 이 식은 0.4가 나올 확률이 아님\n",
    "# 연속형 이므로 두 구간 경계 위치값을 함수를 통해 면적을 그린 후 해당 면적을 적분으로 구하면\n",
    "# 반환되는 값이 두 군간 범위의 확률"
   ]
  },
  {
   "cell_type": "code",
   "execution_count": 78,
   "id": "34fe13a4",
   "metadata": {},
   "outputs": [],
   "source": [
    "# 확률변수 X를 정의\n",
    "X = [x_range, f]"
   ]
  },
  {
   "cell_type": "markdown",
   "id": "8c09bbd9",
   "metadata": {},
   "source": [
    "- 위에서 작성한 밀도함수 f(x)를 그래프로 그림\n",
    "    - 확률의 이미지를 쉽게 전달하기위해 f(x)와 x축, 두 직선=0.4, x=0.6의 영역에 색을 적용\n",
    "    - (불공정한 룰렛이 0.4부터 0.6사이의 값을 취할 확률)\n"
   ]
  },
  {
   "cell_type": "code",
   "execution_count": 17,
   "id": "fbfc4dc0",
   "metadata": {},
   "outputs": [
    {
     "data": {
      "text/plain": [
       "array([0.   , 0.01 , 0.02 , 0.03 , 0.04 , 0.051, 0.061, 0.071, 0.081,\n",
       "       0.091, 0.101, 0.111, 0.121, 0.131, 0.141, 0.152, 0.162, 0.172,\n",
       "       0.182, 0.192, 0.202, 0.212, 0.222, 0.232, 0.242, 0.253, 0.263,\n",
       "       0.273, 0.283, 0.293, 0.303, 0.313, 0.323, 0.333, 0.343, 0.354,\n",
       "       0.364, 0.374, 0.384, 0.394, 0.404, 0.414, 0.424, 0.434, 0.444,\n",
       "       0.455, 0.465, 0.475, 0.485, 0.495, 0.505, 0.515, 0.525, 0.535,\n",
       "       0.545, 0.556, 0.566, 0.576, 0.586, 0.596, 0.606, 0.616, 0.626,\n",
       "       0.636, 0.646, 0.657, 0.667, 0.677, 0.687, 0.697, 0.707, 0.717,\n",
       "       0.727, 0.737, 0.747, 0.758, 0.768, 0.778, 0.788, 0.798, 0.808,\n",
       "       0.818, 0.828, 0.838, 0.848, 0.859, 0.869, 0.879, 0.889, 0.899,\n",
       "       0.909, 0.919, 0.929, 0.939, 0.949, 0.96 , 0.97 , 0.98 , 0.99 ,\n",
       "       1.   ])"
      ]
     },
     "execution_count": 17,
     "metadata": {},
     "output_type": "execute_result"
    },
    {
     "data": {
      "text/plain": [
       "[<matplotlib.lines.Line2D at 0x220d84d8070>]"
      ]
     },
     "execution_count": 17,
     "metadata": {},
     "output_type": "execute_result"
    },
    {
     "data": {
      "text/plain": [
       "<matplotlib.collections.LineCollection at 0x220d84d8100>"
      ]
     },
     "execution_count": 17,
     "metadata": {},
     "output_type": "execute_result"
    },
    {
     "data": {
      "text/plain": [
       "<matplotlib.collections.LineCollection at 0x220d84d83a0>"
      ]
     },
     "execution_count": 17,
     "metadata": {},
     "output_type": "execute_result"
    },
    {
     "data": {
      "text/plain": [
       "<matplotlib.collections.LineCollection at 0x220d84d8790>"
      ]
     },
     "execution_count": 17,
     "metadata": {},
     "output_type": "execute_result"
    },
    {
     "data": {
      "text/plain": [
       "<matplotlib.collections.PolyCollection at 0x220d84d8dc0>"
      ]
     },
     "execution_count": 17,
     "metadata": {},
     "output_type": "execute_result"
    },
    {
     "data": {
      "text/plain": [
       "[<matplotlib.axis.XTick at 0x220d7bbbc70>,\n",
       " <matplotlib.axis.XTick at 0x220d7bbbc40>,\n",
       " <matplotlib.axis.XTick at 0x220d84407c0>,\n",
       " <matplotlib.axis.XTick at 0x220d84f3520>,\n",
       " <matplotlib.axis.XTick at 0x220d84f3a30>,\n",
       " <matplotlib.axis.XTick at 0x220d84f3f40>,\n",
       " <matplotlib.axis.XTick at 0x220d78b2490>,\n",
       " <matplotlib.axis.XTick at 0x220d78b29a0>,\n",
       " <matplotlib.axis.XTick at 0x220d78b2eb0>,\n",
       " <matplotlib.axis.XTick at 0x220d78b2190>,\n",
       " <matplotlib.axis.XTick at 0x220d84f31f0>,\n",
       " <matplotlib.axis.XTick at 0x220d78b4400>,\n",
       " <matplotlib.axis.XTick at 0x220d78b4910>,\n",
       " <matplotlib.axis.XTick at 0x220d78b4e20>,\n",
       " <matplotlib.axis.XTick at 0x220d78c1370>]"
      ]
     },
     "execution_count": 17,
     "metadata": {},
     "output_type": "execute_result"
    },
    {
     "data": {
      "text/plain": [
       "(-0.100, 1.100)"
      ]
     },
     "execution_count": 17,
     "metadata": {},
     "output_type": "execute_result"
    },
    {
     "data": {
      "text/plain": [
       "(-0.200, 2.100)"
      ]
     },
     "execution_count": 17,
     "metadata": {},
     "output_type": "execute_result"
    },
    {
     "data": {
      "text/plain": [
       "<matplotlib.legend.Legend at 0x220d78b4eb0>"
      ]
     },
     "execution_count": 17,
     "metadata": {},
     "output_type": "execute_result"
    },
    {
     "data": {
      "image/png": "[encoded data removed]",
      "text/plain": [
       "<Figure size 720x432 with 1 Axes>"
      ]
     },
     "metadata": {
      "needs_background": "light"
     },
     "output_type": "display_data"
    }
   ],
   "source": [
    "xs = np.linspace(x_range[0], x_range[1], 100)\n",
    "xs\n",
    "\n",
    "fig = plt.figure(figsize=(10, 6))\n",
    "ax = fig.add_subplot(111)\n",
    "\n",
    "# 확률함수 그래프\n",
    "ax.plot(xs, [f(x) for x in xs], label='f(x)', color='gray') # [f(x) for x in xs] : y값 의미\n",
    "\n",
    "\n",
    "\n",
    "#ax.hlines(y, xmin, xmax, alpha=)\n",
    "ax.hlines(0, -0.2, 1.2, alpha=0.3)\n",
    "\n",
    "#ax.vlines(x, ymin, ymax, alpha=)\n",
    "ax.vlines(0, -0.2, 2.2, alpha=0.3)\n",
    "ax.vlines(xs.max(), 0, 2.2, linestyles=':', color='gray')\n",
    "\n",
    "\n",
    "# 0.4부터 0.6까지 x좌표를 준비\n",
    "xs_p = np.linspace(0.4,0.6,100)\n",
    "#xs_p의 범위로 f(x)와 x축으로 둘러 싸인 영역을 진하게 칠함\n",
    "ax.fill_between(xs_p,[f(x) for x in xs_p], label='prob')\n",
    "\n",
    "\n",
    "ax.set_xticks(np.arange(-0.2, 1.3, 0.1))\n",
    "ax.set_xlim(-0.1, 1.1)\n",
    "ax.set_ylim(-0.2, 2.1)\n",
    "ax.legend()\n",
    "\n",
    "plt.show()\n"
   ]
  },
  {
   "cell_type": "markdown",
   "id": "32ce47d7",
   "metadata": {},
   "source": [
    "## plt.fill_between() 함수"
   ]
  },
  {
   "cell_type": "code",
   "execution_count": 18,
   "id": "27956147",
   "metadata": {},
   "outputs": [
    {
     "data": {
      "text/plain": [
       "[<matplotlib.lines.Line2D at 0x220d7cad940>]"
      ]
     },
     "execution_count": 18,
     "metadata": {},
     "output_type": "execute_result"
    },
    {
     "data": {
      "text/plain": [
       "Text(0.5, 0, 'X-Label')"
      ]
     },
     "execution_count": 18,
     "metadata": {},
     "output_type": "execute_result"
    },
    {
     "data": {
      "text/plain": [
       "Text(0, 0.5, 'Y-Label')"
      ]
     },
     "execution_count": 18,
     "metadata": {},
     "output_type": "execute_result"
    },
    {
     "data": {
      "text/plain": [
       "<matplotlib.collections.PolyCollection at 0x220d7cadbb0>"
      ]
     },
     "execution_count": 18,
     "metadata": {},
     "output_type": "execute_result"
    },
    {
     "data": {
      "text/plain": [
       "([2, 3], [4, 9])"
      ]
     },
     "execution_count": 18,
     "metadata": {},
     "output_type": "execute_result"
    },
    {
     "data": {
      "image/png": "[encoded data removed]",
      "text/plain": [
       "<Figure size 432x288 with 1 Axes>"
      ]
     },
     "metadata": {
      "needs_background": "light"
     },
     "output_type": "display_data"
    }
   ],
   "source": [
    "import matplotlib.pyplot as plt\n",
    "\n",
    "x = [1, 2, 3, 4]\n",
    "y = [1, 4, 9, 16]\n",
    "\n",
    "plt.plot(x, y)\n",
    "plt.xlabel('X-Label')\n",
    "plt.ylabel('Y-Label')\n",
    "plt.fill_between(x[1:3], y[1:3], alpha=0.5)                   ## fill_between() 사용\n",
    "x[1:3], y[1:3]\n",
    "# 네 점 (x[1], y[1]), (x[2], y[2]), (x[1], 0), (x[2], 0)을 잇는 영역이 채워짐\n",
    "\n",
    "plt.show()\n"
   ]
  },
  {
   "cell_type": "markdown",
   "id": "9b2e33c7",
   "metadata": {},
   "source": [
    "## 연속형 확률변수의 확률의 성질"
   ]
  },
  {
   "cell_type": "markdown",
   "id": "b5881830",
   "metadata": {},
   "source": [
    "![](../picture/확률성질.png)"
   ]
  },
  {
   "cell_type": "markdown",
   "id": "bbe3bd55",
   "metadata": {},
   "source": [
    "## 연속형 확률변수 첫번째 성질 -  함수 f(x) >= 0\n",
    "- 위 성질을 확인하기 위해서는 minmize_scalar 함수 사용\n",
    "- minimize_scalar(함수) : 함수를 실행한 결과값이 최소가 되는 x값과 최소결과 y를 반환"
   ]
  },
  {
   "cell_type": "code",
   "execution_count": 25,
   "id": "fb5a54b4",
   "metadata": {},
   "outputs": [
    {
     "data": {
      "text/plain": [
       "1.5"
      ]
     },
     "execution_count": 25,
     "metadata": {},
     "output_type": "execute_result"
    },
    {
     "data": {
      "text/plain": [
       "0.5"
      ]
     },
     "execution_count": 25,
     "metadata": {},
     "output_type": "execute_result"
    },
    {
     "data": {
      "text/plain": [
       "0.500"
      ]
     },
     "execution_count": 25,
     "metadata": {},
     "output_type": "execute_result"
    }
   ],
   "source": [
    "from scipy.optimize import minimize_scalar\n",
    "\n",
    "def func(x):\n",
    "    return (x-1.5)**2 + 0.5\n",
    "\n",
    "res = minimize_scalar(func)\n",
    "res.x # 최소값을 만들어낸 x값\n",
    "res.fun # 함수가 만들어낼 수 있는 최소값\n",
    "\n",
    "func(1.5)"
   ]
  },
  {
   "cell_type": "code",
   "execution_count": 24,
   "id": "05f232f6",
   "metadata": {},
   "outputs": [],
   "source": [
    "# 위에서 생성해 놓은 불공정 룰렛의 확률함수\n",
    "def f(x):\n",
    "    if x_range[0] <= x <= x_range[1]:\n",
    "        return 2 * x\n",
    "    else:\n",
    "        return 0\n"
   ]
  },
  {
   "cell_type": "code",
   "execution_count": 27,
   "id": "72ef5a9c",
   "metadata": {},
   "outputs": [
    {
     "data": {
      "text/plain": [
       "-1.6180339754913822"
      ]
     },
     "execution_count": 27,
     "metadata": {},
     "output_type": "execute_result"
    },
    {
     "data": {
      "text/plain": [
       "0"
      ]
     },
     "execution_count": 27,
     "metadata": {},
     "output_type": "execute_result"
    }
   ],
   "source": [
    "from scipy.optimize import minimize_scalar\n",
    "\n",
    "res = minimize_scalar(f)\n",
    "res.x\n",
    "res.fun # 0이 반환되므로 첫번째 확률의 성징을 만족"
   ]
  },
  {
   "cell_type": "markdown",
   "id": "ae196569",
   "metadata": {},
   "source": [
    "- 위  연산의 확인으로 인해 f(x)>= 0 의 연속형 확률변수의 성질이 만족됨"
   ]
  },
  {
   "cell_type": "markdown",
   "id": "87cfaade",
   "metadata": {},
   "source": [
    "## 연속형 확률변수 두번째 성질\n",
    "\n",
    "![](../picture/확률성질2.png)"
   ]
  },
  {
   "attachments": {},
   "cell_type": "markdown",
   "id": "72eb2e6e",
   "metadata": {},
   "source": [
    "![](../picture/20210722_111314.png)\n"
   ]
  },
  {
   "cell_type": "markdown",
   "id": "c7183cbd",
   "metadata": {},
   "source": [
    "- 두번째 f(x)를 －∞ 부터 ∞ 까지 적분한 결과가 1이라는 것은 위 그림에서 삼각형의 면적이 1이 되는 것과 같다\n",
    "    - 이 삼각형은 밑변의 길이가 1, 높이가 2 이므로 면적이 1이라는 것을 간단히 알 수 있음\n"
   ]
  },
  {
   "cell_type": "markdown",
   "id": "c676c167",
   "metadata": {},
   "source": [
    "## 연속형 확률변수 두번째 성질인 수치적분 함수를 사용해 만족 여부 확인"
   ]
  },
  {
   "cell_type": "markdown",
   "id": "3c36fd0a",
   "metadata": {},
   "source": [
    "## quad() - 수치적분  함수\n",
    "\n",
    "- **수치적분(numerical integration)**은 함수를 아주 작은 구간으로 나누어 실제 면적을 계산함으로써 정적분의 값을 구하는 방법이다. \n",
    "- Scipy의 integrate 서브패키지의 quad 명령으로 수치적분을 할 수 있다.\n",
    "\n",
    "- 첫 번째 인수는 피적분함수、두 번째 인수와 세 번째 인수는 적분 범위\n",
    "- 첫번째 반환값이 수치 적분으로 얻어진 결과이며, 두번째의 값은 추정 오차\n"
   ]
  },
  {
   "cell_type": "code",
   "execution_count": 32,
   "id": "fc86f85e",
   "metadata": {},
   "outputs": [
    {
     "data": {
      "text/plain": [
       "(1.000, 0.000)"
      ]
     },
     "execution_count": 32,
     "metadata": {},
     "output_type": "execute_result"
    }
   ],
   "source": [
    "# 두번째 성징르 적분 계산으로 확인\n",
    "# -무한대와 +무한대는 np.inf\n",
    "\n",
    "integrate.quad(f,-np.inf,np.inf) # 결과값 1"
   ]
  },
  {
   "cell_type": "markdown",
   "id": "dfdd3951",
   "metadata": {},
   "source": [
    "![](../picture/20210722_111314.png)\n"
   ]
  },
  {
   "cell_type": "markdown",
   "id": "2b8a9ba6",
   "metadata": {},
   "source": [
    "- 위 사다리꼴 영역을 적분으로 구하는 식\n",
    "![](../picture/적분식.png)"
   ]
  },
  {
   "cell_type": "code",
   "execution_count": 36,
   "id": "3be62320",
   "metadata": {},
   "outputs": [
    {
     "data": {
      "text/plain": [
       "(0.200, 0.000)"
      ]
     },
     "execution_count": 36,
     "metadata": {},
     "output_type": "execute_result"
    }
   ],
   "source": [
    "# 2x는 함수 f(x)가 구현하고 있음\n",
    "integrate.quad(f,0.4,0.6)\n",
    "\n",
    "# 적분값이 0.200이므로 0.4에서 0.6이 나타날 확률은 0.2"
   ]
  },
  {
   "cell_type": "markdown",
   "id": "f5076468",
   "metadata": {},
   "source": [
    "## 누적 분포 함수\n",
    "- X가 x이하가 될 때 확률을 반환하는 함수\n",
    "![](../picture/누적분.png)"
   ]
  },
  {
   "cell_type": "code",
   "execution_count": 40,
   "id": "a74bc870",
   "metadata": {},
   "outputs": [],
   "source": [
    "## 분포함수 구현\n",
    "\n",
    "def F(x):\n",
    "    return integrate.quad(f,-np.inf,x)[0] #[0]적분함수는 값을 2개를 반환함"
   ]
  },
  {
   "cell_type": "markdown",
   "id": "f0627057",
   "metadata": {},
   "source": [
    "- 룰렛 0.4에서 0.6 사이의 값을 취할 활률\n",
    "![](../picture/누적분2.png)"
   ]
  },
  {
   "cell_type": "code",
   "execution_count": 70,
   "id": "e46264a7",
   "metadata": {},
   "outputs": [
    {
     "data": {
      "text/plain": [
       "0.200"
      ]
     },
     "execution_count": 70,
     "metadata": {},
     "output_type": "execute_result"
    }
   ],
   "source": [
    "F(0.6) - F(0.4)"
   ]
  },
  {
   "cell_type": "markdown",
   "id": "b04981f5",
   "metadata": {},
   "source": [
    "- 위 분포 함수 F(x)를 그래프로 그려보면 반드시 단조 증가함수(x가 증가할 때 y는 감소하지 않는 함수)가 됨\n"
   ]
  },
  {
   "cell_type": "code",
   "execution_count": 71,
   "id": "d4d7f58e",
   "metadata": {},
   "outputs": [
    {
     "data": {
      "text/plain": [
       "[<matplotlib.lines.Line2D at 0x220d8088850>]"
      ]
     },
     "execution_count": 71,
     "metadata": {},
     "output_type": "execute_result"
    },
    {
     "data": {
      "text/plain": [
       "<matplotlib.collections.LineCollection at 0x220d80888b0>"
      ]
     },
     "execution_count": 71,
     "metadata": {},
     "output_type": "execute_result"
    },
    {
     "data": {
      "text/plain": [
       "<matplotlib.collections.LineCollection at 0x220d8088b80>"
      ]
     },
     "execution_count": 71,
     "metadata": {},
     "output_type": "execute_result"
    },
    {
     "data": {
      "text/plain": [
       "<matplotlib.collections.LineCollection at 0x220d8091160>"
      ]
     },
     "execution_count": 71,
     "metadata": {},
     "output_type": "execute_result"
    },
    {
     "data": {
      "text/plain": [
       "[<matplotlib.axis.XTick at 0x220d80734c0>,\n",
       " <matplotlib.axis.XTick at 0x220d8073490>,\n",
       " <matplotlib.axis.XTick at 0x220d8077df0>,\n",
       " <matplotlib.axis.XTick at 0x220d80919a0>,\n",
       " <matplotlib.axis.XTick at 0x220d8091eb0>,\n",
       " <matplotlib.axis.XTick at 0x220d809c400>,\n",
       " <matplotlib.axis.XTick at 0x220d809c910>,\n",
       " <matplotlib.axis.XTick at 0x220d8091520>,\n",
       " <matplotlib.axis.XTick at 0x220d8043940>,\n",
       " <matplotlib.axis.XTick at 0x220d85f6ee0>,\n",
       " <matplotlib.axis.XTick at 0x220d85f6bb0>,\n",
       " <matplotlib.axis.XTick at 0x220d78f5730>,\n",
       " <matplotlib.axis.XTick at 0x220d7810c70>]"
      ]
     },
     "execution_count": 71,
     "metadata": {},
     "output_type": "execute_result"
    },
    {
     "data": {
      "text/plain": [
       "(-0.100, 1.100)"
      ]
     },
     "execution_count": 71,
     "metadata": {},
     "output_type": "execute_result"
    },
    {
     "data": {
      "text/plain": [
       "(-0.100, 1.100)"
      ]
     },
     "execution_count": 71,
     "metadata": {},
     "output_type": "execute_result"
    },
    {
     "data": {
      "text/plain": [
       "<matplotlib.legend.Legend at 0x220d8091490>"
      ]
     },
     "execution_count": 71,
     "metadata": {},
     "output_type": "execute_result"
    },
    {
     "data": {
      "image/png": "[encoded data removed]",
      "text/plain": [
       "<Figure size 720x432 with 1 Axes>"
      ]
     },
     "metadata": {
      "needs_background": "light"
     },
     "output_type": "display_data"
    }
   ],
   "source": [
    "# 단조 증가 함수확인\n",
    "\n",
    "xs = np.linspace(x_range[0], x_range[1], 100)\n",
    "\n",
    "fig = plt.figure(figsize=(10, 6))\n",
    "ax = fig.add_subplot(111)\n",
    "\n",
    "ax.plot(xs, [F(x) for x in xs], label='F(x)', color='gray')\n",
    "ax.hlines(0, -0.1, 1.1, alpha=0.3)\n",
    "ax.vlines(0, -0.1, 1.1, alpha=0.3)\n",
    "ax.vlines(xs.max(), 0, 1, linestyles=':', color='gray')\n",
    "\n",
    "ax.set_xticks(np.arange(-0.1, 1.2, 0.1))\n",
    "ax.set_xlim(-0.1, 1.1)\n",
    "ax.set_ylim(-0.1, 1.1)\n",
    "ax.legend()\n",
    "\n",
    "plt.show()\n"
   ]
  },
  {
   "cell_type": "markdown",
   "id": "ccc7d025",
   "metadata": {},
   "source": [
    "## 연속형 확률분포의 지표\n",
    "- 평균 - 기대갑스\n",
    "![](../picture/연속기대.png)"
   ]
  },
  {
   "cell_type": "code",
   "execution_count": 72,
   "id": "edb24cb5",
   "metadata": {},
   "outputs": [],
   "source": [
    "# 위에서 생성해 놓은 불공정 룰렛의 확률함수\n",
    "def f(x):\n",
    "    if x_range[0] <= x <= x_range[1]:\n",
    "        return 2 * x\n",
    "    else:\n",
    "        return 0\n"
   ]
  },
  {
   "cell_type": "code",
   "execution_count": 73,
   "id": "4be56bbd",
   "metadata": {},
   "outputs": [
    {
     "data": {
      "text/plain": [
       "0.667"
      ]
     },
     "execution_count": 73,
     "metadata": {},
     "output_type": "execute_result"
    }
   ],
   "source": [
    "def integrand(x): # 계산 결과를 반환하는 함수\n",
    "    return x*f(x)\n",
    "\n",
    "integrate.quad(integrand, -np.inf, np.inf)[0]"
   ]
  },
  {
   "cell_type": "code",
   "execution_count": 85,
   "id": "c1e07945",
   "metadata": {},
   "outputs": [],
   "source": [
    "# 확률변수 X를 정의\n",
    "X = [x_range, f]"
   ]
  },
  {
   "cell_type": "code",
   "execution_count": 80,
   "id": "b02987f3",
   "metadata": {},
   "outputs": [],
   "source": [
    "def E(X, g=lambda x: x) :\n",
    "    x_range, f = X\n",
    "    def integrand(x) : # (x(fx)) 계산 결과를 반환하는 함수\n",
    "        return g(x)* f(x)\n",
    "    return integrate.quad(integrand, -np.inf, np.inf)[0]\n"
   ]
  },
  {
   "cell_type": "code",
   "execution_count": 84,
   "id": "6cc1c68b",
   "metadata": {},
   "outputs": [
    {
     "data": {
      "text/plain": [
       "0.667"
      ]
     },
     "execution_count": 84,
     "metadata": {},
     "output_type": "execute_result"
    }
   ],
   "source": [
    "E(X)"
   ]
  },
  {
   "cell_type": "code",
   "execution_count": 89,
   "id": "fcaf48b5",
   "metadata": {},
   "outputs": [
    {
     "data": {
      "text/plain": [
       "4.333"
      ]
     },
     "execution_count": 89,
     "metadata": {},
     "output_type": "execute_result"
    }
   ],
   "source": [
    "E(X, g=lambda x : 2*x+3)"
   ]
  },
  {
   "cell_type": "code",
   "execution_count": 90,
   "id": "6ff4b7ab",
   "metadata": {},
   "outputs": [
    {
     "data": {
      "text/plain": [
       "4.333"
      ]
     },
     "execution_count": 90,
     "metadata": {},
     "output_type": "execute_result"
    }
   ],
   "source": [
    "2*E(X) + 3"
   ]
  },
  {
   "cell_type": "markdown",
   "id": "7e68ce50",
   "metadata": {},
   "source": [
    "## 분산\n",
    "- μ 는 확률변수 X의 기대값\n",
    "![](../picture/분산.png)\n"
   ]
  },
  {
   "cell_type": "code",
   "execution_count": 98,
   "id": "fbbb6d96",
   "metadata": {},
   "outputs": [
    {
     "data": {
      "text/plain": [
       "0.056"
      ]
     },
     "execution_count": 98,
     "metadata": {},
     "output_type": "execute_result"
    }
   ],
   "source": [
    "# 확률변수 X에 대한 분산계산\n",
    "mean = E(X) # 확률변수에 X에 대한 rleorkqt\n",
    "\n",
    "def integrand(x):\n",
    "    return (x-mean)**2 * f(x)\n",
    "\n",
    "integrate.quad(integrand, -np.inf, np.inf)[0]"
   ]
  },
  {
   "cell_type": "markdown",
   "id": "057408d7",
   "metadata": {},
   "source": [
    "![](../picture/분산식.png)"
   ]
  },
  {
   "cell_type": "code",
   "execution_count": 105,
   "id": "5640a91f",
   "metadata": {},
   "outputs": [],
   "source": [
    "# 위의 식 함수 구현\n",
    "def V(X, g=lambda x:x):\n",
    "    x_range, f=X\n",
    "    mean = E(X,g)\n",
    "    \n",
    "    def integrand(x):\n",
    "        return (g(x)-mean)**2 *f(x)\n",
    "    \n",
    "    return integrate.quad(integrand, -np.inf, np.inf)[0] #적분값은 첫번째 인수로 반환되서\n"
   ]
  },
  {
   "cell_type": "code",
   "execution_count": 106,
   "id": "777c08bd",
   "metadata": {},
   "outputs": [
    {
     "data": {
      "text/plain": [
       "0.056"
      ]
     },
     "execution_count": 106,
     "metadata": {},
     "output_type": "execute_result"
    }
   ],
   "source": [
    "V(X)"
   ]
  },
  {
   "cell_type": "code",
   "execution_count": 107,
   "id": "9d34f7e0",
   "metadata": {},
   "outputs": [
    {
     "data": {
      "text/plain": [
       "0.222"
      ]
     },
     "execution_count": 107,
     "metadata": {},
     "output_type": "execute_result"
    }
   ],
   "source": [
    "#확률변환변수의 식\n",
    "V(X, lambda x: 2*x+3)"
   ]
  },
  {
   "cell_type": "code",
   "execution_count": null,
   "id": "ba9d49e8",
   "metadata": {},
   "outputs": [],
   "source": [
    "#이산형 확률 변수에서 확인했던 분산의 성질은 연속형 확률 변수에도 적용\n",
    "#성질에 따라 아래 수식으로도 계산 가능"
   ]
  },
  {
   "cell_type": "code",
   "execution_count": 108,
   "id": "946d2bf2",
   "metadata": {},
   "outputs": [
    {
     "data": {
      "text/plain": [
       "0.222"
      ]
     },
     "execution_count": 108,
     "metadata": {},
     "output_type": "execute_result"
    }
   ],
   "source": [
    "2**2*V(X)"
   ]
  },
  {
   "cell_type": "code",
   "execution_count": null,
   "id": "2bf740d3",
   "metadata": {},
   "outputs": [],
   "source": []
  },
  {
   "cell_type": "code",
   "execution_count": null,
   "id": "b207d409",
   "metadata": {},
   "outputs": [],
   "source": []
  },
  {
   "cell_type": "code",
   "execution_count": null,
   "id": "7c7e0c0c",
   "metadata": {},
   "outputs": [],
   "source": []
  },
  {
   "cell_type": "code",
   "execution_count": null,
   "id": "3ecbe69e",
   "metadata": {},
   "outputs": [],
   "source": []
  },
  {
   "cell_type": "code",
   "execution_count": null,
   "id": "0c7c29e5",
   "metadata": {},
   "outputs": [],
   "source": []
  },
  {
   "cell_type": "code",
   "execution_count": null,
   "id": "62a3e73b",
   "metadata": {},
   "outputs": [],
   "source": []
  },
  {
   "cell_type": "code",
   "execution_count": null,
   "id": "8f20a076",
   "metadata": {},
   "outputs": [],
   "source": []
  },
  {
   "cell_type": "code",
   "execution_count": null,
   "id": "760a08da",
   "metadata": {},
   "outputs": [],
   "source": []
  },
  {
   "cell_type": "code",
   "execution_count": null,
   "id": "f54a29b2",
   "metadata": {},
   "outputs": [],
   "source": []
  },
  {
   "cell_type": "code",
   "execution_count": null,
   "id": "4847a2e7",
   "metadata": {},
   "outputs": [],
   "source": []
  },
  {
   "cell_type": "code",
   "execution_count": null,
   "id": "b7d267d2",
   "metadata": {},
   "outputs": [],
   "source": []
  },
  {
   "cell_type": "code",
   "execution_count": null,
   "id": "eabee1ba",
   "metadata": {},
   "outputs": [],
   "source": []
  },
  {
   "cell_type": "code",
   "execution_count": null,
   "id": "7ae6cc5d",
   "metadata": {},
   "outputs": [],
   "source": []
  },
  {
   "cell_type": "code",
   "execution_count": null,
   "id": "43760b0d",
   "metadata": {},
   "outputs": [],
   "source": []
  },
  {
   "cell_type": "code",
   "execution_count": null,
   "id": "0810a9af",
   "metadata": {},
   "outputs": [],
   "source": []
  },
  {
   "cell_type": "code",
   "execution_count": null,
   "id": "03c86452",
   "metadata": {},
   "outputs": [],
   "source": []
  },
  {
   "cell_type": "code",
   "execution_count": null,
   "id": "3cbf5878",
   "metadata": {},
   "outputs": [],
   "source": []
  },
  {
   "cell_type": "code",
   "execution_count": null,
   "id": "0ec99968",
   "metadata": {},
   "outputs": [],
   "source": []
  },
  {
   "cell_type": "code",
   "execution_count": null,
   "id": "16855adc",
   "metadata": {},
   "outputs": [],
   "source": []
  },
  {
   "cell_type": "code",
   "execution_count": null,
   "id": "6a5ddaf1",
   "metadata": {},
   "outputs": [],
   "source": []
  },
  {
   "cell_type": "code",
   "execution_count": null,
   "id": "1cd26302",
   "metadata": {},
   "outputs": [],
   "source": []
  },
  {
   "cell_type": "code",
   "execution_count": null,
   "id": "23ffc354",
   "metadata": {},
   "outputs": [],
   "source": []
  },
  {
   "cell_type": "code",
   "execution_count": null,
   "id": "f8bdf519",
   "metadata": {},
   "outputs": [],
   "source": []
  },
  {
   "cell_type": "code",
   "execution_count": null,
   "id": "08d7a844",
   "metadata": {},
   "outputs": [],
   "source": []
  },
  {
   "cell_type": "code",
   "execution_count": null,
   "id": "7d311383",
   "metadata": {},
   "outputs": [],
   "source": []
  },
  {
   "cell_type": "code",
   "execution_count": null,
   "id": "b58c73e5",
   "metadata": {},
   "outputs": [],
   "source": []
  },
  {
   "cell_type": "code",
   "execution_count": null,
   "id": "33206d16",
   "metadata": {},
   "outputs": [],
   "source": []
  },
  {
   "cell_type": "code",
   "execution_count": null,
   "id": "e9f58723",
   "metadata": {},
   "outputs": [],
   "source": []
  },
  {
   "cell_type": "code",
   "execution_count": null,
   "id": "e520c902",
   "metadata": {},
   "outputs": [],
   "source": []
  },
  {
   "cell_type": "code",
   "execution_count": null,
   "id": "71429f7d",
   "metadata": {},
   "outputs": [],
   "source": []
  },
  {
   "cell_type": "code",
   "execution_count": null,
   "id": "1b985d79",
   "metadata": {},
   "outputs": [],
   "source": []
  },
  {
   "cell_type": "code",
   "execution_count": null,
   "id": "39d1735a",
   "metadata": {},
   "outputs": [],
   "source": []
  },
  {
   "cell_type": "code",
   "execution_count": null,
   "id": "1d756035",
   "metadata": {},
   "outputs": [],
   "source": []
  },
  {
   "cell_type": "code",
   "execution_count": null,
   "id": "c1fe78fe",
   "metadata": {},
   "outputs": [],
   "source": []
  },
  {
   "cell_type": "code",
   "execution_count": null,
   "id": "c85d5e2a",
   "metadata": {},
   "outputs": [],
   "source": []
  },
  {
   "cell_type": "code",
   "execution_count": null,
   "id": "190cab03",
   "metadata": {},
   "outputs": [],
   "source": []
  },
  {
   "cell_type": "code",
   "execution_count": null,
   "id": "bdb2a4ef",
   "metadata": {},
   "outputs": [],
   "source": []
  },
  {
   "cell_type": "code",
   "execution_count": null,
   "id": "c9b95ac3",
   "metadata": {},
   "outputs": [],
   "source": []
  },
  {
   "cell_type": "code",
   "execution_count": null,
   "id": "ff5ada75",
   "metadata": {},
   "outputs": [],
   "source": []
  },
  {
   "cell_type": "code",
   "execution_count": null,
   "id": "a518835a",
   "metadata": {},
   "outputs": [],
   "source": []
  },
  {
   "cell_type": "code",
   "execution_count": null,
   "id": "1ad5bc9b",
   "metadata": {},
   "outputs": [],
   "source": []
  },
  {
   "cell_type": "code",
   "execution_count": null,
   "id": "1d6e524b",
   "metadata": {},
   "outputs": [],
   "source": []
  },
  {
   "cell_type": "code",
   "execution_count": null,
   "id": "beb7f955",
   "metadata": {},
   "outputs": [],
   "source": []
  },
  {
   "cell_type": "code",
   "execution_count": null,
   "id": "07c69317",
   "metadata": {},
   "outputs": [],
   "source": []
  },
  {
   "cell_type": "code",
   "execution_count": null,
   "id": "deae9922",
   "metadata": {},
   "outputs": [],
   "source": []
  },
  {
   "cell_type": "code",
   "execution_count": null,
   "id": "436cc029",
   "metadata": {},
   "outputs": [],
   "source": []
  },
  {
   "cell_type": "code",
   "execution_count": null,
   "id": "a9cb406f",
   "metadata": {},
   "outputs": [],
   "source": []
  },
  {
   "cell_type": "code",
   "execution_count": null,
   "id": "e88ee2dc",
   "metadata": {},
   "outputs": [],
   "source": []
  },
  {
   "cell_type": "code",
   "execution_count": null,
   "id": "e215c1b0",
   "metadata": {},
   "outputs": [],
   "source": []
  },
  {
   "cell_type": "code",
   "execution_count": null,
   "id": "a8294d82",
   "metadata": {},
   "outputs": [],
   "source": []
  },
  {
   "cell_type": "code",
   "execution_count": null,
   "id": "150c4a8c",
   "metadata": {},
   "outputs": [],
   "source": []
  },
  {
   "cell_type": "code",
   "execution_count": null,
   "id": "23ce0933",
   "metadata": {},
   "outputs": [],
   "source": []
  },
  {
   "cell_type": "code",
   "execution_count": null,
   "id": "55f9c67d",
   "metadata": {},
   "outputs": [],
   "source": []
  },
  {
   "cell_type": "code",
   "execution_count": null,
   "id": "9ef70858",
   "metadata": {},
   "outputs": [],
   "source": []
  },
  {
   "cell_type": "code",
   "execution_count": null,
   "id": "1bbfd635",
   "metadata": {},
   "outputs": [],
   "source": []
  },
  {
   "cell_type": "code",
   "execution_count": null,
   "id": "bd818a16",
   "metadata": {},
   "outputs": [],
   "source": []
  },
  {
   "cell_type": "code",
   "execution_count": null,
   "id": "1f0ecd03",
   "metadata": {},
   "outputs": [],
   "source": []
  },
  {
   "cell_type": "code",
   "execution_count": null,
   "id": "5209e420",
   "metadata": {},
   "outputs": [],
   "source": []
  },
  {
   "cell_type": "code",
   "execution_count": null,
   "id": "4f698e08",
   "metadata": {},
   "outputs": [],
   "source": []
  },
  {
   "cell_type": "code",
   "execution_count": null,
   "id": "28ea94a7",
   "metadata": {},
   "outputs": [],
   "source": []
  },
  {
   "cell_type": "code",
   "execution_count": null,
   "id": "3c6491f0",
   "metadata": {},
   "outputs": [],
   "source": []
  },
  {
   "cell_type": "code",
   "execution_count": null,
   "id": "9161ca7a",
   "metadata": {},
   "outputs": [],
   "source": []
  },
  {
   "cell_type": "code",
   "execution_count": null,
   "id": "59566ef7",
   "metadata": {},
   "outputs": [],
   "source": []
  },
  {
   "cell_type": "code",
   "execution_count": null,
   "id": "7e5aee7b",
   "metadata": {},
   "outputs": [],
   "source": []
  },
  {
   "cell_type": "code",
   "execution_count": null,
   "id": "131f842a",
   "metadata": {},
   "outputs": [],
   "source": []
  },
  {
   "cell_type": "code",
   "execution_count": null,
   "id": "ec2bf084",
   "metadata": {},
   "outputs": [],
   "source": []
  },
  {
   "cell_type": "code",
   "execution_count": null,
   "id": "0be5ecd1",
   "metadata": {},
   "outputs": [],
   "source": []
  },
  {
   "cell_type": "code",
   "execution_count": null,
   "id": "bf15aad2",
   "metadata": {},
   "outputs": [],
   "source": []
  },
  {
   "cell_type": "code",
   "execution_count": null,
   "id": "2bf23f69",
   "metadata": {},
   "outputs": [],
   "source": []
  },
  {
   "cell_type": "code",
   "execution_count": null,
   "id": "446c8a9a",
   "metadata": {},
   "outputs": [],
   "source": []
  },
  {
   "cell_type": "code",
   "execution_count": null,
   "id": "3326cbb1",
   "metadata": {},
   "outputs": [],
   "source": []
  },
  {
   "cell_type": "code",
   "execution_count": null,
   "id": "2a914fe5",
   "metadata": {},
   "outputs": [],
   "source": []
  },
  {
   "cell_type": "code",
   "execution_count": null,
   "id": "4f7b9831",
   "metadata": {},
   "outputs": [],
   "source": []
  },
  {
   "cell_type": "code",
   "execution_count": null,
   "id": "8feff4f4",
   "metadata": {},
   "outputs": [],
   "source": []
  },
  {
   "cell_type": "code",
   "execution_count": null,
   "id": "c5fa1fb4",
   "metadata": {},
   "outputs": [],
   "source": []
  },
  {
   "cell_type": "code",
   "execution_count": null,
   "id": "1bd5490c",
   "metadata": {},
   "outputs": [],
   "source": []
  },
  {
   "cell_type": "code",
   "execution_count": null,
   "id": "b3003bcf",
   "metadata": {},
   "outputs": [],
   "source": []
  },
  {
   "cell_type": "code",
   "execution_count": null,
   "id": "838ddb02",
   "metadata": {},
   "outputs": [],
   "source": []
  },
  {
   "cell_type": "code",
   "execution_count": null,
   "id": "4108aa54",
   "metadata": {},
   "outputs": [],
   "source": []
  },
  {
   "cell_type": "code",
   "execution_count": null,
   "id": "0319ed22",
   "metadata": {},
   "outputs": [],
   "source": []
  },
  {
   "cell_type": "code",
   "execution_count": null,
   "id": "44713b41",
   "metadata": {},
   "outputs": [],
   "source": []
  },
  {
   "cell_type": "code",
   "execution_count": null,
   "id": "28d4c132",
   "metadata": {},
   "outputs": [],
   "source": []
  },
  {
   "cell_type": "code",
   "execution_count": null,
   "id": "705a2785",
   "metadata": {},
   "outputs": [],
   "source": []
  },
  {
   "cell_type": "code",
   "execution_count": null,
   "id": "a265f6a3",
   "metadata": {},
   "outputs": [],
   "source": []
  },
  {
   "cell_type": "code",
   "execution_count": null,
   "id": "ae86b62c",
   "metadata": {},
   "outputs": [],
   "source": []
  },
  {
   "cell_type": "code",
   "execution_count": null,
   "id": "14fbd871",
   "metadata": {},
   "outputs": [],
   "source": []
  },
  {
   "cell_type": "code",
   "execution_count": null,
   "id": "51a8c1ee",
   "metadata": {},
   "outputs": [],
   "source": []
  },
  {
   "cell_type": "code",
   "execution_count": null,
   "id": "38ccd238",
   "metadata": {},
   "outputs": [],
   "source": []
  }
 ],
 "metadata": {
  "kernelspec": {
   "display_name": "Python 3",
   "language": "python",
   "name": "python3"
  },
  "language_info": {
   "codemirror_mode": {
    "name": "ipython",
    "version": 3
   },
   "file_extension": ".py",
   "mimetype": "text/x-python",
   "name": "python",
   "nbconvert_exporter": "python",
   "pygments_lexer": "ipython3",
   "version": "3.8.8"
  }
 },
 "nbformat": 4,
 "nbformat_minor": 5
}
