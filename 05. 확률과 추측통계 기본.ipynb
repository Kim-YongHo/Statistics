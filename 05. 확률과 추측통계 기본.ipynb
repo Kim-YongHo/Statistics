{
 "cells": [
  {
   "cell_type": "markdown",
   "id": "d87f46f5",
   "metadata": {},
   "source": [
    "## 추측통계의 기본\n",
    "- 추축통계 : 일부 데이터로 전체의 동계적 성질을 추측 (교재 p90)\n",
    "![](추측통계예시.png)\n",
    "    "
   ]
  },
  {
   "cell_type": "markdown",
   "id": "624d4f2a",
   "metadata": {},
   "source": [
    "## 모집단과 표본\n",
    "\n",
    "\n",
    "- 모집단(population) \n",
    "    - 조사 대상이 되는 관측 가능한 개체로 된 집단 전체(관심있는 집단)\n",
    "    \n",
    "    \n",
    "- 표본(sample)\n",
    "    - 모집단에서 선택된 모집단 구성단위의 일부\n",
    "\n",
    "![](모집단과표본.jpg)\n"
   ]
  },
  {
   "cell_type": "markdown",
   "id": "0cf1f43c",
   "metadata": {},
   "source": [
    "## 표본의 추출 방법\n",
    "- 무작위 추출(임의 추출) : 임의로 표본을 추출하는 방법\n",
    "- 복원 추출 : 여러 차례 동일한 표본이 선택될 수 있는 방법\n",
    "- 비복원 추출 : 동일한 표본은 한 번만 선택되는 방법"
   ]
  },
  {
   "cell_type": "code",
   "execution_count": 1,
   "id": "fbc0186e",
   "metadata": {},
   "outputs": [],
   "source": [
    "import numpy as np\n",
    "import pandas as pd\n",
    "import matplotlib.pyplot as plt\n",
    "\n",
    "%precision 3\n",
    "%matplotlib inline\n"
   ]
  },
  {
   "cell_type": "code",
   "execution_count": 2,
   "id": "cb24dfde",
   "metadata": {},
   "outputs": [],
   "source": [
    "# 콘솔에서 모든 출력 허용하기\n",
    "from IPython.core.interactiveshell import InteractiveShell\n",
    "InteractiveShell.ast_node_interactivity=\"all\""
   ]
  },
  {
   "cell_type": "code",
   "execution_count": 3,
   "id": "40aebdf3",
   "metadata": {},
   "outputs": [
    {
     "data": {
      "text/plain": [
       "array([76, 55, 80, 80, 74, 61, 81, 76, 23, 80], dtype=int64)"
      ]
     },
     "execution_count": 3,
     "metadata": {},
     "output_type": "execute_result"
    },
    {
     "data": {
      "text/html": [
       "<div>\n",
       "<style scoped>\n",
       "    .dataframe tbody tr th:only-of-type {\n",
       "        vertical-align: middle;\n",
       "    }\n",
       "\n",
       "    .dataframe tbody tr th {\n",
       "        vertical-align: top;\n",
       "    }\n",
       "\n",
       "    .dataframe thead th {\n",
       "        text-align: right;\n",
       "    }\n",
       "</style>\n",
       "<table border=\"1\" class=\"dataframe\">\n",
       "  <thead>\n",
       "    <tr style=\"text-align: right;\">\n",
       "      <th></th>\n",
       "      <th>score</th>\n",
       "    </tr>\n",
       "  </thead>\n",
       "  <tbody>\n",
       "    <tr>\n",
       "      <th>0</th>\n",
       "      <td>76</td>\n",
       "    </tr>\n",
       "    <tr>\n",
       "      <th>1</th>\n",
       "      <td>55</td>\n",
       "    </tr>\n",
       "    <tr>\n",
       "      <th>2</th>\n",
       "      <td>80</td>\n",
       "    </tr>\n",
       "    <tr>\n",
       "      <th>3</th>\n",
       "      <td>80</td>\n",
       "    </tr>\n",
       "    <tr>\n",
       "      <th>4</th>\n",
       "      <td>74</td>\n",
       "    </tr>\n",
       "    <tr>\n",
       "      <th>...</th>\n",
       "      <td>...</td>\n",
       "    </tr>\n",
       "    <tr>\n",
       "      <th>395</th>\n",
       "      <td>77</td>\n",
       "    </tr>\n",
       "    <tr>\n",
       "      <th>396</th>\n",
       "      <td>60</td>\n",
       "    </tr>\n",
       "    <tr>\n",
       "      <th>397</th>\n",
       "      <td>83</td>\n",
       "    </tr>\n",
       "    <tr>\n",
       "      <th>398</th>\n",
       "      <td>80</td>\n",
       "    </tr>\n",
       "    <tr>\n",
       "      <th>399</th>\n",
       "      <td>85</td>\n",
       "    </tr>\n",
       "  </tbody>\n",
       "</table>\n",
       "<p>400 rows × 1 columns</p>\n",
       "</div>"
      ],
      "text/plain": [
       "     score\n",
       "0       76\n",
       "1       55\n",
       "2       80\n",
       "3       80\n",
       "4       74\n",
       "..     ...\n",
       "395     77\n",
       "396     60\n",
       "397     83\n",
       "398     80\n",
       "399     85\n",
       "\n",
       "[400 rows x 1 columns]"
      ]
     },
     "execution_count": 3,
     "metadata": {},
     "output_type": "execute_result"
    }
   ],
   "source": [
    "df = pd.read_csv('../data/ch4_scores400.csv')\n",
    "scores = np.array(df['score'])\n",
    "scores[:10]\n",
    "df"
   ]
  },
  {
   "cell_type": "code",
   "execution_count": 4,
   "id": "7dc3f63c",
   "metadata": {},
   "outputs": [
    {
     "data": {
      "text/plain": [
       "array([2, 2, 1])"
      ]
     },
     "execution_count": 4,
     "metadata": {},
     "output_type": "execute_result"
    }
   ],
   "source": [
    "# 복원 추출\n",
    "np.random.choice([1,2,3],3)"
   ]
  },
  {
   "cell_type": "code",
   "execution_count": 5,
   "id": "cc5906f5",
   "metadata": {},
   "outputs": [
    {
     "data": {
      "text/plain": [
       "array([3, 2, 1])"
      ]
     },
     "execution_count": 5,
     "metadata": {},
     "output_type": "execute_result"
    }
   ],
   "source": [
    "# 복원 추출\n",
    "np.random.choice([1,2,3],3, replace=False)"
   ]
  },
  {
   "cell_type": "code",
   "execution_count": 6,
   "id": "76c53229",
   "metadata": {},
   "outputs": [
    {
     "data": {
      "text/plain": [
       "array([1, 2, 1])"
      ]
     },
     "execution_count": 6,
     "metadata": {},
     "output_type": "execute_result"
    }
   ],
   "source": [
    "np.random.seed(0) # 매번 동일한 sample 추출하기 위한 기본값 설정\n",
    "np.random.choice([1,2,3],3)"
   ]
  },
  {
   "cell_type": "markdown",
   "id": "8a791cdb",
   "metadata": {},
   "source": [
    "## 모집단(scores)에서 sample 추출"
   ]
  },
  {
   "cell_type": "code",
   "execution_count": 7,
   "id": "651cd2c8",
   "metadata": {},
   "outputs": [
    {
     "data": {
      "text/plain": [
       "70.4"
      ]
     },
     "execution_count": 7,
     "metadata": {},
     "output_type": "execute_result"
    }
   ],
   "source": [
    "np.random.seed(0)\n",
    "sample = np.random.choice(scores, 20)\n",
    "\n",
    "# 표본 평균\n",
    "sample.mean()\n"
   ]
  },
  {
   "cell_type": "code",
   "execution_count": 8,
   "id": "8606f83d",
   "metadata": {},
   "outputs": [
    {
     "data": {
      "text/plain": [
       "69.53"
      ]
     },
     "execution_count": 8,
     "metadata": {},
     "output_type": "execute_result"
    }
   ],
   "source": [
    "# 전체 데이터의 평균\n",
    "scores.mean()"
   ]
  },
  {
   "cell_type": "code",
   "execution_count": 9,
   "id": "f0a81ac7",
   "metadata": {},
   "outputs": [
    {
     "name": "stdout",
     "output_type": "stream",
     "text": [
      "1번째 무작위 추출로 얻은 표본평균 72.45\n",
      "2번째 무작위 추출로 얻은 표본평균 63.7\n",
      "3번째 무작위 추출로 얻은 표본평균 66.05\n",
      "4번째 무작위 추출로 얻은 표본평균 71.7\n",
      "5번째 무작위 추출로 얻은 표본평균 74.15\n"
     ]
    }
   ],
   "source": [
    "for i in range(5):\n",
    "    sample = np.random.choice(scores, 20)\n",
    "    print(f'{i+1}번째 무작위 추출로 얻은 표본평균', sample.mean())\n",
    "\n",
    "# 표본 평균은 70점 전후 이지만 나름대로 산포도도 나타내고 있음"
   ]
  },
  {
   "cell_type": "code",
   "execution_count": null,
   "id": "3f703d5f",
   "metadata": {},
   "outputs": [],
   "source": []
  },
  {
   "cell_type": "markdown",
   "id": "3fed65bf",
   "metadata": {},
   "source": [
    "## 확률 모델(모형)"
   ]
  },
  {
   "cell_type": "markdown",
   "id": "a3d739f3",
   "metadata": {},
   "source": [
    "## 확률의 기본\n",
    "\n",
    "- 확률(probability)\n",
    "    - 어떤 사건(event)이 일어날 가능성\n",
    "    - 예. \n",
    "        - 동전 던지기에서 앞면이 나올 가능성\n",
    "        - 주사위 던지기에서 특정 눈금이 나올 확률\n",
    "        - 주식투자에서 이득을 볼 가능성\n",
    "        \n",
    "        \n",
    "\n",
    "- 의사결정\n",
    "    - 확실성(certainty) 보다는 불확실한 상황에서 이루어지는 경우가 많음\n",
    "    - 미래에 대한 불확실성의 정도가 더욱 심하다고 할 수 있음 \n",
    "    - 불확실성 하에서 의사결정의 오류를 줄이기 위해 확률에 대한 연구 필요\n"
   ]
  },
  {
   "cell_type": "markdown",
   "id": "885a06dc",
   "metadata": {},
   "source": [
    "## 확률변수 : 취하는 값과 그 값이 나올 확률이 결정되어 있는 것\n",
    "    - 일정한 확률로 나타나는(발생하는) 사건에 대해 숫자를 부여한 변수\n",
    "    - ex. 주사위를 굴리면 1-6사이의 숫자가 약 1/6 확률로 발생\n",
    "\n",
    "- 시행\n",
    "    - 확률 변수의 결과를 관측하는 것\n",
    "    - 주사위를 굴리면 어떤 숫자가 나올지 모르지만 숫자는 하나씩 확정\n",
    "- 실현값\n",
    "    - 시행에 의해 관측되는 값\n",
    "    - 주사위를 굴려서 나온 값\n",
    "- 사건\n",
    "    - 시행 결과로 나타날 수 있는 일\n",
    "    - 눈은 1 또는 눈은 홀수 등\n",
    "    - 주사위의 눈은 확률 변수 X\n",
    "    - 눈이 1이 되는 사건의 확률 P(x=1)=1/6\n",
    "    - 눈이 홀수인 사건의 확률 P((X=1)U(X=3)U(X=5) = 1/6+1/6+1/6 = 1/2\n",
    "\n",
    "    - 근원사건\n",
    "        - 세부적으로 더 분해할 수 없는 사건\n",
    "        \n",
    "        \n",
    "- 상호배반 : 동시에 일어날 수 없는 사건\n",
    "    - 눈이 1 또는 2 또는 3’이라는 사건과 ’눈이 6’이라는 사건\n"
   ]
  },
  {
   "cell_type": "markdown",
   "id": "a5354fda",
   "metadata": {},
   "source": [
    "## 확률분포\n",
    "\n",
    "- 확률변수가 어떻게 움직이는지를 나타낸 것\n",
    "![](../picture/확률분포.png)\n",
    "![](../picture/확률분포2.png)\n"
   ]
  },
  {
   "cell_type": "markdown",
   "id": "a3961e6c",
   "metadata": {},
   "source": [
    "## 주사위 예제\n",
    "- 공정한 주사위 \n",
    "    - 주사위의 무게 중심이 정확하게 중심에 있는 주사위\n",
    "![](../picture/표4-1.jpg)\n",
    "- 불공정한 주사위\n",
    "    - 주사위의 무게 중심이 중심에 있지 않아 특정한 눈이 더 잘나오는 현향된 주사위\n",
    "    - 그런 주사위가 있다고 해도 불공정하다는 것을 알지만 각 눈이 어느정도의 확률로 나오는 건지 알 수 없음\n",
    "        - 주사위를 몇번 굴려서 그 눈의 비율을 확률분포로 추출하는 것이 일반적\n",
    "        - 이 주사위는 아래 표의 확률 분포를 따르고, 특정한 눈이 나오기 쉬운 주사위라고 가정 \n",
    "![](../picture/표4-2.jpg)    "
   ]
  },
  {
   "cell_type": "code",
   "execution_count": 10,
   "id": "f0f7bca2",
   "metadata": {},
   "outputs": [],
   "source": [
    "# 불공정한 주사위의 확률 분포를 구하는 실험\n",
    "\n",
    "# 확률 변수에 필요한 변수가 취할 수 있는 값\n",
    "dice = [1,2,3,4,5,6]\n",
    "\n",
    "# 상태공간의 각 값이 나올 수 있는 확률 : prob\n",
    "prob = [1/21,2/21,3/21,4/21,5/21,6/21]"
   ]
  },
  {
   "cell_type": "markdown",
   "id": "03612cd9",
   "metadata": {},
   "source": [
    "- np.random.choice(a, size=None, replace=True, p=None)\n",
    "\n",
    "    - a : 배열이면 배열 자체, 정수이면 arange(a)명령으로 배열 생성\n",
    "    - size : 정수, 샘플 숫자\n",
    "    - replace : boolean. True이면 복원추출, False면 비복원추출\n",
    "    - p : 배열, 각 데이터가 선택될 수 있는 확률"
   ]
  },
  {
   "cell_type": "code",
   "execution_count": 12,
   "id": "3f31fbb1",
   "metadata": {},
   "outputs": [
    {
     "data": {
      "text/plain": [
       "4"
      ]
     },
     "execution_count": 12,
     "metadata": {},
     "output_type": "execute_result"
    }
   ],
   "source": [
    "np.random.choice(dice, p=prob) # 불공정한 주사위 [표4-2]에 해당"
   ]
  },
  {
   "cell_type": "code",
   "execution_count": 13,
   "id": "e90afd09",
   "metadata": {},
   "outputs": [
    {
     "data": {
      "text/plain": [
       "array([6, 4, 5, 5, 6, 6, 3, 5, 6, 5, 6, 6, 2, 3, 1, 6, 5, 6, 3, 4, 5, 3,\n",
       "       4, 3, 5, 5, 4, 4, 6, 4, 6, 5, 6, 5, 4, 6, 2, 6, 4, 5, 3, 4, 6, 5,\n",
       "       5, 5, 3, 4, 5, 4, 4, 6, 4, 4, 6, 6, 2, 2, 4, 5, 1, 6, 4, 3, 2, 2,\n",
       "       6, 3, 5, 4, 2, 4, 4, 6, 6, 1, 5, 3, 6, 6, 4, 2, 1, 6, 4, 4, 2, 4,\n",
       "       1, 3, 6, 6, 6, 4, 5, 4, 3, 3, 4, 6])"
      ]
     },
     "execution_count": 13,
     "metadata": {},
     "output_type": "execute_result"
    }
   ],
   "source": [
    "## 불공정한 주사위로 표본 선택\n",
    "\n",
    "num_trial = 100\n",
    "sample = np.random.choice(dice, num_trial, p=prob)\n",
    "sample"
   ]
  },
  {
   "cell_type": "code",
   "execution_count": 15,
   "id": "ee22130b",
   "metadata": {},
   "outputs": [],
   "source": [
    "freq,_ = np.histogram(sample, bins=6, range=(1,7))\n"
   ]
  },
  {
   "cell_type": "code",
   "execution_count": 16,
   "id": "2783125c",
   "metadata": {},
   "outputs": [
    {
     "data": {
      "text/plain": [
       "array([ 5,  9, 13, 26, 19, 28], dtype=int64)"
      ]
     },
     "execution_count": 16,
     "metadata": {},
     "output_type": "execute_result"
    }
   ],
   "source": [
    "freq"
   ]
  },
  {
   "cell_type": "code",
   "execution_count": 17,
   "id": "ebed520e",
   "metadata": {},
   "outputs": [
    {
     "data": {
      "text/html": [
       "<div>\n",
       "<style scoped>\n",
       "    .dataframe tbody tr th:only-of-type {\n",
       "        vertical-align: middle;\n",
       "    }\n",
       "\n",
       "    .dataframe tbody tr th {\n",
       "        vertical-align: top;\n",
       "    }\n",
       "\n",
       "    .dataframe thead th {\n",
       "        text-align: right;\n",
       "    }\n",
       "</style>\n",
       "<table border=\"1\" class=\"dataframe\">\n",
       "  <thead>\n",
       "    <tr style=\"text-align: right;\">\n",
       "      <th></th>\n",
       "      <th>frequency</th>\n",
       "      <th>relative frequency</th>\n",
       "    </tr>\n",
       "    <tr>\n",
       "      <th>dice</th>\n",
       "      <th></th>\n",
       "      <th></th>\n",
       "    </tr>\n",
       "  </thead>\n",
       "  <tbody>\n",
       "    <tr>\n",
       "      <th>1</th>\n",
       "      <td>5</td>\n",
       "      <td>0.05</td>\n",
       "    </tr>\n",
       "    <tr>\n",
       "      <th>2</th>\n",
       "      <td>9</td>\n",
       "      <td>0.09</td>\n",
       "    </tr>\n",
       "    <tr>\n",
       "      <th>3</th>\n",
       "      <td>13</td>\n",
       "      <td>0.13</td>\n",
       "    </tr>\n",
       "    <tr>\n",
       "      <th>4</th>\n",
       "      <td>26</td>\n",
       "      <td>0.26</td>\n",
       "    </tr>\n",
       "    <tr>\n",
       "      <th>5</th>\n",
       "      <td>19</td>\n",
       "      <td>0.19</td>\n",
       "    </tr>\n",
       "    <tr>\n",
       "      <th>6</th>\n",
       "      <td>28</td>\n",
       "      <td>0.28</td>\n",
       "    </tr>\n",
       "  </tbody>\n",
       "</table>\n",
       "</div>"
      ],
      "text/plain": [
       "      frequency  relative frequency\n",
       "dice                               \n",
       "1             5                0.05\n",
       "2             9                0.09\n",
       "3            13                0.13\n",
       "4            26                0.26\n",
       "5            19                0.19\n",
       "6            28                0.28"
      ]
     },
     "execution_count": 17,
     "metadata": {},
     "output_type": "execute_result"
    }
   ],
   "source": [
    "pd.DataFrame({'frequency':freq,\n",
    "              'relative frequency':freq / num_trial},\n",
    "              index = pd.Index(np.arange(1, 7), name='dice'))\n"
   ]
  },
  {
   "cell_type": "code",
   "execution_count": 19,
   "id": "aeaa738a",
   "metadata": {},
   "outputs": [
    {
     "data": {
      "text/plain": [
       "(array([0.05, 0.09, 0.13, 0.26, 0.19, 0.28]),\n",
       " array([1., 2., 3., 4., 5., 6., 7.]),\n",
       " <BarContainer object of 6 artists>)"
      ]
     },
     "execution_count": 19,
     "metadata": {},
     "output_type": "execute_result"
    },
    {
     "data": {
      "text/plain": [
       "<matplotlib.collections.LineCollection at 0x1239efd7130>"
      ]
     },
     "execution_count": 19,
     "metadata": {},
     "output_type": "execute_result"
    },
    {
     "data": {
      "text/plain": [
       "[<matplotlib.axis.XTick at 0x1239f16fe20>,\n",
       " <matplotlib.axis.XTick at 0x1239f16fdf0>,\n",
       " <matplotlib.axis.XTick at 0x1239f163970>,\n",
       " <matplotlib.axis.XTick at 0x1239efe5bb0>,\n",
       " <matplotlib.axis.XTick at 0x1239eff7100>,\n",
       " <matplotlib.axis.XTick at 0x1239eff7610>]"
      ]
     },
     "execution_count": 19,
     "metadata": {},
     "output_type": "execute_result"
    },
    {
     "data": {
      "text/plain": [
       "[Text(1.5, 0, '1'),\n",
       " Text(2.5, 0, '2'),\n",
       " Text(3.5, 0, '3'),\n",
       " Text(4.5, 0, '4'),\n",
       " Text(5.5, 0, '5'),\n",
       " Text(6.5, 0, '6')]"
      ]
     },
     "execution_count": 19,
     "metadata": {},
     "output_type": "execute_result"
    },
    {
     "data": {
      "text/plain": [
       "Text(0.5, 0, 'dice')"
      ]
     },
     "execution_count": 19,
     "metadata": {},
     "output_type": "execute_result"
    },
    {
     "data": {
      "text/plain": [
       "Text(0, 0.5, 'relative frequency')"
      ]
     },
     "execution_count": 19,
     "metadata": {},
     "output_type": "execute_result"
    },
    {
     "data": {
      "image/png": "[encoded data removed]",
      "text/plain": [
       "<Figure size 720x432 with 1 Axes>"
      ]
     },
     "metadata": {
      "needs_background": "light"
     },
     "output_type": "display_data"
    }
   ],
   "source": [
    "# 100번의 시도는 정해져 있는 확률과는 차이가 있다\n",
    "\n",
    "fig = plt.figure(figsize=(10, 6))\n",
    "ax = fig.add_subplot(111)\n",
    "\n",
    "#sample을 히스토그램으로 표현\n",
    "ax.hist(sample, bins=6, range=(1, 7), density=True, rwidth=0.8)\n",
    "\n",
    "# 실제의 확률분포를 가로선으로 표시\n",
    "ax.hlines(prob, np.arange(1, 7), np.arange(2, 8), colors='gray')\n",
    "\n",
    "# 막대 그래프의 [1.5, 2.5, ..., 6.5]에 눈금을 표시\n",
    "ax.set_xticks(np.linspace(1.5, 6.5, 6))\n",
    "\n",
    "# 주사위 눈의 값은 [1, 2, 3, 4, 5, 6]\n",
    "ax.set_xticklabels(np.arange(1, 7))\n",
    "ax.set_xlabel('dice')\n",
    "ax.set_ylabel('relative frequency')\n",
    "plt.show()\n"
   ]
  },
  {
   "cell_type": "code",
   "execution_count": null,
   "id": "5ec0a5ea",
   "metadata": {},
   "outputs": [],
   "source": []
  },
  {
   "cell_type": "code",
   "execution_count": 20,
   "id": "56e6abed",
   "metadata": {
    "scrolled": true
   },
   "outputs": [
    {
     "data": {
      "text/plain": [
       "(array([0.05 , 0.092, 0.141, 0.191, 0.243, 0.284]),\n",
       " array([1., 2., 3., 4., 5., 6., 7.]),\n",
       " <BarContainer object of 6 artists>)"
      ]
     },
     "execution_count": 20,
     "metadata": {},
     "output_type": "execute_result"
    },
    {
     "data": {
      "text/plain": [
       "<matplotlib.collections.LineCollection at 0x1239f04b160>"
      ]
     },
     "execution_count": 20,
     "metadata": {},
     "output_type": "execute_result"
    },
    {
     "data": {
      "text/plain": [
       "[<matplotlib.axis.XTick at 0x1239f018b80>,\n",
       " <matplotlib.axis.XTick at 0x1239f018b50>,\n",
       " <matplotlib.axis.XTick at 0x1239f025760>,\n",
       " <matplotlib.axis.XTick at 0x1239f0569d0>,\n",
       " <matplotlib.axis.XTick at 0x1239f056ee0>,\n",
       " <matplotlib.axis.XTick at 0x1239f069430>]"
      ]
     },
     "execution_count": 20,
     "metadata": {},
     "output_type": "execute_result"
    },
    {
     "data": {
      "text/plain": [
       "[Text(1.5, 0, '1'),\n",
       " Text(2.5, 0, '2'),\n",
       " Text(3.5, 0, '3'),\n",
       " Text(4.5, 0, '4'),\n",
       " Text(5.5, 0, '5'),\n",
       " Text(6.5, 0, '6')]"
      ]
     },
     "execution_count": 20,
     "metadata": {},
     "output_type": "execute_result"
    },
    {
     "data": {
      "text/plain": [
       "Text(0.5, 0, 'dice')"
      ]
     },
     "execution_count": 20,
     "metadata": {},
     "output_type": "execute_result"
    },
    {
     "data": {
      "text/plain": [
       "Text(0, 0.5, 'relative frequency')"
      ]
     },
     "execution_count": 20,
     "metadata": {},
     "output_type": "execute_result"
    },
    {
     "data": {
      "image/png": "[encoded data removed]",
      "text/plain": [
       "<Figure size 720x432 with 1 Axes>"
      ]
     },
     "metadata": {
      "needs_background": "light"
     },
     "output_type": "display_data"
    }
   ],
   "source": [
    "### 10000번시도 (샘플링 숫자가 증가하면 예상한 결과치에 근접하는 것을 확인)\n",
    "num_trial = 10000\n",
    "sample = np.random.choice(dice, size=num_trial, p=prob)\n",
    "\n",
    "fig = plt.figure(figsize=(10, 6))\n",
    "ax = fig.add_subplot(111)\n",
    "\n",
    "#sample을 히스토그램으로 표현\n",
    "ax.hist(sample, bins=6, range=(1, 7), density=True, rwidth=0.8)\n",
    "\n",
    "# 실제의 확률분포를 가로선으로 표시\n",
    "ax.hlines(prob, np.arange(1, 7), np.arange(2, 8), colors='gray')\n",
    "\n",
    "# 막대 그래프의 [1.5, 2.5, ..., 6.5]에 눈금을 표시\n",
    "ax.set_xticks(np.linspace(1.5, 6.5, 6))\n",
    "\n",
    "# 주사위 눈의 값은 [1, 2, 3, 4, 5, 6]\n",
    "ax.set_xticklabels(np.arange(1, 7))\n",
    "ax.set_xlabel('dice')\n",
    "ax.set_ylabel('relative frequency')\n",
    "plt.show()"
   ]
  },
  {
   "cell_type": "markdown",
   "id": "9f83d53e",
   "metadata": {},
   "source": [
    "## 전교생의 시험 분포를 확인\n",
    "- 계급폭을 1점으로 하여 히스토 그램 작성\n",
    "\n"
   ]
  },
  {
   "cell_type": "code",
   "execution_count": 21,
   "id": "c32af19d",
   "metadata": {},
   "outputs": [
    {
     "data": {
      "text/plain": [
       "array([ 76,  55,  80,  80,  74,  61,  81,  76,  23,  80,  41,  80,  68,\n",
       "        88,  69,  57,  68,  86,  70,  68,  81,  73,  70,  90,  93,  79,\n",
       "        66,  92,  88,  81,  52,  72,  59,  68,  74,  72,  63,  89,  45,\n",
       "        81,  42,  76,  57,  83,  71,  74,  55,  60,  73,  79, 100,  73,\n",
       "        85,  47,  50,  65,  52,  92,  64,  91,  92,  71,  78,  69,  78,\n",
       "        77,  68,  78,  96,  81,  75,  72,  55,  55,  75,  49,  59,  89,\n",
       "        99,  45,  94,  67,  70,  68,  86,  46,  77,  56,  79,  93,  70,\n",
       "        76,  76,  58,  93,  96,  81,  71,  63,  61,  96,  91,  69,  46,\n",
       "        28,  54,  68,  91,  60,  78,  90,  72,  68,  50,  52,  76,  67,\n",
       "        72,  69,  80,  58,  65,  98,  58,  66,  61,  77,  85,  63,  64,\n",
       "        66,  78,  59,  64,  34,  49,  68,  83,  74,  54,  49,  73,  45,\n",
       "        86,  71,  46,  56,  59,  58,  48,  57,  60,  59,  87,  72,  55,\n",
       "        65,  57,  65,  83,  74, 100,  76,  56,  82,  86,  86,  54,  68,\n",
       "        87,  45,  63,  49,  56,  55,  89,  66,  57,  54,  72,  70,  90,\n",
       "        78,  49,  61,  86,  61,  96,  54,  79,  57,  62,  86,  68,  82,\n",
       "        77,  81,  57,  67,  76,  57,  94,  58,  65,  55,  38,  97,  67,\n",
       "        63,  67,  91,  56,  80,  64,  61,  79,  85,  62,  58,  52,  87,\n",
       "        61,  42,  91,  49,  82,  73,  74,  61,  75,  45,  79,  93,  83,\n",
       "        40,  55,  67,  77,  68,  63,  79,  87,  67,  81,  31,  56,  65,\n",
       "        63,  75,  85,  78,  61,  47,  78,  42,  80,  67,  52,  74,  70,\n",
       "        69,  69,  76,  84,  77,  85,  69,  94,  79,  62,  54,  73,  50,\n",
       "        55,  74,  61,  56,  69,  71,  67,  64,  83,  75,  67, 100,  73,\n",
       "        87,  62,  50,  58,  66,  63,  90,  68,  77,  69,  63,  71,  96,\n",
       "        58,  82,  55,  63,  70,  75,  92,  69,  57,  80,  65,  74,  68,\n",
       "        41,  78,  79,  84,  97,  52,  78,  76,  64,  76,  77,  52,  74,\n",
       "        56,  60,  43,  63,  67,  78,  70,  47,  83,  68,  77,  84,  91,\n",
       "        99,  69,  75,  54,  86,  52,  43,  82,  62,  82,  76,  46,  29,\n",
       "        54,  70,  52,  60,  48,  73,  71,  63,  91,  92,  78,  43,  53,\n",
       "        76,  61,  63,  83,  78,  90,  64,  91,  62,  92,  72,  57,  46,\n",
       "        65,  66,  83,  68,  64,  86,  67,  61,  79,  63,  80,  61,  67,\n",
       "        72,  64,  70,  82,  76,  77,  60,  83,  80,  85], dtype=int64)"
      ]
     },
     "execution_count": 21,
     "metadata": {},
     "output_type": "execute_result"
    }
   ],
   "source": [
    "scores"
   ]
  },
  {
   "cell_type": "code",
   "execution_count": 23,
   "id": "e19b2469",
   "metadata": {},
   "outputs": [
    {
     "data": {
      "text/plain": [
       "(array([0.   , 0.   , 0.   , 0.   , 0.   , 0.   , 0.   , 0.   , 0.   ,\n",
       "        0.   , 0.   , 0.   , 0.   , 0.   , 0.   , 0.   , 0.   , 0.   ,\n",
       "        0.   , 0.   , 0.   , 0.   , 0.   , 0.003, 0.   , 0.   , 0.   ,\n",
       "        0.   , 0.003, 0.003, 0.   , 0.003, 0.   , 0.   , 0.003, 0.   ,\n",
       "        0.   , 0.   , 0.003, 0.   , 0.003, 0.005, 0.007, 0.007, 0.   ,\n",
       "        0.013, 0.013, 0.007, 0.005, 0.015, 0.01 , 0.   , 0.022, 0.003,\n",
       "        0.02 , 0.025, 0.02 , 0.025, 0.02 , 0.013, 0.015, 0.033, 0.015,\n",
       "        0.035, 0.022, 0.02 , 0.015, 0.033, 0.04 , 0.028, 0.025, 0.018,\n",
       "        0.022, 0.02 , 0.025, 0.018, 0.035, 0.025, 0.033, 0.025, 0.025,\n",
       "        0.02 , 0.018, 0.022, 0.007, 0.015, 0.022, 0.013, 0.005, 0.007,\n",
       "        0.013, 0.02 , 0.015, 0.01 , 0.007, 0.   , 0.013, 0.005, 0.003,\n",
       "        0.013]),\n",
       " array([  0.,   1.,   2.,   3.,   4.,   5.,   6.,   7.,   8.,   9.,  10.,\n",
       "         11.,  12.,  13.,  14.,  15.,  16.,  17.,  18.,  19.,  20.,  21.,\n",
       "         22.,  23.,  24.,  25.,  26.,  27.,  28.,  29.,  30.,  31.,  32.,\n",
       "         33.,  34.,  35.,  36.,  37.,  38.,  39.,  40.,  41.,  42.,  43.,\n",
       "         44.,  45.,  46.,  47.,  48.,  49.,  50.,  51.,  52.,  53.,  54.,\n",
       "         55.,  56.,  57.,  58.,  59.,  60.,  61.,  62.,  63.,  64.,  65.,\n",
       "         66.,  67.,  68.,  69.,  70.,  71.,  72.,  73.,  74.,  75.,  76.,\n",
       "         77.,  78.,  79.,  80.,  81.,  82.,  83.,  84.,  85.,  86.,  87.,\n",
       "         88.,  89.,  90.,  91.,  92.,  93.,  94.,  95.,  96.,  97.,  98.,\n",
       "         99., 100.]),\n",
       " <BarContainer object of 100 artists>)"
      ]
     },
     "execution_count": 23,
     "metadata": {},
     "output_type": "execute_result"
    },
    {
     "data": {
      "text/plain": [
       "(20.000, 100.000)"
      ]
     },
     "execution_count": 23,
     "metadata": {},
     "output_type": "execute_result"
    },
    {
     "data": {
      "text/plain": [
       "(0.000, 0.042)"
      ]
     },
     "execution_count": 23,
     "metadata": {},
     "output_type": "execute_result"
    },
    {
     "data": {
      "text/plain": [
       "Text(0.5, 17.200000000000003, 'score')"
      ]
     },
     "execution_count": 23,
     "metadata": {},
     "output_type": "execute_result"
    },
    {
     "data": {
      "text/plain": [
       "Text(17.199999999999996, 0.5, 'relative frequency')"
      ]
     },
     "execution_count": 23,
     "metadata": {},
     "output_type": "execute_result"
    },
    {
     "data": {
      "text/plain": [
       "<Figure size 720x432 with 0 Axes>"
      ]
     },
     "metadata": {},
     "output_type": "display_data"
    }
   ],
   "source": [
    "fig = plt.figure(figsize=(10, 6))\n",
    "#ax = fig.add_subplot(111)\n",
    "ax.hist(scores, bins=100, range=(0, 100), density=True)\n",
    "ax.set_xlim(20, 100)\n",
    "ax.set_ylim(0, 0.042)\n",
    "ax.set_xlabel('score')\n",
    "ax.set_ylabel('relative frequency')\n",
    "plt.show()\n"
   ]
  },
  {
   "cell_type": "code",
   "execution_count": 20,
   "id": "2c3db2df",
   "metadata": {},
   "outputs": [
    {
     "name": "stdout",
     "output_type": "stream",
     "text": [
      "400\n",
      "16\n"
     ]
    },
    {
     "data": {
      "text/plain": [
       "4.000"
      ]
     },
     "execution_count": 20,
     "metadata": {},
     "output_type": "execute_result"
    }
   ],
   "source": [
    "## 점수 68점 conunt\n",
    "count = 0\n",
    "\n",
    "for i in scores :\n",
    "    if i == 68 :\n",
    "        count += 1\n",
    "        \n",
    "print(len(scores))\n",
    "\n",
    "print(count)\n",
    "\n",
    "count/len(scores) * 100\n"
   ]
  },
  {
   "cell_type": "code",
   "execution_count": 27,
   "id": "1fbf1b5c",
   "metadata": {},
   "outputs": [
    {
     "data": {
      "text/plain": [
       "58"
      ]
     },
     "execution_count": 27,
     "metadata": {},
     "output_type": "execute_result"
    }
   ],
   "source": [
    "np.random.choice(scores)"
   ]
  },
  {
   "cell_type": "code",
   "execution_count": 28,
   "id": "2fdd5b9a",
   "metadata": {},
   "outputs": [],
   "source": [
    "## 무작위 추출을 했을 때 68\n",
    "sample=np.random.choice(scores, 10000)"
   ]
  },
  {
   "cell_type": "code",
   "execution_count": 31,
   "id": "a4888afb",
   "metadata": {},
   "outputs": [
    {
     "data": {
      "text/plain": [
       "(array([0.   , 0.   , 0.   , 0.   , 0.   , 0.   , 0.   , 0.   , 0.   ,\n",
       "        0.   , 0.   , 0.   , 0.   , 0.   , 0.   , 0.   , 0.   , 0.   ,\n",
       "        0.   , 0.   , 0.   , 0.   , 0.   , 0.002, 0.   , 0.   , 0.   ,\n",
       "        0.   , 0.003, 0.002, 0.   , 0.002, 0.   , 0.   , 0.002, 0.   ,\n",
       "        0.   , 0.   , 0.003, 0.   , 0.002, 0.005, 0.007, 0.008, 0.   ,\n",
       "        0.009, 0.012, 0.008, 0.005, 0.015, 0.008, 0.   , 0.021, 0.003,\n",
       "        0.019, 0.026, 0.021, 0.026, 0.018, 0.011, 0.013, 0.036, 0.016,\n",
       "        0.034, 0.022, 0.021, 0.017, 0.034, 0.042, 0.027, 0.024, 0.018,\n",
       "        0.022, 0.022, 0.027, 0.016, 0.038, 0.025, 0.031, 0.026, 0.026,\n",
       "        0.02 , 0.017, 0.021, 0.008, 0.013, 0.021, 0.014, 0.005, 0.009,\n",
       "        0.012, 0.021, 0.016, 0.008, 0.007, 0.   , 0.012, 0.004, 0.002,\n",
       "        0.011]),\n",
       " array([  0.,   1.,   2.,   3.,   4.,   5.,   6.,   7.,   8.,   9.,  10.,\n",
       "         11.,  12.,  13.,  14.,  15.,  16.,  17.,  18.,  19.,  20.,  21.,\n",
       "         22.,  23.,  24.,  25.,  26.,  27.,  28.,  29.,  30.,  31.,  32.,\n",
       "         33.,  34.,  35.,  36.,  37.,  38.,  39.,  40.,  41.,  42.,  43.,\n",
       "         44.,  45.,  46.,  47.,  48.,  49.,  50.,  51.,  52.,  53.,  54.,\n",
       "         55.,  56.,  57.,  58.,  59.,  60.,  61.,  62.,  63.,  64.,  65.,\n",
       "         66.,  67.,  68.,  69.,  70.,  71.,  72.,  73.,  74.,  75.,  76.,\n",
       "         77.,  78.,  79.,  80.,  81.,  82.,  83.,  84.,  85.,  86.,  87.,\n",
       "         88.,  89.,  90.,  91.,  92.,  93.,  94.,  95.,  96.,  97.,  98.,\n",
       "         99., 100.]),\n",
       " <BarContainer object of 100 artists>)"
      ]
     },
     "execution_count": 31,
     "metadata": {},
     "output_type": "execute_result"
    },
    {
     "data": {
      "text/plain": [
       "(20.000, 100.000)"
      ]
     },
     "execution_count": 31,
     "metadata": {},
     "output_type": "execute_result"
    },
    {
     "data": {
      "text/plain": [
       "(0.000, 0.042)"
      ]
     },
     "execution_count": 31,
     "metadata": {},
     "output_type": "execute_result"
    },
    {
     "data": {
      "text/plain": [
       "Text(0.5, 0, 'score')"
      ]
     },
     "execution_count": 31,
     "metadata": {},
     "output_type": "execute_result"
    },
    {
     "data": {
      "text/plain": [
       "Text(0, 0.5, 'relative frequency')"
      ]
     },
     "execution_count": 31,
     "metadata": {},
     "output_type": "execute_result"
    },
    {
     "data": {
      "image/png": "[encoded data removed]",
      "text/plain": [
       "<Figure size 720x432 with 1 Axes>"
      ]
     },
     "metadata": {
      "needs_background": "light"
     },
     "output_type": "display_data"
    }
   ],
   "source": [
    "fig = plt.figure(figsize=(10, 6))\n",
    "ax = fig.add_subplot(111)\n",
    "ax.hist(sample, bins=100, range=(0, 100), density=True) ## sample로 변경\n",
    "ax.set_xlim(20, 100)\n",
    "ax.set_ylim(0, 0.042)\n",
    "ax.set_xlabel('score')\n",
    "ax.set_ylabel('relative frequency')\n",
    "plt.show()"
   ]
  },
  {
   "cell_type": "code",
   "execution_count": 32,
   "id": "34268050",
   "metadata": {},
   "outputs": [
    {
     "name": "stdout",
     "output_type": "stream",
     "text": [
      "10000\n",
      "16\n",
      "[78 55 76 ... 79 76 77]\n"
     ]
    },
    {
     "data": {
      "text/plain": [
       "4.000"
      ]
     },
     "execution_count": 32,
     "metadata": {},
     "output_type": "execute_result"
    }
   ],
   "source": [
    "## 점수 68점 conunt\n",
    "count = 0\n",
    "\n",
    "for i in scores :\n",
    "    if i == 68 :\n",
    "        count += 1\n",
    "        \n",
    "print(len(sample))\n",
    "\n",
    "print(count)\n",
    "print(sample)\n",
    "\n",
    "count/len(scores) * 100\n"
   ]
  },
  {
   "cell_type": "markdown",
   "id": "3ffc7e85",
   "metadata": {},
   "source": [
    "## 표본평균\n",
    "- 표본 하나 하나가 확률변수이므로 표본들의 평균으로 계산되는 표본 평균도 확률변수"
   ]
  },
  {
   "cell_type": "code",
   "execution_count": 34,
   "id": "ba67aeb3",
   "metadata": {},
   "outputs": [
    {
     "data": {
      "text/plain": [
       "(array([0.000e+00, 0.000e+00, 0.000e+00, 0.000e+00, 0.000e+00, 0.000e+00,\n",
       "        0.000e+00, 0.000e+00, 0.000e+00, 0.000e+00, 0.000e+00, 0.000e+00,\n",
       "        0.000e+00, 0.000e+00, 0.000e+00, 0.000e+00, 0.000e+00, 0.000e+00,\n",
       "        0.000e+00, 0.000e+00, 0.000e+00, 0.000e+00, 0.000e+00, 0.000e+00,\n",
       "        0.000e+00, 0.000e+00, 0.000e+00, 0.000e+00, 0.000e+00, 0.000e+00,\n",
       "        0.000e+00, 0.000e+00, 0.000e+00, 0.000e+00, 0.000e+00, 0.000e+00,\n",
       "        0.000e+00, 0.000e+00, 0.000e+00, 0.000e+00, 0.000e+00, 0.000e+00,\n",
       "        0.000e+00, 0.000e+00, 0.000e+00, 0.000e+00, 0.000e+00, 0.000e+00,\n",
       "        0.000e+00, 0.000e+00, 0.000e+00, 0.000e+00, 0.000e+00, 0.000e+00,\n",
       "        0.000e+00, 0.000e+00, 0.000e+00, 3.000e-04, 3.000e-04, 1.200e-03,\n",
       "        3.100e-03, 6.200e-03, 1.230e-02, 2.260e-02, 3.600e-02, 5.350e-02,\n",
       "        8.380e-02, 1.003e-01, 1.150e-01, 1.227e-01, 1.169e-01, 9.840e-02,\n",
       "        8.310e-02, 6.080e-02, 3.770e-02, 2.440e-02, 1.000e-02, 7.100e-03,\n",
       "        2.700e-03, 1.400e-03, 1.000e-04, 1.000e-04, 0.000e+00, 0.000e+00,\n",
       "        0.000e+00, 0.000e+00, 0.000e+00, 0.000e+00, 0.000e+00, 0.000e+00,\n",
       "        0.000e+00, 0.000e+00, 0.000e+00, 0.000e+00, 0.000e+00, 0.000e+00,\n",
       "        0.000e+00, 0.000e+00, 0.000e+00, 0.000e+00]),\n",
       " array([  0.,   1.,   2.,   3.,   4.,   5.,   6.,   7.,   8.,   9.,  10.,\n",
       "         11.,  12.,  13.,  14.,  15.,  16.,  17.,  18.,  19.,  20.,  21.,\n",
       "         22.,  23.,  24.,  25.,  26.,  27.,  28.,  29.,  30.,  31.,  32.,\n",
       "         33.,  34.,  35.,  36.,  37.,  38.,  39.,  40.,  41.,  42.,  43.,\n",
       "         44.,  45.,  46.,  47.,  48.,  49.,  50.,  51.,  52.,  53.,  54.,\n",
       "         55.,  56.,  57.,  58.,  59.,  60.,  61.,  62.,  63.,  64.,  65.,\n",
       "         66.,  67.,  68.,  69.,  70.,  71.,  72.,  73.,  74.,  75.,  76.,\n",
       "         77.,  78.,  79.,  80.,  81.,  82.,  83.,  84.,  85.,  86.,  87.,\n",
       "         88.,  89.,  90.,  91.,  92.,  93.,  94.,  95.,  96.,  97.,  98.,\n",
       "         99., 100.]),\n",
       " <BarContainer object of 100 artists>)"
      ]
     },
     "execution_count": 34,
     "metadata": {},
     "output_type": "execute_result"
    },
    {
     "data": {
      "text/plain": [
       "<matplotlib.collections.LineCollection at 0x123a0b68df0>"
      ]
     },
     "execution_count": 34,
     "metadata": {},
     "output_type": "execute_result"
    },
    {
     "data": {
      "text/plain": [
       "(50.000, 90.000)"
      ]
     },
     "execution_count": 34,
     "metadata": {},
     "output_type": "execute_result"
    },
    {
     "data": {
      "text/plain": [
       "(0.000, 0.130)"
      ]
     },
     "execution_count": 34,
     "metadata": {},
     "output_type": "execute_result"
    },
    {
     "data": {
      "text/plain": [
       "Text(0.5, 0, 'score')"
      ]
     },
     "execution_count": 34,
     "metadata": {},
     "output_type": "execute_result"
    },
    {
     "data": {
      "text/plain": [
       "Text(0, 0.5, 'relative frequency')"
      ]
     },
     "execution_count": 34,
     "metadata": {},
     "output_type": "execute_result"
    },
    {
     "data": {
      "image/png": "[encoded data removed]",
      "text/plain": [
       "<Figure size 720x432 with 1 Axes>"
      ]
     },
     "metadata": {
      "needs_background": "light"
     },
     "output_type": "display_data"
    }
   ],
   "source": [
    "# 무작위 추출로 표본 크기가 20인 표본을 추출하여 표본평균을 계산하는 작업을 10000번 수행 후 그 결과를 히스토그램으로 표현\n",
    "\n",
    "sample_means=[np.random.choice(scores,20).mean() for _ in range(10000)]\n",
    "\n",
    "fig = plt.figure(figsize=(10, 6))\n",
    "ax = fig.add_subplot(111)\n",
    "ax.hist(sample_means, bins=100, range=(0, 100), density=True)\n",
    "# 모평균을 세로선으로 표시\n",
    "ax.vlines(np.mean(scores), 0, 1, 'gray')\n",
    "ax.set_xlim(50, 90)\n",
    "ax.set_ylim(0, 0.13)\n",
    "ax.set_xlabel('score')\n",
    "ax.set_ylabel('relative frequency')\n",
    "plt.show()\n"
   ]
  },
  {
   "cell_type": "markdown",
   "id": "6d1060fa",
   "metadata": {},
   "source": [
    "- 가운데 세로선이 모평균\n",
    "- 표본평균은 모평균을 중심으로 분류되는 것을 확인\n",
    "    - 무작위 추출에 의한 표본 평균으로 모평균을 추측할 수 있다는 근거가 됨"
   ]
  },
  {
   "cell_type": "code",
   "execution_count": null,
   "id": "5e99df81",
   "metadata": {},
   "outputs": [],
   "source": []
  },
  {
   "cell_type": "markdown",
   "id": "6e5aa68b",
   "metadata": {},
   "source": [
    "## 확률 분포\n",
    "- 확률변수가 어떻게 움지익는지를 나타낸 것\n"
   ]
  },
  {
   "cell_type": "markdown",
   "id": "2dc11c23",
   "metadata": {},
   "source": [
    "## 확률 변수의 구분\n",
    "- 이산 확률 변수 : 변수가 취할 수 있는 값의 개수가 유한\n",
    "- 연속 확률 변수 : 변수가 취할 수 있는 값의 개수가 무한\n",
    "\n",
    "![](../picture/이산연속확률변수.png)"
   ]
  },
  {
   "cell_type": "markdown",
   "id": "f2cdae4b",
   "metadata": {},
   "source": [
    "## 확률함수\n",
    "- 확률변수 X가 특정 실수 값 x를 취할 확률을 X의 함수(f)로 나타낸 것\n",
    "    - 확률질량함수(probability mass function: pmf)\n",
    "        - 확률변수가 이산형인 경우\n",
    "    - 확률밀도함수(probability density function: pdf)\n",
    "        - 확률변수가 연속형인 경우\n"
   ]
  },
  {
   "cell_type": "markdown",
   "id": "ca93d9f6",
   "metadata": {},
   "source": [
    "## 기대값 - 확률분포의 평균(mean)\n",
    "- 기대값(expected value)라고 함\n",
    "-  확률 변수의 기대값({E})은 각 사건이 벌어졌을 때의 이득과 그 사건이 벌어질 확률을 곱한 것을 전체 사건에 대해 합한 값\n",
    "    - 어떤 확률적 사건에 대한 평균의 의미로 생각할 수 있다.\n",
    "\n",
    "    - E(X) 또는 μX 로 표시\n",
    "    - 이산확률분포의 기대값 : 확률을 가중값으로 사용한 가중평균\n",
    "    - 연속확률분포의 기대값 : 적분개념의 면적\n",
    "\n",
    "![](../picture/기대값.png)\n",
    "\n",
    "- 모평균\n",
    "    - 모 평균(population mean) μ는 모집단의 평균\n",
    "    - 모두 더한 후 전체 데이터 수 n으로 나눈 값\n"
   ]
  }
 ],
 "metadata": {
  "kernelspec": {
   "display_name": "Python 3",
   "language": "python",
   "name": "python3"
  },
  "language_info": {
   "codemirror_mode": {
    "name": "ipython",
    "version": 3
   },
   "file_extension": ".py",
   "mimetype": "text/x-python",
   "name": "python",
   "nbconvert_exporter": "python",
   "pygments_lexer": "ipython3",
   "version": "3.8.8"
  }
 },
 "nbformat": 4,
 "nbformat_minor": 5
}
