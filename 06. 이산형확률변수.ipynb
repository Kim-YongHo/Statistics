{
 "cells": [
  {
   "cell_type": "markdown",
   "id": "9fd7057a",
   "metadata": {},
   "source": [
    "## 이산형 확률분포\n",
    "- 1차원 이산형 확률분포"
   ]
  },
  {
   "cell_type": "code",
   "execution_count": 1,
   "id": "440ad47f",
   "metadata": {},
   "outputs": [],
   "source": [
    "from IPython.core.interactiveshell import InteractiveShell\n",
    "InteractiveShell.ast_node_interactivity=\"all\""
   ]
  },
  {
   "cell_type": "code",
   "execution_count": 2,
   "id": "896366ca",
   "metadata": {},
   "outputs": [
    {
     "data": {
      "text/plain": [
       "'%.3f'"
      ]
     },
     "execution_count": 2,
     "metadata": {},
     "output_type": "execute_result"
    }
   ],
   "source": [
    "import numpy as np\n",
    "import matplotlib.pyplot as plt\n",
    "\n",
    "%precision 3\n",
    "%matplotlib inline"
   ]
  },
  {
   "cell_type": "markdown",
   "id": "3f17477a",
   "metadata": {},
   "source": [
    "## 이산형 확률\n",
    "- 확률변수 x가 취할 수 있는 값의 집합 {x_1, x_2, ..., x_k}\n",
    "- x가 x_k라는 값을 취하는 확률\n",
    "![](../picture/이산확률.png)"
   ]
  },
  {
   "cell_type": "markdown",
   "id": "76ded297",
   "metadata": {},
   "source": [
    "- 확률 질량함수(확률함수)-pmf\n",
    "![](../picture/pmf.png)"
   ]
  },
  {
   "cell_type": "markdown",
   "id": "f1a59e90",
   "metadata": {},
   "source": [
    "## 불공정한 주사위\n",
    "\n",
    "![](../picture/표4-2.jpg)\n"
   ]
  },
  {
   "cell_type": "markdown",
   "id": "c6bf4d18",
   "metadata": {},
   "source": [
    "- 위 불공정한 주사위 확률분포의 확률변수 확인\n",
    "![](../picture/불공정한주사위확률변수.png)"
   ]
  },
  {
   "cell_type": "code",
   "execution_count": 29,
   "id": "d677aa35",
   "metadata": {},
   "outputs": [],
   "source": [
    "# 위 식을 함수로 구현\n",
    "\n",
    "def f(x):\n",
    "    if x in x_set:\n",
    "        return x/21\n",
    "    else:\n",
    "        return 0"
   ]
  },
  {
   "cell_type": "code",
   "execution_count": 30,
   "id": "6c39b1f4",
   "metadata": {},
   "outputs": [],
   "source": [
    "# 확률변수가 취할 수 있는 값의 set\n",
    "x_set=np.array([1,2,3,4,5,6])"
   ]
  },
  {
   "cell_type": "code",
   "execution_count": 31,
   "id": "6c04569f",
   "metadata": {},
   "outputs": [],
   "source": [
    "# 확률변수 x\n",
    "X=[x_set, f] # 확률분포[x_set,f]에 의해 확률변수 X의 동작이 결정됨\n",
    "\n",
    "# f가 확률분포로 구성\n"
   ]
  },
  {
   "cell_type": "code",
   "execution_count": 32,
   "id": "e7e2ed3d",
   "metadata": {},
   "outputs": [
    {
     "data": {
      "text/plain": [
       "array([1, 2, 3, 4, 5, 6])"
      ]
     },
     "execution_count": 32,
     "metadata": {},
     "output_type": "execute_result"
    },
    {
     "data": {
      "text/plain": [
       "array([0.048, 0.095, 0.143, 0.19 , 0.238, 0.286])"
      ]
     },
     "execution_count": 32,
     "metadata": {},
     "output_type": "execute_result"
    },
    {
     "data": {
      "text/plain": [
       "<zip at 0x27b5602e780>"
      ]
     },
     "execution_count": 32,
     "metadata": {},
     "output_type": "execute_result"
    },
    {
     "data": {
      "text/plain": [
       "{1: 0.047619047619047616,\n",
       " 2: 0.09523809523809523,\n",
       " 3: 0.14285714285714285,\n",
       " 4: 0.19047619047619047,\n",
       " 5: 0.23809523809523808,\n",
       " 6: 0.2857142857142857}"
      ]
     },
     "execution_count": 32,
     "metadata": {},
     "output_type": "execute_result"
    }
   ],
   "source": [
    "# 확률 p_k를 구한다\n",
    "\n",
    "prob = np.array([f(x_k) for x_k in x_set])\n",
    "\n",
    "x_set # 상태공간\n",
    "prob\n",
    "\n",
    "zip(x_set,prob) # 동일한 인덱스 끼리 묶어주는 기능 zip 함수\n",
    "\n",
    "\n",
    "# x_k와 p_k의 대응을 딕셔너리로 표현\n",
    "dict(zip(x_set,prob))"
   ]
  },
  {
   "cell_type": "code",
   "execution_count": 33,
   "id": "cd691571",
   "metadata": {},
   "outputs": [
    {
     "data": {
      "text/plain": [
       "<BarContainer object of 6 artists>"
      ]
     },
     "execution_count": 33,
     "metadata": {},
     "output_type": "execute_result"
    },
    {
     "data": {
      "text/plain": [
       "Text(0.5, 0, 'value')"
      ]
     },
     "execution_count": 33,
     "metadata": {},
     "output_type": "execute_result"
    },
    {
     "data": {
      "text/plain": [
       "Text(0, 0.5, 'probability')"
      ]
     },
     "execution_count": 33,
     "metadata": {},
     "output_type": "execute_result"
    },
    {
     "data": {
      "image/png": "[encoded data removed]",
      "text/plain": [
       "<Figure size 720x432 with 1 Axes>"
      ]
     },
     "metadata": {
      "needs_background": "light"
     },
     "output_type": "display_data"
    }
   ],
   "source": [
    "# 이산형 확률분포 그래프\n",
    "fig = plt.figure(figsize=(10,6))\n",
    "ax = fig.add_subplot(111) #sub플랏 공간을 하나 생성\n",
    "ax.bar(x_set,prob)\n",
    "ax.set_xlabel('value')\n",
    "ax.set_ylabel('probability')\n",
    "\n",
    "plt.show()\n"
   ]
  },
  {
   "cell_type": "markdown",
   "id": "a4d9c26c",
   "metadata": {},
   "source": [
    "## 이상형 확률분포 성질\n",
    "- 모든 확률은 0보다 큼\n",
    "- 확률의 합은 1\n",
    "\n",
    "![](../picture/이산확률성질.png)"
   ]
  },
  {
   "cell_type": "code",
   "execution_count": 34,
   "id": "4fb558c0",
   "metadata": {},
   "outputs": [
    {
     "data": {
      "text/plain": [
       "array([0.048, 0.095, 0.143, 0.19 , 0.238, 0.286])"
      ]
     },
     "execution_count": 34,
     "metadata": {},
     "output_type": "execute_result"
    }
   ],
   "source": [
    "prob"
   ]
  },
  {
   "cell_type": "code",
   "execution_count": 35,
   "id": "c2f3d62c",
   "metadata": {},
   "outputs": [
    {
     "data": {
      "text/plain": [
       "0.9999999999999999"
      ]
     },
     "execution_count": 35,
     "metadata": {},
     "output_type": "execute_result"
    },
    {
     "data": {
      "text/plain": [
       "True"
      ]
     },
     "execution_count": 35,
     "metadata": {},
     "output_type": "execute_result"
    }
   ],
   "source": [
    "np.sum(prob)\n",
    "np.all(prob>=0)"
   ]
  },
  {
   "cell_type": "markdown",
   "id": "523810c1",
   "metadata": {},
   "source": [
    "## 누적분포함수(분포함수) F(x)\n",
    "- X가 x이하 일 때 확률을 반환하는 함수\n",
    "- 누적분포함수(cdf)는 주어진 확률변수가 특정 값보다 작거나 같은 확률을 나타내는 함수\n",
    "![](../picture/이산누적.png)"
   ]
  },
  {
   "cell_type": "code",
   "execution_count": 36,
   "id": "d16f8196",
   "metadata": {},
   "outputs": [],
   "source": [
    "# 작거나 같은 이무로 주어진 x보다 작거나 같은 동안의 확률을 모두 더함\n",
    "\n",
    "def F(x):\n",
    "    return np.sum([f(x_k) for x_k in x_set if x_k <= x])"
   ]
  },
  {
   "cell_type": "code",
   "execution_count": 37,
   "id": "bf2d66e8",
   "metadata": {},
   "outputs": [
    {
     "data": {
      "text/plain": [
       "0.2857142857142857"
      ]
     },
     "execution_count": 37,
     "metadata": {},
     "output_type": "execute_result"
    },
    {
     "data": {
      "text/plain": [
       "0.143"
      ]
     },
     "execution_count": 37,
     "metadata": {},
     "output_type": "execute_result"
    }
   ],
   "source": [
    "# 주사위의 눈이 3이하가 될 확률\n",
    "F(3) # x_set의 원소값이 3보다 작거나 같을 때 까지의 확률의 합계\n",
    "f(3) # x_set의 원소값이 3일때 확률"
   ]
  },
  {
   "cell_type": "markdown",
   "id": "4b413fc0",
   "metadata": {},
   "source": [
    "## 확률변수의 변환\n",
    "- 확률변수에 연상을 적용시켜 변화시킨다고 가졍 => 새로운 데이터 집합\n",
    "- 확률변수의 변환 연산 : 2X+3\n",
    "- 위 연산을 적요시켜 변환된 확률변수를 Y라고 한다면"
   ]
  },
  {
   "cell_type": "code",
   "execution_count": 38,
   "id": "14fadbd6",
   "metadata": {},
   "outputs": [
    {
     "data": {
      "text/plain": [
       "{5: 0.047619047619047616,\n",
       " 7: 0.09523809523809523,\n",
       " 9: 0.14285714285714285,\n",
       " 11: 0.19047619047619047,\n",
       " 13: 0.23809523809523808,\n",
       " 15: 0.2857142857142857}"
      ]
     },
     "execution_count": 38,
     "metadata": {},
     "output_type": "execute_result"
    }
   ],
   "source": [
    "y_set=np.array([2*x_k + 3 for x_k in x_set])\n",
    "\n",
    "prob = np.array([f(x_k) for x_k in x_set])\n",
    "\n",
    "dict(zip(y_set, prob))"
   ]
  },
  {
   "cell_type": "markdown",
   "id": "654aa45d",
   "metadata": {},
   "source": [
    "## 1차원 이산형 확률변수의 지표\n",
    "\n",
    "- 확률변수의 평균 : 기대값\n",
    "    - 확률변수를 무제한 시행하여 얻은 실험값의 합산\n",
    "\n",
    "![](../picture/기대값1.png)"
   ]
  },
  {
   "cell_type": "markdown",
   "id": "27b146ce",
   "metadata": {},
   "source": [
    "- 수식을 함수로 구현\n",
    "![](../picture/기대값함수구현.png)\n",
    "- 인수 g가 확률변수에 대한 연산을 구현한 함수\n",
    "    - g에 아무것도 지정하지 않으면 확률변수 x의 기대값이 구해짐"
   ]
  },
  {
   "cell_type": "markdown",
   "id": "cc64c6c1",
   "metadata": {},
   "source": [
    "## 불공정 주사위 확률에 대한 기대값"
   ]
  },
  {
   "cell_type": "code",
   "execution_count": 39,
   "id": "33827545",
   "metadata": {},
   "outputs": [
    {
     "data": {
      "text/plain": [
       "[array([1, 2, 3, 4, 5, 6]), <function __main__.f(x)>]"
      ]
     },
     "execution_count": 39,
     "metadata": {},
     "output_type": "execute_result"
    }
   ],
   "source": [
    "# 불공정 주사위에 대한 확률변수\n",
    "X"
   ]
  },
  {
   "cell_type": "code",
   "execution_count": 40,
   "id": "7d4c7734",
   "metadata": {},
   "outputs": [],
   "source": [
    "def f(x):\n",
    "    if x in x_set:\n",
    "        return x / 21\n",
    "    else:\n",
    "        return 0\n",
    "    \n",
    "x_set = np.array([1, 2, 3, 4, 5, 6])\n"
   ]
  },
  {
   "cell_type": "code",
   "execution_count": 41,
   "id": "23606a2b",
   "metadata": {},
   "outputs": [
    {
     "data": {
      "text/plain": [
       "[0.047619047619047616,\n",
       " 0.19047619047619047,\n",
       " 0.42857142857142855,\n",
       " 0.7619047619047619,\n",
       " 1.1904761904761905,\n",
       " 1.7142857142857142]"
      ]
     },
     "execution_count": 41,
     "metadata": {},
     "output_type": "execute_result"
    }
   ],
   "source": [
    "[x_k*f(x_k) for x_k in x_set] # 기존값에 확률 가중치를 곱해주면 기대값"
   ]
  },
  {
   "cell_type": "code",
   "execution_count": 42,
   "id": "9e875f14",
   "metadata": {},
   "outputs": [
    {
     "data": {
      "text/plain": [
       "4.333333333333333"
      ]
     },
     "execution_count": 42,
     "metadata": {},
     "output_type": "execute_result"
    }
   ],
   "source": [
    "np.sum([x_k*f(x_k) for x_k in x_set])"
   ]
  },
  {
   "cell_type": "code",
   "execution_count": 43,
   "id": "a3ff3a41",
   "metadata": {},
   "outputs": [
    {
     "data": {
      "text/plain": [
       "array([0.048, 0.095, 0.143, 0.19 , 0.238, 0.286])"
      ]
     },
     "execution_count": 43,
     "metadata": {},
     "output_type": "execute_result"
    }
   ],
   "source": [
    "prob"
   ]
  },
  {
   "cell_type": "code",
   "execution_count": 44,
   "id": "4a3f14f4",
   "metadata": {},
   "outputs": [
    {
     "data": {
      "text/plain": [
       "4.333"
      ]
     },
     "execution_count": 44,
     "metadata": {},
     "output_type": "execute_result"
    }
   ],
   "source": [
    "# 기대값 확인 (수동)\n",
    "\n",
    "1*0.048 + 2*0.095 + 3*0.143 + 4*0.19 + 5*0.238 + 6*0.286"
   ]
  },
  {
   "cell_type": "code",
   "execution_count": 45,
   "id": "c5976b61",
   "metadata": {},
   "outputs": [
    {
     "data": {
      "text/plain": [
       "4.332613"
      ]
     },
     "execution_count": 45,
     "metadata": {},
     "output_type": "execute_result"
    }
   ],
   "source": [
    "sample = np.random.choice(x_set, int(1e6), p=prob)\n",
    "np.mean(sample)"
   ]
  },
  {
   "cell_type": "code",
   "execution_count": 46,
   "id": "c9412e5d",
   "metadata": {},
   "outputs": [],
   "source": [
    "def E(X, g=lambda x:x) : # X : 이산형 확률변수 \n",
    "    x_set, f = X\n",
    "    return np.sum([g(x_k)*f(x_k) for x_k in x_set])\n"
   ]
  },
  {
   "cell_type": "code",
   "execution_count": 47,
   "id": "495536e5",
   "metadata": {},
   "outputs": [
    {
     "data": {
      "text/plain": [
       "4.333333333333333"
      ]
     },
     "execution_count": 47,
     "metadata": {},
     "output_type": "execute_result"
    }
   ],
   "source": [
    "E(X)"
   ]
  },
  {
   "cell_type": "code",
   "execution_count": 48,
   "id": "6299566b",
   "metadata": {},
   "outputs": [
    {
     "data": {
      "text/plain": [
       "11.666666666666664"
      ]
     },
     "execution_count": 48,
     "metadata": {},
     "output_type": "execute_result"
    }
   ],
   "source": [
    "E(X, g=lambda x:2*x+3)"
   ]
  },
  {
   "cell_type": "code",
   "execution_count": 49,
   "id": "0e1309b1",
   "metadata": {},
   "outputs": [
    {
     "data": {
      "text/plain": [
       "11.666666666666666"
      ]
     },
     "execution_count": 49,
     "metadata": {},
     "output_type": "execute_result"
    }
   ],
   "source": [
    "2*E(X)+3"
   ]
  },
  {
   "cell_type": "markdown",
   "id": "0b5afbc1",
   "metadata": {},
   "source": [
    "## 분산\n",
    "- 확률변수의 각 값에서 기대값을 뺀 편차의 제곱을 계산한 후 기대값으로 계산\n",
    "![](../picture/이산분산.png)"
   ]
  },
  {
   "cell_type": "code",
   "execution_count": 50,
   "id": "8f1fbf53",
   "metadata": {},
   "outputs": [
    {
     "data": {
      "text/plain": [
       "2.2222222222222223"
      ]
     },
     "execution_count": 50,
     "metadata": {},
     "output_type": "execute_result"
    }
   ],
   "source": [
    "## 불공정한 주사위의 분산\n",
    "\n",
    "mean=E(X)\n",
    "np.sum([(x_k - mean)**2 * f(x_k) for x_k in x_set])"
   ]
  },
  {
   "cell_type": "code",
   "execution_count": 51,
   "id": "3b226bf8",
   "metadata": {},
   "outputs": [],
   "source": [
    "def V(X, g=lambda x:x):\n",
    "    x_set, f = X\n",
    "    mean = E(X,g)\n",
    "    return np.sum([(g(x_k)-mean)**2 * f(x_k) for x_k in x_set])"
   ]
  },
  {
   "cell_type": "code",
   "execution_count": 52,
   "id": "0e717d79",
   "metadata": {},
   "outputs": [
    {
     "data": {
      "text/plain": [
       "2.2222222222222223"
      ]
     },
     "execution_count": 52,
     "metadata": {},
     "output_type": "execute_result"
    }
   ],
   "source": [
    "V(X)"
   ]
  },
  {
   "cell_type": "code",
   "execution_count": 53,
   "id": "670f0f90",
   "metadata": {},
   "outputs": [
    {
     "data": {
      "text/plain": [
       "8.88888888888889"
      ]
     },
     "execution_count": 53,
     "metadata": {},
     "output_type": "execute_result"
    }
   ],
   "source": [
    "## 확률변수 X에 대한 변환변수 2X+3 분산 계산\n",
    "V(X, lambda x:2*x+3)"
   ]
  },
  {
   "cell_type": "markdown",
   "id": "ce46eb6e",
   "metadata": {},
   "source": [
    "![](../picture/분산의공식.png)"
   ]
  },
  {
   "cell_type": "code",
   "execution_count": 54,
   "id": "4a067dad",
   "metadata": {},
   "outputs": [
    {
     "data": {
      "text/plain": [
       "8.88888888888889"
      ]
     },
     "execution_count": 54,
     "metadata": {},
     "output_type": "execute_result"
    }
   ],
   "source": [
    "2**2*V(X)"
   ]
  },
  {
   "cell_type": "code",
   "execution_count": null,
   "id": "5c60a710",
   "metadata": {},
   "outputs": [],
   "source": []
  },
  {
   "cell_type": "code",
   "execution_count": null,
   "id": "d8e7fb84",
   "metadata": {},
   "outputs": [],
   "source": []
  },
  {
   "cell_type": "code",
   "execution_count": null,
   "id": "f9ca9466",
   "metadata": {},
   "outputs": [],
   "source": []
  },
  {
   "cell_type": "code",
   "execution_count": null,
   "id": "74d837d2",
   "metadata": {},
   "outputs": [],
   "source": []
  },
  {
   "cell_type": "code",
   "execution_count": null,
   "id": "1f01f9d7",
   "metadata": {},
   "outputs": [],
   "source": []
  },
  {
   "cell_type": "code",
   "execution_count": null,
   "id": "bed39d72",
   "metadata": {},
   "outputs": [],
   "source": []
  }
 ],
 "metadata": {
  "kernelspec": {
   "display_name": "Python 3",
   "language": "python",
   "name": "python3"
  },
  "language_info": {
   "codemirror_mode": {
    "name": "ipython",
    "version": 3
   },
   "file_extension": ".py",
   "mimetype": "text/x-python",
   "name": "python",
   "nbconvert_exporter": "python",
   "pygments_lexer": "ipython3",
   "version": "3.8.8"
  }
 },
 "nbformat": 4,
 "nbformat_minor": 5
}
