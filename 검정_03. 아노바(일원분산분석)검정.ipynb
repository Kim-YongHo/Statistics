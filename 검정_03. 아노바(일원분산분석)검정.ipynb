{
 "cells": [
  {
   "cell_type": "markdown",
   "id": "09a1938f",
   "metadata": {},
   "source": [
    "## 일원분산 분석 개여\n",
    "- 목적 : 셋 이상의 그룹 간 차이가 존재하는지를 확인하기 위한 가설 검정 방법\n",
    "- 영가설 : 세그룹의 표본평균은 같음\n",
    "- 대립가설 : 최소한  한 개 그룹에는 차이를 보임"
   ]
  },
  {
   "cell_type": "markdown",
   "id": "615b5208",
   "metadata": {},
   "source": [
    "## 선행조건\n",
    "- 독립성 : 모든 그룹은 서로 독립적\n",
    "- 정규성 : 데이터는 정규분포를 따라야 함\n",
    "    - 만약, 정규성을 띄지 않으면 비모수적인 방법인 부호검정 을 진행\n",
    "    \n",
    "- 등분산성 : 두 그룹의 데이터에 대한 분산이 같아야 함\n",
    "    - Levene의 등분산 검정 : p-value가 0.05 미만이면 분산이 다르다고 판단\n",
    "    - 분산이 같은지 다른지에 따라 사용하는 통계량이 달라지므로, 비모수적인 방법을 수행"
   ]
  },
  {
   "cell_type": "markdown",
   "id": "bc7a7d16",
   "metadata": {},
   "source": [
    "![](../picture/일원통계.png)"
   ]
  },
  {
   "cell_type": "markdown",
   "id": "f0861416",
   "metadata": {},
   "source": [
    "![](../picture/일원분산절차.png)"
   ]
  },
  {
   "cell_type": "code",
   "execution_count": 1,
   "id": "190e9833",
   "metadata": {},
   "outputs": [],
   "source": [
    "import numpy as np\n",
    "import pandas as pd\n",
    "from scipy.stats import *\n",
    "\n",
    "%precision 3\n",
    "np.random.seed(1111)"
   ]
  },
  {
   "cell_type": "code",
   "execution_count": 2,
   "id": "391783a1",
   "metadata": {},
   "outputs": [],
   "source": [
    "from IPython.core.interactiveshell import InteractiveShell\n",
    "InteractiveShell.ast_node_interactivity=\"all\""
   ]
  },
  {
   "cell_type": "code",
   "execution_count": 3,
   "id": "42a3317e",
   "metadata": {},
   "outputs": [
    {
     "data": {
      "text/html": [
       "<div>\n",
       "<style scoped>\n",
       "    .dataframe tbody tr th:only-of-type {\n",
       "        vertical-align: middle;\n",
       "    }\n",
       "\n",
       "    .dataframe tbody tr th {\n",
       "        vertical-align: top;\n",
       "    }\n",
       "\n",
       "    .dataframe thead th {\n",
       "        text-align: right;\n",
       "    }\n",
       "</style>\n",
       "<table border=\"1\" class=\"dataframe\">\n",
       "  <thead>\n",
       "    <tr style=\"text-align: right;\">\n",
       "      <th></th>\n",
       "      <th>일자</th>\n",
       "      <th>지점A</th>\n",
       "      <th>지점B</th>\n",
       "      <th>지점C</th>\n",
       "    </tr>\n",
       "  </thead>\n",
       "  <tbody>\n",
       "    <tr>\n",
       "      <th>0</th>\n",
       "      <td>1</td>\n",
       "      <td>124</td>\n",
       "      <td>118</td>\n",
       "      <td>216</td>\n",
       "    </tr>\n",
       "    <tr>\n",
       "      <th>1</th>\n",
       "      <td>2</td>\n",
       "      <td>147</td>\n",
       "      <td>141</td>\n",
       "      <td>214</td>\n",
       "    </tr>\n",
       "    <tr>\n",
       "      <th>2</th>\n",
       "      <td>3</td>\n",
       "      <td>129</td>\n",
       "      <td>130</td>\n",
       "      <td>212</td>\n",
       "    </tr>\n",
       "    <tr>\n",
       "      <th>3</th>\n",
       "      <td>4</td>\n",
       "      <td>123</td>\n",
       "      <td>127</td>\n",
       "      <td>179</td>\n",
       "    </tr>\n",
       "    <tr>\n",
       "      <th>4</th>\n",
       "      <td>5</td>\n",
       "      <td>147</td>\n",
       "      <td>107</td>\n",
       "      <td>222</td>\n",
       "    </tr>\n",
       "  </tbody>\n",
       "</table>\n",
       "</div>"
      ],
      "text/plain": [
       "   일자  지점A  지점B  지점C\n",
       "0   1  124  118  216\n",
       "1   2  147  141  214\n",
       "2   3  129  130  212\n",
       "3   4  123  127  179\n",
       "4   5  147  107  222"
      ]
     },
     "execution_count": 3,
     "metadata": {},
     "output_type": "execute_result"
    }
   ],
   "source": [
    "# 데이터 불러오기\n",
    "df = pd.read_csv(\"../data/지점별_일별판매량.csv\", engine = \"python\", encoding='euc-kr')\n",
    "df.head()\n"
   ]
  },
  {
   "cell_type": "markdown",
   "id": "14058d69",
   "metadata": {},
   "source": [
    "- 각 지점의 판매량의 평균 차이가 있는지 확인\n",
    "- 변수가 2개를 초과하므로 아노바분석 (일원분산분석)\n",
    "\n",
    "    - 귀무가설 : 모든 그룹의 평균이 같다\n",
    "    - 대립가설 : 최소한 한개 그룹이라도 평균이 다르다"
   ]
  },
  {
   "cell_type": "markdown",
   "id": "1c1dffec",
   "metadata": {},
   "source": [
    "## 지점별 7월 판매량 간의 유의미한 차이가 있는가?"
   ]
  },
  {
   "cell_type": "markdown",
   "id": "b084968b",
   "metadata": {},
   "source": [
    "- 정규성을모든집단에 대해 정규성검사해서 정규성이 없으면 다른분석\n",
    "- 모든 집단에 대해 등분산확인 후 분산이 같지않으면 다른 분석\n",
    "\n",
    "- ===>Kruskal-Wallis H Test를 수행해야 함(비모수적인방법)\n"
   ]
  },
  {
   "cell_type": "code",
   "execution_count": 4,
   "id": "4e824cda",
   "metadata": {},
   "outputs": [
    {
     "data": {
      "text/html": [
       "<div>\n",
       "<style scoped>\n",
       "    .dataframe tbody tr th:only-of-type {\n",
       "        vertical-align: middle;\n",
       "    }\n",
       "\n",
       "    .dataframe tbody tr th {\n",
       "        vertical-align: top;\n",
       "    }\n",
       "\n",
       "    .dataframe thead th {\n",
       "        text-align: right;\n",
       "    }\n",
       "</style>\n",
       "<table border=\"1\" class=\"dataframe\">\n",
       "  <thead>\n",
       "    <tr style=\"text-align: right;\">\n",
       "      <th></th>\n",
       "      <th>일자</th>\n",
       "      <th>지점A</th>\n",
       "      <th>지점B</th>\n",
       "      <th>지점C</th>\n",
       "    </tr>\n",
       "  </thead>\n",
       "  <tbody>\n",
       "    <tr>\n",
       "      <th>0</th>\n",
       "      <td>1</td>\n",
       "      <td>124</td>\n",
       "      <td>118</td>\n",
       "      <td>216</td>\n",
       "    </tr>\n",
       "    <tr>\n",
       "      <th>1</th>\n",
       "      <td>2</td>\n",
       "      <td>147</td>\n",
       "      <td>141</td>\n",
       "      <td>214</td>\n",
       "    </tr>\n",
       "    <tr>\n",
       "      <th>2</th>\n",
       "      <td>3</td>\n",
       "      <td>129</td>\n",
       "      <td>130</td>\n",
       "      <td>212</td>\n",
       "    </tr>\n",
       "    <tr>\n",
       "      <th>3</th>\n",
       "      <td>4</td>\n",
       "      <td>123</td>\n",
       "      <td>127</td>\n",
       "      <td>179</td>\n",
       "    </tr>\n",
       "    <tr>\n",
       "      <th>4</th>\n",
       "      <td>5</td>\n",
       "      <td>147</td>\n",
       "      <td>107</td>\n",
       "      <td>222</td>\n",
       "    </tr>\n",
       "    <tr>\n",
       "      <th>5</th>\n",
       "      <td>6</td>\n",
       "      <td>149</td>\n",
       "      <td>140</td>\n",
       "      <td>238</td>\n",
       "    </tr>\n",
       "    <tr>\n",
       "      <th>6</th>\n",
       "      <td>7</td>\n",
       "      <td>140</td>\n",
       "      <td>146</td>\n",
       "      <td>218</td>\n",
       "    </tr>\n",
       "    <tr>\n",
       "      <th>7</th>\n",
       "      <td>8</td>\n",
       "      <td>142</td>\n",
       "      <td>122</td>\n",
       "      <td>200</td>\n",
       "    </tr>\n",
       "    <tr>\n",
       "      <th>8</th>\n",
       "      <td>9</td>\n",
       "      <td>124</td>\n",
       "      <td>160</td>\n",
       "      <td>186</td>\n",
       "    </tr>\n",
       "    <tr>\n",
       "      <th>9</th>\n",
       "      <td>10</td>\n",
       "      <td>166</td>\n",
       "      <td>157</td>\n",
       "      <td>188</td>\n",
       "    </tr>\n",
       "    <tr>\n",
       "      <th>10</th>\n",
       "      <td>11</td>\n",
       "      <td>127</td>\n",
       "      <td>141</td>\n",
       "      <td>216</td>\n",
       "    </tr>\n",
       "    <tr>\n",
       "      <th>11</th>\n",
       "      <td>12</td>\n",
       "      <td>130</td>\n",
       "      <td>142</td>\n",
       "      <td>183</td>\n",
       "    </tr>\n",
       "    <tr>\n",
       "      <th>12</th>\n",
       "      <td>13</td>\n",
       "      <td>139</td>\n",
       "      <td>150</td>\n",
       "      <td>198</td>\n",
       "    </tr>\n",
       "    <tr>\n",
       "      <th>13</th>\n",
       "      <td>14</td>\n",
       "      <td>121</td>\n",
       "      <td>136</td>\n",
       "      <td>199</td>\n",
       "    </tr>\n",
       "    <tr>\n",
       "      <th>14</th>\n",
       "      <td>15</td>\n",
       "      <td>149</td>\n",
       "      <td>157</td>\n",
       "      <td>187</td>\n",
       "    </tr>\n",
       "    <tr>\n",
       "      <th>15</th>\n",
       "      <td>16</td>\n",
       "      <td>155</td>\n",
       "      <td>107</td>\n",
       "      <td>183</td>\n",
       "    </tr>\n",
       "    <tr>\n",
       "      <th>16</th>\n",
       "      <td>17</td>\n",
       "      <td>140</td>\n",
       "      <td>172</td>\n",
       "      <td>190</td>\n",
       "    </tr>\n",
       "    <tr>\n",
       "      <th>17</th>\n",
       "      <td>18</td>\n",
       "      <td>150</td>\n",
       "      <td>126</td>\n",
       "      <td>161</td>\n",
       "    </tr>\n",
       "    <tr>\n",
       "      <th>18</th>\n",
       "      <td>19</td>\n",
       "      <td>137</td>\n",
       "      <td>135</td>\n",
       "      <td>203</td>\n",
       "    </tr>\n",
       "    <tr>\n",
       "      <th>19</th>\n",
       "      <td>20</td>\n",
       "      <td>144</td>\n",
       "      <td>115</td>\n",
       "      <td>192</td>\n",
       "    </tr>\n",
       "    <tr>\n",
       "      <th>20</th>\n",
       "      <td>21</td>\n",
       "      <td>136</td>\n",
       "      <td>133</td>\n",
       "      <td>235</td>\n",
       "    </tr>\n",
       "    <tr>\n",
       "      <th>21</th>\n",
       "      <td>22</td>\n",
       "      <td>126</td>\n",
       "      <td>132</td>\n",
       "      <td>208</td>\n",
       "    </tr>\n",
       "    <tr>\n",
       "      <th>22</th>\n",
       "      <td>23</td>\n",
       "      <td>150</td>\n",
       "      <td>127</td>\n",
       "      <td>187</td>\n",
       "    </tr>\n",
       "    <tr>\n",
       "      <th>23</th>\n",
       "      <td>24</td>\n",
       "      <td>142</td>\n",
       "      <td>128</td>\n",
       "      <td>201</td>\n",
       "    </tr>\n",
       "    <tr>\n",
       "      <th>24</th>\n",
       "      <td>25</td>\n",
       "      <td>149</td>\n",
       "      <td>142</td>\n",
       "      <td>196</td>\n",
       "    </tr>\n",
       "    <tr>\n",
       "      <th>25</th>\n",
       "      <td>26</td>\n",
       "      <td>127</td>\n",
       "      <td>161</td>\n",
       "      <td>202</td>\n",
       "    </tr>\n",
       "    <tr>\n",
       "      <th>26</th>\n",
       "      <td>27</td>\n",
       "      <td>140</td>\n",
       "      <td>140</td>\n",
       "      <td>209</td>\n",
       "    </tr>\n",
       "    <tr>\n",
       "      <th>27</th>\n",
       "      <td>28</td>\n",
       "      <td>138</td>\n",
       "      <td>125</td>\n",
       "      <td>179</td>\n",
       "    </tr>\n",
       "    <tr>\n",
       "      <th>28</th>\n",
       "      <td>29</td>\n",
       "      <td>128</td>\n",
       "      <td>142</td>\n",
       "      <td>197</td>\n",
       "    </tr>\n",
       "    <tr>\n",
       "      <th>29</th>\n",
       "      <td>30</td>\n",
       "      <td>117</td>\n",
       "      <td>135</td>\n",
       "      <td>204</td>\n",
       "    </tr>\n",
       "  </tbody>\n",
       "</table>\n",
       "</div>"
      ],
      "text/plain": [
       "    일자  지점A  지점B  지점C\n",
       "0    1  124  118  216\n",
       "1    2  147  141  214\n",
       "2    3  129  130  212\n",
       "3    4  123  127  179\n",
       "4    5  147  107  222\n",
       "5    6  149  140  238\n",
       "6    7  140  146  218\n",
       "7    8  142  122  200\n",
       "8    9  124  160  186\n",
       "9   10  166  157  188\n",
       "10  11  127  141  216\n",
       "11  12  130  142  183\n",
       "12  13  139  150  198\n",
       "13  14  121  136  199\n",
       "14  15  149  157  187\n",
       "15  16  155  107  183\n",
       "16  17  140  172  190\n",
       "17  18  150  126  161\n",
       "18  19  137  135  203\n",
       "19  20  144  115  192\n",
       "20  21  136  133  235\n",
       "21  22  126  132  208\n",
       "22  23  150  127  187\n",
       "23  24  142  128  201\n",
       "24  25  149  142  196\n",
       "25  26  127  161  202\n",
       "26  27  140  140  209\n",
       "27  28  138  125  179\n",
       "28  29  128  142  197\n",
       "29  30  117  135  204"
      ]
     },
     "execution_count": 4,
     "metadata": {},
     "output_type": "execute_result"
    }
   ],
   "source": [
    "df"
   ]
  },
  {
   "cell_type": "code",
   "execution_count": 5,
   "id": "6e413e44",
   "metadata": {},
   "outputs": [],
   "source": [
    "# 데이터 분할 (결측치 제거)\n",
    "A = df['지점A'].dropna().values\n",
    "B = df['지점B'].dropna().values\n",
    "C = df['지점C'].dropna().values"
   ]
  },
  {
   "cell_type": "code",
   "execution_count": 6,
   "id": "db4e8823",
   "metadata": {},
   "outputs": [],
   "source": [
    "%matplotlib inline\n",
    "from matplotlib import pyplot as plt\n"
   ]
  },
  {
   "cell_type": "code",
   "execution_count": 13,
   "id": "e02508bd",
   "metadata": {},
   "outputs": [
    {
     "data": {
      "text/plain": [
       "{'whiskers': [<matplotlib.lines.Line2D at 0x1f577372610>,\n",
       "  <matplotlib.lines.Line2D at 0x1f577372970>,\n",
       "  <matplotlib.lines.Line2D at 0x1f57737cdf0>,\n",
       "  <matplotlib.lines.Line2D at 0x1f57713a190>,\n",
       "  <matplotlib.lines.Line2D at 0x1f577146610>,\n",
       "  <matplotlib.lines.Line2D at 0x1f577146970>],\n",
       " 'caps': [<matplotlib.lines.Line2D at 0x1f577372cd0>,\n",
       "  <matplotlib.lines.Line2D at 0x1f57737c070>,\n",
       "  <matplotlib.lines.Line2D at 0x1f57713a4f0>,\n",
       "  <matplotlib.lines.Line2D at 0x1f57713a850>,\n",
       "  <matplotlib.lines.Line2D at 0x1f577146cd0>,\n",
       "  <matplotlib.lines.Line2D at 0x1f577152070>],\n",
       " 'boxes': [<matplotlib.lines.Line2D at 0x1f577372280>,\n",
       "  <matplotlib.lines.Line2D at 0x1f57737ca90>,\n",
       "  <matplotlib.lines.Line2D at 0x1f5771462b0>],\n",
       " 'medians': [<matplotlib.lines.Line2D at 0x1f57737c3d0>,\n",
       "  <matplotlib.lines.Line2D at 0x1f57713abb0>,\n",
       "  <matplotlib.lines.Line2D at 0x1f5771523d0>],\n",
       " 'fliers': [<matplotlib.lines.Line2D at 0x1f57737c730>,\n",
       "  <matplotlib.lines.Line2D at 0x1f57713af10>,\n",
       "  <matplotlib.lines.Line2D at 0x1f577152730>],\n",
       " 'means': []}"
      ]
     },
     "execution_count": 13,
     "metadata": {},
     "output_type": "execute_result"
    },
    {
     "data": {
      "text/plain": [
       "([<matplotlib.axis.XTick at 0x1f577349b50>,\n",
       "  <matplotlib.axis.XTick at 0x1f577349b20>,\n",
       "  <matplotlib.axis.XTick at 0x1f577372040>],\n",
       " [Text(1, 0, '지점A'), Text(2, 0, '지점B'), Text(3, 0, '지점C')])"
      ]
     },
     "execution_count": 13,
     "metadata": {},
     "output_type": "execute_result"
    },
    {
     "data": {
      "image/png": "[encoded data removed]",
      "text/plain": [
       "<Figure size 720x720 with 1 Axes>"
      ]
     },
     "metadata": {
      "needs_background": "light"
     },
     "output_type": "display_data"
    }
   ],
   "source": [
    "plt.rcParams[\"font.family\"] = 'Malgun Gothic'\n",
    "plt.rcParams[\"font.size\"] = 20\n",
    "plt.rcParams[\"figure.figsize\"] = (10, 10)\n",
    "\n",
    "p1 = ['지점A','지점B','지점C']\n",
    "\n",
    "plt.boxplot([A,B,C])\n",
    "\n",
    "plt.xticks([1,2,3],p1) # plt.xticks([1,2,3],['A','B','C']) 동일한 표현"
   ]
  },
  {
   "cell_type": "code",
   "execution_count": 14,
   "id": "a99281c7",
   "metadata": {},
   "outputs": [
    {
     "data": {
      "text/plain": [
       "KstestResult(statistic=1.0, pvalue=0.0)"
      ]
     },
     "execution_count": 14,
     "metadata": {},
     "output_type": "execute_result"
    },
    {
     "data": {
      "text/plain": [
       "KstestResult(statistic=1.0, pvalue=0.0)"
      ]
     },
     "execution_count": 14,
     "metadata": {},
     "output_type": "execute_result"
    },
    {
     "data": {
      "text/plain": [
       "KstestResult(statistic=1.0, pvalue=0.0)"
      ]
     },
     "execution_count": 14,
     "metadata": {},
     "output_type": "execute_result"
    }
   ],
   "source": [
    "# 정규성 검정\n",
    "#pvalue가 유의수준보다 작으므로 정규분포를 띈다\n",
    "\n",
    "kstest(A, 'norm')\n",
    "kstest(B, 'norm')\n",
    "kstest(C, 'norm')"
   ]
  },
  {
   "cell_type": "code",
   "execution_count": 15,
   "id": "66eb7a4b",
   "metadata": {},
   "outputs": [
    {
     "data": {
      "text/plain": [
       "LeveneResult(statistic=1.244640322359082, pvalue=0.2931218868935245)"
      ]
     },
     "execution_count": 15,
     "metadata": {},
     "output_type": "execute_result"
    }
   ],
   "source": [
    "# 등분산성 검정\n",
    "levene(A,B,C)\n",
    "# pvalue가 0.05보다 크므로 귀무가설 채책(세그룹의 분산 동일)"
   ]
  },
  {
   "cell_type": "code",
   "execution_count": 16,
   "id": "f5b028f7",
   "metadata": {},
   "outputs": [
    {
     "data": {
      "text/plain": [
       "F_onewayResult(statistic=178.43825416847133, pvalue=1.6337420285664805e-31)"
      ]
     },
     "execution_count": 16,
     "metadata": {},
     "output_type": "execute_result"
    }
   ],
   "source": [
    "f_oneway(A,B,C)\n",
    "#pvalue가 거의 0에 수렴 => A,B,C 평균에서 최소 어느 한 집단은 유의한 차이가 존재"
   ]
  },
  {
   "cell_type": "code",
   "execution_count": 17,
   "id": "c5e38d44",
   "metadata": {},
   "outputs": [
    {
     "data": {
      "text/plain": [
       "array([124, 147, 129, 123, 147, 149, 140, 142, 124, 166, 127, 130, 139,\n",
       "       121, 149, 155, 140, 150, 137, 144, 136, 126, 150, 142, 149, 127,\n",
       "       140, 138, 128, 117], dtype=int64)"
      ]
     },
     "execution_count": 17,
     "metadata": {},
     "output_type": "execute_result"
    },
    {
     "data": {
      "text/plain": [
       "array([118, 141, 130, 127, 107, 140, 146, 122, 160, 157, 141, 142, 150,\n",
       "       136, 157, 107, 172, 126, 135, 115, 133, 132, 127, 128, 142, 161,\n",
       "       140, 125, 142, 135], dtype=int64)"
      ]
     },
     "execution_count": 17,
     "metadata": {},
     "output_type": "execute_result"
    },
    {
     "data": {
      "text/plain": [
       "array([216, 214, 212, 179, 222, 238, 218, 200, 186, 188, 216, 183, 198,\n",
       "       199, 187, 183, 190, 161, 203, 192, 235, 208, 187, 201, 196, 202,\n",
       "       209, 179, 197, 204], dtype=int64)"
      ]
     },
     "execution_count": 17,
     "metadata": {},
     "output_type": "execute_result"
    }
   ],
   "source": [
    "#사후 분석\n",
    "from statsmodels.stats.multicomp import pairwise_tukeyhsd\n",
    "\n",
    "A\n",
    "B\n",
    "C"
   ]
  },
  {
   "cell_type": "code",
   "execution_count": 20,
   "id": "c3f8b852",
   "metadata": {},
   "outputs": [
    {
     "data": {
      "text/plain": [
       "(90, 90)"
      ]
     },
     "execution_count": 20,
     "metadata": {},
     "output_type": "execute_result"
    },
    {
     "data": {
      "text/plain": [
       "<statsmodels.sandbox.stats.multicomp.TukeyHSDResults at 0x1f5787ef9a0>"
      ]
     },
     "execution_count": 20,
     "metadata": {},
     "output_type": "execute_result"
    },
    {
     "name": "stdout",
     "output_type": "stream",
     "text": [
      "Multiple Comparison of Means - Tukey HSD, FWER=0.05 \n",
      "====================================================\n",
      "group1 group2 meandiff p-adj  lower    upper  reject\n",
      "----------------------------------------------------\n",
      "     A      B     -1.4   0.9 -10.5745  7.7745  False\n",
      "     A      C  62.2333 0.001  53.0589 71.4078   True\n",
      "     B      C  63.6333 0.001  54.4589 72.8078   True\n",
      "----------------------------------------------------\n"
     ]
    },
    {
     "data": {
      "image/png": "[encoded data removed]",
      "text/plain": [
       "<Figure size 720x432 with 1 Axes>"
      ]
     },
     "metadata": {
      "needs_background": "light"
     },
     "output_type": "display_data"
    }
   ],
   "source": [
    "# A B C 결합\n",
    "\n",
    "Data = A.tolist() + B.tolist() + C.tolist()\n",
    "Group = ['A']*len(A) + ['B']*len(B) + ['C']*len(C)\n",
    "\n",
    "len(Data), len(Group)\n",
    "posthoc = pairwise_tukeyhsd(Data, Group)\n",
    "\n",
    "posthoc\n",
    "print(posthoc) # 결과를 보려면 print() 함수를 사용해야 함\n",
    "\n",
    "# reject 결과를 확인\n",
    "# [A,B] or [C]로 데이터가 구분\n",
    "# 3변수에서 C는 다른 집단과 유의한 차이가 존재\n",
    "\n",
    "fig = posthoc.plot_simultaneous()\n"
   ]
  },
  {
   "cell_type": "code",
   "execution_count": null,
   "id": "3635e4c7",
   "metadata": {},
   "outputs": [],
   "source": []
  },
  {
   "cell_type": "code",
   "execution_count": null,
   "id": "24ae20e9",
   "metadata": {},
   "outputs": [],
   "source": []
  },
  {
   "cell_type": "code",
   "execution_count": null,
   "id": "646e089f",
   "metadata": {},
   "outputs": [],
   "source": []
  },
  {
   "cell_type": "code",
   "execution_count": null,
   "id": "1bacf65f",
   "metadata": {},
   "outputs": [],
   "source": []
  },
  {
   "cell_type": "code",
   "execution_count": null,
   "id": "2897285a",
   "metadata": {},
   "outputs": [],
   "source": []
  },
  {
   "cell_type": "code",
   "execution_count": null,
   "id": "a10acf2b",
   "metadata": {},
   "outputs": [],
   "source": []
  },
  {
   "cell_type": "code",
   "execution_count": null,
   "id": "82dbdab2",
   "metadata": {},
   "outputs": [],
   "source": []
  },
  {
   "cell_type": "code",
   "execution_count": null,
   "id": "d3c81912",
   "metadata": {},
   "outputs": [],
   "source": []
  },
  {
   "cell_type": "code",
   "execution_count": null,
   "id": "cffc57b9",
   "metadata": {},
   "outputs": [],
   "source": []
  },
  {
   "cell_type": "code",
   "execution_count": null,
   "id": "70b6bed2",
   "metadata": {},
   "outputs": [],
   "source": []
  },
  {
   "cell_type": "code",
   "execution_count": null,
   "id": "50cfc2bf",
   "metadata": {},
   "outputs": [],
   "source": []
  },
  {
   "cell_type": "code",
   "execution_count": null,
   "id": "24177d9e",
   "metadata": {},
   "outputs": [],
   "source": []
  },
  {
   "cell_type": "code",
   "execution_count": null,
   "id": "15d8467c",
   "metadata": {},
   "outputs": [],
   "source": []
  },
  {
   "cell_type": "code",
   "execution_count": null,
   "id": "400fb88d",
   "metadata": {},
   "outputs": [],
   "source": []
  },
  {
   "cell_type": "code",
   "execution_count": null,
   "id": "411a760b",
   "metadata": {},
   "outputs": [],
   "source": []
  },
  {
   "cell_type": "code",
   "execution_count": null,
   "id": "b91aa934",
   "metadata": {},
   "outputs": [],
   "source": []
  },
  {
   "cell_type": "code",
   "execution_count": null,
   "id": "5ed3db75",
   "metadata": {},
   "outputs": [],
   "source": []
  },
  {
   "cell_type": "code",
   "execution_count": null,
   "id": "99e20076",
   "metadata": {},
   "outputs": [],
   "source": []
  },
  {
   "cell_type": "code",
   "execution_count": null,
   "id": "a2bbd2c0",
   "metadata": {},
   "outputs": [],
   "source": []
  },
  {
   "cell_type": "code",
   "execution_count": null,
   "id": "9e2458c7",
   "metadata": {},
   "outputs": [],
   "source": []
  },
  {
   "cell_type": "code",
   "execution_count": null,
   "id": "35f9c189",
   "metadata": {},
   "outputs": [],
   "source": []
  },
  {
   "cell_type": "code",
   "execution_count": null,
   "id": "537c49f0",
   "metadata": {},
   "outputs": [],
   "source": []
  },
  {
   "cell_type": "code",
   "execution_count": null,
   "id": "b5f058eb",
   "metadata": {},
   "outputs": [],
   "source": []
  },
  {
   "cell_type": "code",
   "execution_count": null,
   "id": "c017e677",
   "metadata": {},
   "outputs": [],
   "source": []
  },
  {
   "cell_type": "code",
   "execution_count": null,
   "id": "bda2bdeb",
   "metadata": {},
   "outputs": [],
   "source": []
  },
  {
   "cell_type": "code",
   "execution_count": null,
   "id": "b5b28237",
   "metadata": {},
   "outputs": [],
   "source": []
  },
  {
   "cell_type": "code",
   "execution_count": null,
   "id": "3e2314e3",
   "metadata": {},
   "outputs": [],
   "source": []
  }
 ],
 "metadata": {
  "kernelspec": {
   "display_name": "Python 3",
   "language": "python",
   "name": "python3"
  },
  "language_info": {
   "codemirror_mode": {
    "name": "ipython",
    "version": 3
   },
   "file_extension": ".py",
   "mimetype": "text/x-python",
   "name": "python",
   "nbconvert_exporter": "python",
   "pygments_lexer": "ipython3",
   "version": "3.8.8"
  }
 },
 "nbformat": 4,
 "nbformat_minor": 5
}
