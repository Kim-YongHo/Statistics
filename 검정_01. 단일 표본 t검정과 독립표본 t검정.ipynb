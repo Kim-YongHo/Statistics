{
 "cells": [
  {
   "cell_type": "markdown",
   "id": "eb6ff444",
   "metadata": {},
   "source": [
    "## 가설검정 단계\n",
    "- 가설을 세운다 -> 두 집단의 평균은 같다(귀무가설) 두집단의 평균은 다르다 (대립가설)\n",
    "- 기준을 세운다 -> 검정통계량을 구한다 (유의수준 5%)\n",
    "- 결론을 내린다 -> p_value 참고\n",
    "\n",
    "    - 기본 양측검정의 결과를 반환하므로 단측 검정으로 해석하려면 p-value/2를 해서 해석\n",
    "    - 통계량이 양수인지 음수인지에 따라서 해석이 달라짐\n",
    "    "
   ]
  },
  {
   "cell_type": "markdown",
   "id": "c338c66f",
   "metadata": {},
   "source": [
    "![](../picture/검정선택.png)"
   ]
  },
  {
   "cell_type": "markdown",
   "id": "ab4b82e8",
   "metadata": {},
   "source": [
    "## p-value란?\n",
    "\n",
    "- 귀무 가설이 참이라고 했을 때 표본 데이터가 수집될 확률\n",
    "- P-value가 낮을 수록 대립가설 채택\n",
    "- 통상적으로 p-value < 0.05 면 대립가설 채택\n",
    "- 이때 0.05를 유의 수준이라고 하며 대게 0.05 또는 0.01 중 선택\n"
   ]
  },
  {
   "cell_type": "markdown",
   "id": "3c1a48e8",
   "metadata": {},
   "source": [
    "## T 검정"
   ]
  },
  {
   "cell_type": "markdown",
   "id": "1d2123f5",
   "metadata": {},
   "source": [
    "![](../picture/검정종류.png)"
   ]
  },
  {
   "cell_type": "markdown",
   "id": "83e5df42",
   "metadata": {},
   "source": [
    "## 단일표본 T검정\n",
    "\n",
    "- 목적 : 표본 그룹의 평균이 기준값과 차이가 있는지를 확인\n",
    "- 귀무가설 : 표본평균 (sample의 평균)과 모집단의 평균은 같다\n",
    "- 대립가설 : 표본평균 (sample의 평균)과 모집단의 평균은 다르다 \n",
    "- ex) 편의점에서 판매하는 감자튀김의 무게는 130g 인지 아닌지를 판다    "
   ]
  },
  {
   "cell_type": "markdown",
   "id": "f07562ad",
   "metadata": {},
   "source": [
    "## 선행조건\n",
    "\n",
    "- 해당 변수(sample)은 정규분포를 따라야 함 : 정규성 검정이 선행되어야 함\n",
    "    - 단, 샘플수가 많을 수록 정규성을 띌 가능성이 높아지므로 샘플수가 부족한 경우에만 정규성 검정을 수행\n",
    "    - 만약, 정규성을 뜨지 않으면 비모수적인 방법인 부호검정을 진행"
   ]
  },
  {
   "cell_type": "markdown",
   "id": "9fd9287d",
   "metadata": {},
   "source": [
    "## t통계량\n",
    "![](../picture/t통계량.png)"
   ]
  },
  {
   "cell_type": "markdown",
   "id": "0465e602",
   "metadata": {},
   "source": [
    "## 정규성 검정 방법 : Kolmogorov-Smornov 검정\n",
    "\n",
    "- KS test라 함 \n",
    "- 관측한 샘플들이 특정 분포를 따르는지 확인 하기 위한 검정 방법\n",
    "- KS test는 특정 분포를 따른다면 나올 것이라 예상되는 값과 실제 값의 차이가 유의한지를 확인하는 방법\n",
    "    - 관측한 샘플들이 특정 분포를 따르는지 확인하기 위한 검정방법임\n",
    "        - 예상되는 값과 실제값의 차이가 클수록 분포를 따르지 않는다고 보며, \n",
    "        - 차이(pvalue)가 작을 수록 분포를 따른다고 봄\n",
    "    - 해당분포를 정규분포로 설정하여 정규성 검정에도 사용\n"
   ]
  },
  {
   "cell_type": "markdown",
   "id": "8f951c5e",
   "metadata": {},
   "source": [
    "![](../picture/단일표본t검정표.png)"
   ]
  },
  {
   "cell_type": "code",
   "execution_count": 1,
   "id": "8ed35f44",
   "metadata": {},
   "outputs": [],
   "source": [
    "import numpy as np\n",
    "import pandas as pd\n",
    "from scipy.stats import *\n",
    "\n",
    "%precision 3\n",
    "np.random.seed(1111)\n"
   ]
  },
  {
   "cell_type": "code",
   "execution_count": 12,
   "id": "51658402",
   "metadata": {},
   "outputs": [],
   "source": [
    "from IPython.core.interactiveshell import InteractiveShell\n",
    "InteractiveShell.ast_node_interactivity=\"all\""
   ]
  },
  {
   "cell_type": "markdown",
   "id": "0086e965",
   "metadata": {},
   "source": [
    "## map 함수\n",
    "- map은 리스트의 요소를 지정된 함수로 처리해주는 함수\n",
    "- map은 원본 리스트를 변경하지 않고 새 리스트를 생성\n"
   ]
  },
  {
   "cell_type": "code",
   "execution_count": 6,
   "id": "c1df6909",
   "metadata": {},
   "outputs": [
    {
     "data": {
      "text/plain": [
       "[1, 2, 3, 4]"
      ]
     },
     "execution_count": 6,
     "metadata": {},
     "output_type": "execute_result"
    }
   ],
   "source": [
    "a = [1.2, 2.5, 3.7, 4.6]\n",
    "a = list(map(int, a))\n",
    "a"
   ]
  },
  {
   "cell_type": "code",
   "execution_count": 3,
   "id": "c10e2e5d",
   "metadata": {},
   "outputs": [
    {
     "name": "stdout",
     "output_type": "stream",
     "text": [
      "<class 'str'>\n",
      "<class 'float'>\n"
     ]
    }
   ],
   "source": [
    "# data 불러오기\n",
    "\n",
    "import os\n",
    "with open('../data/성인여성_키_데이터.txt','r') as f:\n",
    "    \n",
    "    data = f.read().split('\\n')\n",
    "    print(type(data[0]))\n",
    "    \n",
    "    data = list(map(float, data))\n",
    "    print(type(data[0]))\n",
    "   "
   ]
  },
  {
   "cell_type": "code",
   "execution_count": 4,
   "id": "120168d1",
   "metadata": {},
   "outputs": [
    {
     "data": {
      "text/plain": [
       "25"
      ]
     },
     "execution_count": 4,
     "metadata": {},
     "output_type": "execute_result"
    }
   ],
   "source": [
    "data[:3]\n",
    "len(data)"
   ]
  },
  {
   "cell_type": "markdown",
   "id": "7865d87c",
   "metadata": {},
   "source": [
    "## 경기 지역 성인 여성 25명의 키 데이터 분석\n",
    "- 경기 지역 성인 연성 키의 평균은 163이라는 자료\n",
    "- 수집한 sample로 성인 여성 키 163인 검정을 통해 확인"
   ]
  },
  {
   "cell_type": "markdown",
   "id": "ba3f553f",
   "metadata": {},
   "source": [
    "## 단일 표본 t검정을 수행 (데이터가 25개이고 표본이 하나)\n",
    "- 정규성을 띄는지 확인\n",
    "- 1개 표본이므로 분산과는 상관이 없음\n",
    "- ttest_1sapm(집단, popmean=기준값)\n",
    "- 귀무가설 : 집단의 ㅕㅍㅇ균은 모집단의 평균(기준값)과 같다"
   ]
  },
  {
   "cell_type": "code",
   "execution_count": 5,
   "id": "12d58a8d",
   "metadata": {},
   "outputs": [
    {
     "data": {
      "text/plain": [
       "KstestResult(statistic=1.0, pvalue=0.0)"
      ]
     },
     "execution_count": 5,
     "metadata": {},
     "output_type": "execute_result"
    }
   ],
   "source": [
    "# 정규성 검정\n",
    "# kstest(): 모든 분포에 대하여 검정할 수 있고, 정규분포는 'norm' 인수로 검정\n",
    "# 통계량과 p-value를 반환\n",
    "\n",
    "kstest(data,'norm') # p-value가 0.0 < 0.05 으로 정규성을 띈다고 봅니다."
   ]
  },
  {
   "cell_type": "code",
   "execution_count": 11,
   "id": "7910986f",
   "metadata": {},
   "outputs": [
    {
     "data": {
      "text/plain": [
       "Ttest_1sampResult(statistic=-2.979804412662668, pvalue=0.006510445335847954)"
      ]
     },
     "execution_count": 11,
     "metadata": {},
     "output_type": "execute_result"
    }
   ],
   "source": [
    "ttest_1samp(data,163)\n",
    "\n",
    "# 통계량 statistic = -2.979804412662668\n",
    "#pvalue=0.006510445335847954  # 유의수준 0.05보다 작은 값이므로 귀무가설 기각\n",
    "#통계량이 음수이므로 기준값 미만이다라는 해석 가능"
   ]
  },
  {
   "cell_type": "code",
   "execution_count": 7,
   "id": "2a56c8c1",
   "metadata": {},
   "outputs": [
    {
     "data": {
      "text/plain": [
       "Ttest_1sampResult(statistic=-2.979804412662668, pvalue=0.996744777332076)"
      ]
     },
     "execution_count": 7,
     "metadata": {},
     "output_type": "execute_result"
    }
   ],
   "source": [
    "ttest_1samp(data,163) # 기본 양측 검정을 진행\n",
    "\n",
    "ttest_1samp(data,163, alternative = 'two-sided')\n",
    "ttest_1samp(data,163, alternative = 'less') # 단측검정\n",
    "ttest_1samp(data,163, alternative = 'greater') # 단측검정"
   ]
  },
  {
   "cell_type": "markdown",
   "id": "141c0fb9",
   "metadata": {},
   "source": [
    "## 독립표본 t검정\n",
    "- 목적 : 서로 다른 두 집단의 평균 비교\n",
    "- 귀무가설 : 두 집단의 평균은 같다\n",
    "- 대립가설 : 두 집단의 평균은 차이가 있다\n",
    "- ex) 중간고사 국어점수 A반 B반의 평균을 비교했을 때 A반의 평균이 3점 높고 두 반의 차이가 있는지 확인"
   ]
  },
  {
   "cell_type": "markdown",
   "id": "674acecc",
   "metadata": {},
   "source": [
    "## 선행조건\n",
    "- 독립성 : 두 그룹은 독적이어야 함\n",
    "- 정규성 : 데이터는 정규분포를 따름\n",
    "    - 만약, 정규성을 띄지 않으면 비모수적인 방법인 부호검정을 진행\n",
    "- 등분산성 : 두 그룹의 데이터에 대한 분산이 같아야 함\n",
    "    - Levene의 등부산 검정 : p-value가 0.05 미만이면 분산이 다르다고 판단\n",
    "- 분산이 같은지 다른지에 따라 사용하는 통계량이 달라지므로 함수내에서 설정르 달리함\n"
   ]
  },
  {
   "cell_type": "markdown",
   "id": "11b03293",
   "metadata": {},
   "source": [
    "![](../picture/독립t등분산.png)\n",
    "![](../picture/독립표본t이분산.png)"
   ]
  },
  {
   "cell_type": "markdown",
   "id": "835d1a1e",
   "metadata": {},
   "source": [
    "- 두 반의 국어 공통 평가 점수가 있을 때 두 반의 유의미한 평균 차이가 있는지 확인해보자 (절대적인 평균 점수 차이가 아님)"
   ]
  },
  {
   "cell_type": "code",
   "execution_count": 9,
   "id": "5d717562",
   "metadata": {},
   "outputs": [],
   "source": [
    "df1 = pd.read_csv('../data/반별_점수_type1.csv', encoding = 'euc-kr')\n",
    "# UnicodeDecodeError: 'utf-8' codec can't decode byte 0xb9 in position 0: invalid start byte 에러가 발생 (encoding = 'UTF-8') 다른거로 변경"
   ]
  },
  {
   "cell_type": "code",
   "execution_count": 13,
   "id": "bfff0dd7",
   "metadata": {},
   "outputs": [
    {
     "data": {
      "text/html": [
       "<div>\n",
       "<style scoped>\n",
       "    .dataframe tbody tr th:only-of-type {\n",
       "        vertical-align: middle;\n",
       "    }\n",
       "\n",
       "    .dataframe tbody tr th {\n",
       "        vertical-align: top;\n",
       "    }\n",
       "\n",
       "    .dataframe thead th {\n",
       "        text-align: right;\n",
       "    }\n",
       "</style>\n",
       "<table border=\"1\" class=\"dataframe\">\n",
       "  <thead>\n",
       "    <tr style=\"text-align: right;\">\n",
       "      <th></th>\n",
       "      <th>반</th>\n",
       "      <th>점수</th>\n",
       "    </tr>\n",
       "  </thead>\n",
       "  <tbody>\n",
       "    <tr>\n",
       "      <th>0</th>\n",
       "      <td>A</td>\n",
       "      <td>73</td>\n",
       "    </tr>\n",
       "    <tr>\n",
       "      <th>1</th>\n",
       "      <td>A</td>\n",
       "      <td>69</td>\n",
       "    </tr>\n",
       "    <tr>\n",
       "      <th>2</th>\n",
       "      <td>A</td>\n",
       "      <td>71</td>\n",
       "    </tr>\n",
       "    <tr>\n",
       "      <th>3</th>\n",
       "      <td>A</td>\n",
       "      <td>71</td>\n",
       "    </tr>\n",
       "    <tr>\n",
       "      <th>4</th>\n",
       "      <td>A</td>\n",
       "      <td>73</td>\n",
       "    </tr>\n",
       "  </tbody>\n",
       "</table>\n",
       "</div>"
      ],
      "text/plain": [
       "   반  점수\n",
       "0  A  73\n",
       "1  A  69\n",
       "2  A  71\n",
       "3  A  71\n",
       "4  A  73"
      ]
     },
     "execution_count": 13,
     "metadata": {},
     "output_type": "execute_result"
    },
    {
     "data": {
      "text/html": [
       "<div>\n",
       "<style scoped>\n",
       "    .dataframe tbody tr th:only-of-type {\n",
       "        vertical-align: middle;\n",
       "    }\n",
       "\n",
       "    .dataframe tbody tr th {\n",
       "        vertical-align: top;\n",
       "    }\n",
       "\n",
       "    .dataframe thead th {\n",
       "        text-align: right;\n",
       "    }\n",
       "</style>\n",
       "<table border=\"1\" class=\"dataframe\">\n",
       "  <thead>\n",
       "    <tr style=\"text-align: right;\">\n",
       "      <th></th>\n",
       "      <th>반</th>\n",
       "      <th>점수</th>\n",
       "    </tr>\n",
       "  </thead>\n",
       "  <tbody>\n",
       "    <tr>\n",
       "      <th>25</th>\n",
       "      <td>B</td>\n",
       "      <td>77</td>\n",
       "    </tr>\n",
       "    <tr>\n",
       "      <th>26</th>\n",
       "      <td>B</td>\n",
       "      <td>75</td>\n",
       "    </tr>\n",
       "    <tr>\n",
       "      <th>27</th>\n",
       "      <td>B</td>\n",
       "      <td>65</td>\n",
       "    </tr>\n",
       "    <tr>\n",
       "      <th>28</th>\n",
       "      <td>B</td>\n",
       "      <td>61</td>\n",
       "    </tr>\n",
       "    <tr>\n",
       "      <th>29</th>\n",
       "      <td>B</td>\n",
       "      <td>55</td>\n",
       "    </tr>\n",
       "  </tbody>\n",
       "</table>\n",
       "</div>"
      ],
      "text/plain": [
       "    반  점수\n",
       "25  B  77\n",
       "26  B  75\n",
       "27  B  65\n",
       "28  B  61\n",
       "29  B  55"
      ]
     },
     "execution_count": 13,
     "metadata": {},
     "output_type": "execute_result"
    }
   ],
   "source": [
    "df1.head()\n",
    "df1.tail()"
   ]
  },
  {
   "cell_type": "code",
   "execution_count": 15,
   "id": "072abe2d",
   "metadata": {},
   "outputs": [
    {
     "data": {
      "text/html": [
       "<div>\n",
       "<style scoped>\n",
       "    .dataframe tbody tr th:only-of-type {\n",
       "        vertical-align: middle;\n",
       "    }\n",
       "\n",
       "    .dataframe tbody tr th {\n",
       "        vertical-align: top;\n",
       "    }\n",
       "\n",
       "    .dataframe thead th {\n",
       "        text-align: right;\n",
       "    }\n",
       "</style>\n",
       "<table border=\"1\" class=\"dataframe\">\n",
       "  <thead>\n",
       "    <tr style=\"text-align: right;\">\n",
       "      <th></th>\n",
       "      <th>점수</th>\n",
       "    </tr>\n",
       "  </thead>\n",
       "  <tbody>\n",
       "    <tr>\n",
       "      <th>0</th>\n",
       "      <td>73</td>\n",
       "    </tr>\n",
       "    <tr>\n",
       "      <th>1</th>\n",
       "      <td>69</td>\n",
       "    </tr>\n",
       "    <tr>\n",
       "      <th>2</th>\n",
       "      <td>71</td>\n",
       "    </tr>\n",
       "    <tr>\n",
       "      <th>3</th>\n",
       "      <td>71</td>\n",
       "    </tr>\n",
       "    <tr>\n",
       "      <th>4</th>\n",
       "      <td>73</td>\n",
       "    </tr>\n",
       "    <tr>\n",
       "      <th>5</th>\n",
       "      <td>67</td>\n",
       "    </tr>\n",
       "    <tr>\n",
       "      <th>6</th>\n",
       "      <td>73</td>\n",
       "    </tr>\n",
       "    <tr>\n",
       "      <th>7</th>\n",
       "      <td>69</td>\n",
       "    </tr>\n",
       "    <tr>\n",
       "      <th>8</th>\n",
       "      <td>62</td>\n",
       "    </tr>\n",
       "    <tr>\n",
       "      <th>9</th>\n",
       "      <td>74</td>\n",
       "    </tr>\n",
       "    <tr>\n",
       "      <th>10</th>\n",
       "      <td>68</td>\n",
       "    </tr>\n",
       "    <tr>\n",
       "      <th>11</th>\n",
       "      <td>66</td>\n",
       "    </tr>\n",
       "    <tr>\n",
       "      <th>12</th>\n",
       "      <td>70</td>\n",
       "    </tr>\n",
       "    <tr>\n",
       "      <th>13</th>\n",
       "      <td>82</td>\n",
       "    </tr>\n",
       "    <tr>\n",
       "      <th>14</th>\n",
       "      <td>70</td>\n",
       "    </tr>\n",
       "    <tr>\n",
       "      <th>15</th>\n",
       "      <td>65</td>\n",
       "    </tr>\n",
       "    <tr>\n",
       "      <th>16</th>\n",
       "      <td>76</td>\n",
       "    </tr>\n",
       "    <tr>\n",
       "      <th>17</th>\n",
       "      <td>73</td>\n",
       "    </tr>\n",
       "    <tr>\n",
       "      <th>18</th>\n",
       "      <td>58</td>\n",
       "    </tr>\n",
       "    <tr>\n",
       "      <th>19</th>\n",
       "      <td>81</td>\n",
       "    </tr>\n",
       "    <tr>\n",
       "      <th>20</th>\n",
       "      <td>63</td>\n",
       "    </tr>\n",
       "    <tr>\n",
       "      <th>21</th>\n",
       "      <td>56</td>\n",
       "    </tr>\n",
       "    <tr>\n",
       "      <th>22</th>\n",
       "      <td>73</td>\n",
       "    </tr>\n",
       "    <tr>\n",
       "      <th>23</th>\n",
       "      <td>61</td>\n",
       "    </tr>\n",
       "    <tr>\n",
       "      <th>24</th>\n",
       "      <td>55</td>\n",
       "    </tr>\n",
       "    <tr>\n",
       "      <th>25</th>\n",
       "      <td>77</td>\n",
       "    </tr>\n",
       "    <tr>\n",
       "      <th>26</th>\n",
       "      <td>75</td>\n",
       "    </tr>\n",
       "    <tr>\n",
       "      <th>27</th>\n",
       "      <td>65</td>\n",
       "    </tr>\n",
       "    <tr>\n",
       "      <th>28</th>\n",
       "      <td>61</td>\n",
       "    </tr>\n",
       "    <tr>\n",
       "      <th>29</th>\n",
       "      <td>55</td>\n",
       "    </tr>\n",
       "  </tbody>\n",
       "</table>\n",
       "</div>"
      ],
      "text/plain": [
       "    점수\n",
       "0   73\n",
       "1   69\n",
       "2   71\n",
       "3   71\n",
       "4   73\n",
       "5   67\n",
       "6   73\n",
       "7   69\n",
       "8   62\n",
       "9   74\n",
       "10  68\n",
       "11  66\n",
       "12  70\n",
       "13  82\n",
       "14  70\n",
       "15  65\n",
       "16  76\n",
       "17  73\n",
       "18  58\n",
       "19  81\n",
       "20  63\n",
       "21  56\n",
       "22  73\n",
       "23  61\n",
       "24  55\n",
       "25  77\n",
       "26  75\n",
       "27  65\n",
       "28  61\n",
       "29  55"
      ]
     },
     "execution_count": 15,
     "metadata": {},
     "output_type": "execute_result"
    }
   ],
   "source": [
    "df1[['점수']]"
   ]
  },
  {
   "cell_type": "code",
   "execution_count": 17,
   "id": "64f1ff53",
   "metadata": {},
   "outputs": [],
   "source": [
    "# df1을 A반과 B반으로 분리\n",
    "g_A = df1['점수'].loc[df1['반']=='A'].values #np.array 타입을 반환\n",
    "g_B = df1['점수'].loc[df1['반']=='B'].values"
   ]
  },
  {
   "cell_type": "code",
   "execution_count": 18,
   "id": "4692a8c8",
   "metadata": {},
   "outputs": [
    {
     "data": {
      "text/plain": [
       "(array([73, 69, 71, 71, 73, 67, 73, 69, 62, 74, 68, 66, 70, 82, 70, 65, 76,\n",
       "        73, 58, 81], dtype=int64),\n",
       " 70.55)"
      ]
     },
     "execution_count": 18,
     "metadata": {},
     "output_type": "execute_result"
    },
    {
     "data": {
      "text/plain": [
       "(array([63, 56, 73, 61, 55, 77, 75, 65, 61, 55], dtype=int64), 64.1)"
      ]
     },
     "execution_count": 18,
     "metadata": {},
     "output_type": "execute_result"
    }
   ],
   "source": [
    "g_A, g_A.mean()\n",
    "g_B, g_B.mean()"
   ]
  },
  {
   "cell_type": "code",
   "execution_count": 19,
   "id": "94654227",
   "metadata": {},
   "outputs": [
    {
     "data": {
      "text/plain": [
       "KstestResult(statistic=1.0, pvalue=0.0)"
      ]
     },
     "execution_count": 19,
     "metadata": {},
     "output_type": "execute_result"
    },
    {
     "data": {
      "text/plain": [
       "KstestResult(statistic=1.0, pvalue=0.0)"
      ]
     },
     "execution_count": 19,
     "metadata": {},
     "output_type": "execute_result"
    }
   ],
   "source": [
    "# 정규성 검정\n",
    "kstest(g_A, 'norm')\n",
    "kstest(g_B, 'norm') # pvalue가 0이므로 정규성을 띈다"
   ]
  },
  {
   "cell_type": "code",
   "execution_count": 20,
   "id": "ca590fce",
   "metadata": {},
   "outputs": [
    {
     "data": {
      "text/plain": [
       "LeveneResult(statistic=2.033067087400979, pvalue=0.164964086222101)"
      ]
     },
     "execution_count": 20,
     "metadata": {},
     "output_type": "execute_result"
    }
   ],
   "source": [
    "#등분산성 검정\n",
    "levene(g_A, g_B)\n",
    "#귀무가설 : 두집단은 등분산을 갖는다"
   ]
  },
  {
   "cell_type": "code",
   "execution_count": 21,
   "id": "9a98e2a4",
   "metadata": {},
   "outputs": [
    {
     "data": {
      "text/plain": [
       "(32.26052631578948, 68.54444444444445)"
      ]
     },
     "execution_count": 21,
     "metadata": {},
     "output_type": "execute_result"
    }
   ],
   "source": [
    "np.var(g_A,ddof=1), np.var(g_B,ddof=1)"
   ]
  },
  {
   "cell_type": "code",
   "execution_count": 25,
   "id": "d9bae770",
   "metadata": {},
   "outputs": [
    {
     "data": {
      "text/plain": [
       "Ttest_indResult(statistic=2.5128526794964134, pvalue=0.01801095352893767)"
      ]
     },
     "execution_count": 25,
     "metadata": {},
     "output_type": "execute_result"
    },
    {
     "data": {
      "text/plain": [
       "Ttest_indResult(statistic=-2.5128526794964134, pvalue=0.01801095352893767)"
      ]
     },
     "execution_count": 25,
     "metadata": {},
     "output_type": "execute_result"
    },
    {
     "data": {
      "text/plain": [
       "Ttest_indResult(statistic=2.2165772005780684, pvalue=0.04454669638896435)"
      ]
     },
     "execution_count": 25,
     "metadata": {},
     "output_type": "execute_result"
    },
    {
     "data": {
      "text/plain": [
       "Ttest_indResult(statistic=-2.2165772005780684, pvalue=0.04454669638896435)"
      ]
     },
     "execution_count": 25,
     "metadata": {},
     "output_type": "execute_result"
    }
   ],
   "source": [
    "# 두 집단의 분산값이 같으므로 equal_var = True\n",
    "# 두 집단이 등분산성이 없으면 equal_var=False로 설정\n",
    "#pavalue가 유의수준 0.05보다 작으므로 두 집단의 평균은 차이가 있음\n",
    "#통계량이 양수이므로 g_A의 평균이 더 높음\n",
    "\n",
    "## 수정후 (Truen 가 맞는 등분산성인가를 판단해서)\n",
    "ttest_ind(g_A, g_B, equal_var=True)\n",
    "ttest_ind(g_B, g_A, equal_var=True)\n",
    "\n",
    "## 수정전\n",
    "ttest_ind(g_A, g_B, equal_var=False)\n",
    "ttest_ind(g_B, g_A, equal_var=False)"
   ]
  },
  {
   "cell_type": "markdown",
   "id": "542bc1cb",
   "metadata": {},
   "source": [
    "## 데이터에 의도하지 않은 NaN 값을 포함"
   ]
  },
  {
   "cell_type": "code",
   "execution_count": 24,
   "id": "336a6ebe",
   "metadata": {},
   "outputs": [
    {
     "data": {
      "text/html": [
       "<div>\n",
       "<style scoped>\n",
       "    .dataframe tbody tr th:only-of-type {\n",
       "        vertical-align: middle;\n",
       "    }\n",
       "\n",
       "    .dataframe tbody tr th {\n",
       "        vertical-align: top;\n",
       "    }\n",
       "\n",
       "    .dataframe thead th {\n",
       "        text-align: right;\n",
       "    }\n",
       "</style>\n",
       "<table border=\"1\" class=\"dataframe\">\n",
       "  <thead>\n",
       "    <tr style=\"text-align: right;\">\n",
       "      <th></th>\n",
       "      <th>A반</th>\n",
       "      <th>B반</th>\n",
       "    </tr>\n",
       "  </thead>\n",
       "  <tbody>\n",
       "    <tr>\n",
       "      <th>0</th>\n",
       "      <td>73</td>\n",
       "      <td>63.0</td>\n",
       "    </tr>\n",
       "    <tr>\n",
       "      <th>1</th>\n",
       "      <td>69</td>\n",
       "      <td>56.0</td>\n",
       "    </tr>\n",
       "    <tr>\n",
       "      <th>2</th>\n",
       "      <td>71</td>\n",
       "      <td>73.0</td>\n",
       "    </tr>\n",
       "    <tr>\n",
       "      <th>3</th>\n",
       "      <td>71</td>\n",
       "      <td>61.0</td>\n",
       "    </tr>\n",
       "    <tr>\n",
       "      <th>4</th>\n",
       "      <td>73</td>\n",
       "      <td>55.0</td>\n",
       "    </tr>\n",
       "    <tr>\n",
       "      <th>5</th>\n",
       "      <td>67</td>\n",
       "      <td>77.0</td>\n",
       "    </tr>\n",
       "    <tr>\n",
       "      <th>6</th>\n",
       "      <td>73</td>\n",
       "      <td>75.0</td>\n",
       "    </tr>\n",
       "    <tr>\n",
       "      <th>7</th>\n",
       "      <td>69</td>\n",
       "      <td>65.0</td>\n",
       "    </tr>\n",
       "    <tr>\n",
       "      <th>8</th>\n",
       "      <td>62</td>\n",
       "      <td>61.0</td>\n",
       "    </tr>\n",
       "    <tr>\n",
       "      <th>9</th>\n",
       "      <td>74</td>\n",
       "      <td>55.0</td>\n",
       "    </tr>\n",
       "    <tr>\n",
       "      <th>10</th>\n",
       "      <td>68</td>\n",
       "      <td>NaN</td>\n",
       "    </tr>\n",
       "    <tr>\n",
       "      <th>11</th>\n",
       "      <td>66</td>\n",
       "      <td>NaN</td>\n",
       "    </tr>\n",
       "    <tr>\n",
       "      <th>12</th>\n",
       "      <td>70</td>\n",
       "      <td>NaN</td>\n",
       "    </tr>\n",
       "    <tr>\n",
       "      <th>13</th>\n",
       "      <td>82</td>\n",
       "      <td>NaN</td>\n",
       "    </tr>\n",
       "    <tr>\n",
       "      <th>14</th>\n",
       "      <td>70</td>\n",
       "      <td>NaN</td>\n",
       "    </tr>\n",
       "    <tr>\n",
       "      <th>15</th>\n",
       "      <td>65</td>\n",
       "      <td>NaN</td>\n",
       "    </tr>\n",
       "    <tr>\n",
       "      <th>16</th>\n",
       "      <td>76</td>\n",
       "      <td>NaN</td>\n",
       "    </tr>\n",
       "    <tr>\n",
       "      <th>17</th>\n",
       "      <td>73</td>\n",
       "      <td>NaN</td>\n",
       "    </tr>\n",
       "    <tr>\n",
       "      <th>18</th>\n",
       "      <td>58</td>\n",
       "      <td>NaN</td>\n",
       "    </tr>\n",
       "    <tr>\n",
       "      <th>19</th>\n",
       "      <td>81</td>\n",
       "      <td>NaN</td>\n",
       "    </tr>\n",
       "  </tbody>\n",
       "</table>\n",
       "</div>"
      ],
      "text/plain": [
       "    A반    B반\n",
       "0   73  63.0\n",
       "1   69  56.0\n",
       "2   71  73.0\n",
       "3   71  61.0\n",
       "4   73  55.0\n",
       "5   67  77.0\n",
       "6   73  75.0\n",
       "7   69  65.0\n",
       "8   62  61.0\n",
       "9   74  55.0\n",
       "10  68   NaN\n",
       "11  66   NaN\n",
       "12  70   NaN\n",
       "13  82   NaN\n",
       "14  70   NaN\n",
       "15  65   NaN\n",
       "16  76   NaN\n",
       "17  73   NaN\n",
       "18  58   NaN\n",
       "19  81   NaN"
      ]
     },
     "execution_count": 24,
     "metadata": {},
     "output_type": "execute_result"
    }
   ],
   "source": [
    "df2 = pd.read_csv(\"../data/반별_점수_type2.csv\", engine = \"python\", encoding = 'euc-kr')\n",
    "df2\n",
    "#B반의 데이터는 float이므로 nan값이들어있을 가능성이 있음\n"
   ]
  },
  {
   "cell_type": "code",
   "execution_count": 28,
   "id": "f501021a",
   "metadata": {},
   "outputs": [
    {
     "data": {
      "text/plain": [
       "array([73, 69, 71, 71, 73, 67, 73, 69, 62, 74, 68, 66, 70, 82, 70, 65, 76,\n",
       "       73, 58, 81], dtype=int64)"
      ]
     },
     "execution_count": 28,
     "metadata": {},
     "output_type": "execute_result"
    },
    {
     "data": {
      "text/plain": [
       "20"
      ]
     },
     "execution_count": 28,
     "metadata": {},
     "output_type": "execute_result"
    },
    {
     "data": {
      "text/plain": [
       "array([63., 56., 73., 61., 55., 77., 75., 65., 61., 55.])"
      ]
     },
     "execution_count": 28,
     "metadata": {},
     "output_type": "execute_result"
    },
    {
     "data": {
      "text/plain": [
       "10"
      ]
     },
     "execution_count": 28,
     "metadata": {},
     "output_type": "execute_result"
    }
   ],
   "source": [
    "## 수집 샘플이 길이가 달라서 NaN이 포함되어 있는 경우 NaN처리해야 함\n",
    "g_A=df2['A반'].dropna().values\n",
    "g_B=df2['B반'].dropna().values\n",
    "\n",
    "g_A\n",
    "len(g_A)\n",
    "g_B\n",
    "len(g_B)"
   ]
  },
  {
   "cell_type": "markdown",
   "id": "d5924814",
   "metadata": {},
   "source": [
    "- 검정을 위한 데이터에 의도하지 않은 NaN은 제거해야함\n",
    "- 0으로 처리하면 평균이나 분산등의 기준값이 달리지게 됨"
   ]
  },
  {
   "cell_type": "code",
   "execution_count": null,
   "id": "e7c28ced",
   "metadata": {},
   "outputs": [],
   "source": []
  },
  {
   "cell_type": "code",
   "execution_count": null,
   "id": "4e9013f7",
   "metadata": {},
   "outputs": [],
   "source": []
  },
  {
   "cell_type": "code",
   "execution_count": null,
   "id": "98f8c8b8",
   "metadata": {},
   "outputs": [],
   "source": []
  }
 ],
 "metadata": {
  "kernelspec": {
   "display_name": "Python 3",
   "language": "python",
   "name": "python3"
  },
  "language_info": {
   "codemirror_mode": {
    "name": "ipython",
    "version": 3
   },
   "file_extension": ".py",
   "mimetype": "text/x-python",
   "name": "python",
   "nbconvert_exporter": "python",
   "pygments_lexer": "ipython3",
   "version": "3.8.8"
  }
 },
 "nbformat": 4,
 "nbformat_minor": 5
}
