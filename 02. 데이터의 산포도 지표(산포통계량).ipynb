{
 "cells": [
  {
   "cell_type": "code",
   "execution_count": 1,
   "id": "e71529f9",
   "metadata": {},
   "outputs": [],
   "source": [
    "import numpy as np\n",
    "from scipy.stats import *\n",
    "import pandas as pd"
   ]
  },
  {
   "cell_type": "code",
   "execution_count": 2,
   "id": "830e92b5",
   "metadata": {},
   "outputs": [],
   "source": [
    "from IPython.core.interactiveshell import InteractiveShell\n",
    "InteractiveShell.ast_node_interactivity=\"all\""
   ]
  },
  {
   "cell_type": "markdown",
   "id": "5cd3e816",
   "metadata": {},
   "source": [
    "## 변이통계량\n",
    "- 데이터들이 얼마나 흩어져 있는가르 나타내는 것(산포도)\\\n",
    "- 하나의 수치로 데이터가 흩어진 정도를 계산해서 표현\n",
    "- 대표값과 더불어 데이터를 비교하는 경우에 유용하게 사용\n",
    "- ex) 평균이 같은 A집단과 B집의 성적 : 두 집단이 동일한 집단?"
   ]
  },
  {
   "cell_type": "markdown",
   "id": "34957e58",
   "metadata": {},
   "source": [
    "![](성적분포비교.png)"
   ]
  },
  {
   "cell_type": "markdown",
   "id": "785665d8",
   "metadata": {},
   "source": [
    "- 어느 대학에서 같은 과목을 두 교수가 가르친다고 하자.두 교수 모두 평균 C학점을 학생들에게 준다면 그 과목을 배우려는 학생들은 어떤 교수를 선택해도 마찬가지라고 생각할 것이다.\n",
    "- 그러나 한 교수는 대부분의 학생들이 평범하다고 생각하여 C만 주고 다른 교수는 학생들이 반은 우수하고 반은 공부를 안 한다고 생각하여 A를 주거나 D-만 준다.\n",
    "- 그러므로 이러한 흩어짐의 정보 없이 학생들이 평균 성적 C라는 사실만 가지고 교수를 선택한다면 학점 때문에 어려움에 처할 수도 있게 된다.\n"
   ]
  },
  {
   "cell_type": "markdown",
   "id": "7e371d26",
   "metadata": {},
   "source": [
    "## 범위(range)\n",
    "\n",
    "- 데이터의 최대값과 최소값의 차이\n",
    "- 데이터가 퍼져 있는 정도를 나타내는 가장 간단한 방법\n",
    "- 범위가 클수록 산포가 크다고 말할 수 있지만\n",
    "- 중앙값과 마찬가지로 극단적인 값에 영향을 받음\n",
    "- 데이터 중 2개의 정보(최대값, 최소값)만을 이용하므로 적절한 척도로 사용하기 어려움\n",
    "\n",
    "**범위(R)=최댓값 - 최솟값**\n",
    "\n",
    "\n"
   ]
  },
  {
   "cell_type": "markdown",
   "id": "dd40e1d2",
   "metadata": {},
   "source": [
    "## 중간 범위\n",
    "- 최대값과 최소값의 평균"
   ]
  },
  {
   "cell_type": "markdown",
   "id": "928b7ff2",
   "metadata": {},
   "source": [
    "## 사분위간 범위 (interquartile range: IQR)\n",
    "\n",
    "- 데이터를 크기순서로 나열한 다음, 개수로 4등분할 때 첫 번째 사분위수(Q1:1사분위수, 25%지점)와 세 번째 사분위수(Q3:3사분위수, 75%지점)의 차이\n"
   ]
  },
  {
   "cell_type": "markdown",
   "id": "d520dbc9",
   "metadata": {},
   "source": [
    "## 사분위수 편차(quartile deviation)\n",
    "- 범위의 문제점을 보완한 척도\n",
    "- 사분위간 범위의 값을 2로 나눈 값으로 사분위 범위의 평균값\n",
    "![](../picture/사분위수편차.png)"
   ]
  },
  {
   "cell_type": "markdown",
   "id": "40954964",
   "metadata": {},
   "source": [
    "## 분산(variance)\n",
    "- 산포도의 척도로 가장 널리 사용되는 방법\n",
    "- 데이터가 퍼져있는 정동의 기준으로 평균을 사용\n",
    "\n",
    "- 계산 방법\n",
    "    - 각 데이터와 평균의 차이를 제곱하여 합한 값의 평균\n",
    "    \n",
    "![](../picture/분산식.png)\n",
    "\n",
    "- 데이터가 모집단 전체일 경우에는 데이터의 개수(n)으로 나누어 줌\n",
    "- 표본일 경우 (n-1)로 나누어 줌\n",
    "- 표본의 경우 n으로 나누어 주는 것보다 (n-1)로 나누어 주는 것이 더 좋은 척도가 되기 때문인데 표본의 크기가 큰 경우에는 별 차이가 없음\n"
   ]
  },
  {
   "cell_type": "markdown",
   "id": "9c0c7df7",
   "metadata": {},
   "source": [
    "-  분산계산 : var(data, ddof=0|1) 함수 사용 (ddof 생략하면 0)"
   ]
  },
  {
   "cell_type": "code",
   "execution_count": 5,
   "id": "efcd6b99",
   "metadata": {},
   "outputs": [
    {
     "data": {
      "text/plain": [
       "2.5"
      ]
     },
     "execution_count": 5,
     "metadata": {},
     "output_type": "execute_result"
    },
    {
     "data": {
      "text/plain": [
       "2.0"
      ]
     },
     "execution_count": 5,
     "metadata": {},
     "output_type": "execute_result"
    },
    {
     "data": {
      "text/plain": [
       "2.0"
      ]
     },
     "execution_count": 5,
     "metadata": {},
     "output_type": "execute_result"
    },
    {
     "data": {
      "text/plain": [
       "2.0"
      ]
     },
     "execution_count": 5,
     "metadata": {},
     "output_type": "execute_result"
    }
   ],
   "source": [
    "## ddof인수 :  (자유도-모수집단냐 표본이냐)는 값을 1로 두고 사용한다고 생각하면 편함\n",
    "## 특별한 경우 제외하고는 모두 sample 데이터이므로 분모를 n-1로 둠\n",
    "## 즉 , ddof는 1로 둔다\n",
    "\n",
    "x=[1,2,3,4,5]\n",
    "\n",
    "np.var(x, ddof=1) #분모 n-1\n",
    "np.var(x) #분모 n\n",
    "np.array(x).var()\n",
    "pd.Series(x).var(ddof=0)\n",
    "\n",
    "#값의 스케일에 크게 영향을 받으므로\n",
    "#변수를 스케일링한 후 분산\n",
    "#"
   ]
  },
  {
   "cell_type": "markdown",
   "id": "87f0905a",
   "metadata": {},
   "source": [
    "## 표준편차(starndard deviation)\n",
    "- 계산된 분산의 제곱근으로 계산\n",
    "- 평균을 중심으로 일정한 거리에 포함된 데이터의 비율이 얼마인가를 계산\n",
    "- 모든 데이터를 고려한 척도\n",
    "- 특징\n",
    "    - 모든 데이터가 동일한 값을 갖는다면 분산과 표준편차는 0으로 계산\n",
    "    - 모든 데이터에 동일한 값을 더해 주거나 빼도 변하지 않음\n",
    "    - 모든 데이터에 동일한 값(C)을 곱하면 분산은 $분산×C^2$으로 표준편차는 $표준편차×C$ 만큼 커짐\n",
    "\n",
    "![](../picture/분산표준편차예시.png)"
   ]
  },
  {
   "cell_type": "markdown",
   "id": "ad31b39f",
   "metadata": {},
   "source": [
    "## 표준편차 계산 : std()함수 사용\n",
    "- 분산에서 제곱의 영향을 없앤 지표\n",
    "- 분산과 표준편차가 크면 클수록 산포가 크다"
   ]
  },
  {
   "cell_type": "code",
   "execution_count": 6,
   "id": "10156624",
   "metadata": {},
   "outputs": [
    {
     "data": {
      "text/plain": [
       "1.5811388300841898"
      ]
     },
     "execution_count": 6,
     "metadata": {},
     "output_type": "execute_result"
    },
    {
     "data": {
      "text/plain": [
       "1.4142135623730951"
      ]
     },
     "execution_count": 6,
     "metadata": {},
     "output_type": "execute_result"
    },
    {
     "data": {
      "text/plain": [
       "1.5811388300841898"
      ]
     },
     "execution_count": 6,
     "metadata": {},
     "output_type": "execute_result"
    }
   ],
   "source": [
    "x=[1,2,3,4,5]\n",
    "\n",
    "np.std(x,ddof=1)\n",
    "np.array(x).std(ddof=0)\n",
    "pd.Series(x).std(ddof=1)"
   ]
  },
  {
   "cell_type": "markdown",
   "id": "74cc716d",
   "metadata": {},
   "source": [
    "## 변동계수 (CV : Coefficient of Variable)\n",
    "- 표본 표준 편차를 표본 평균으로 나눈 값 또는 그갑에 100을 곱한 값\n",
    "- 상대 표준차\n",
    "- 서로 다른 평균과 표준편차를 갖는 여러 데이터의  흩어진 정도를 비교할 때 사용\n",
    "- 변동계수 값이 크다는 것은 데이터가 흩어진 정도가 상대적으로 크다는 의미\n",
    "- 표본 변동계수 $ 𝐶𝑉=\\frac{S}{\\overline{x}}$,  모변동계수  $𝐶𝑉= \\frac{𝜎}{𝜇}$\n",
    "![](../picture/변동계수.png)"
   ]
  },
  {
   "cell_type": "markdown",
   "id": "7f0f1c8e",
   "metadata": {},
   "source": [
    "## 변동계수 계산 함수 (variation)\n",
    "- 모든 계수 양수가 아니면 잘 쓰이지 않음\n",
    "- 자유도는 0으로 셋팅되어 있음"
   ]
  },
  {
   "cell_type": "markdown",
   "id": "3cc3ab75",
   "metadata": {},
   "source": [
    "## 변동계수의 필요성\n",
    "- 표준 편차를 구할 때 스케일에 영향을 받지 않기 위해서 변수 스케일링을 한 후 편차를 구함\n",
    "    - 데이터가 모두 양수인 경우 변동계수 사용"
   ]
  },
  {
   "cell_type": "code",
   "execution_count": 7,
   "id": "a9dd6ba6",
   "metadata": {},
   "outputs": [
    {
     "data": {
      "text/plain": [
       "array([10, 20, 30, 40, 50])"
      ]
     },
     "execution_count": 7,
     "metadata": {},
     "output_type": "execute_result"
    }
   ],
   "source": [
    "x1 = np.array([1,2,3,4,5])\n",
    "x2 = x1 *10\n",
    "x2"
   ]
  },
  {
   "cell_type": "code",
   "execution_count": 8,
   "id": "6c51ca51",
   "metadata": {},
   "outputs": [
    {
     "data": {
      "text/plain": [
       "1.5811388300841898"
      ]
     },
     "execution_count": 8,
     "metadata": {},
     "output_type": "execute_result"
    },
    {
     "data": {
      "text/plain": [
       "15.811388300841896"
      ]
     },
     "execution_count": 8,
     "metadata": {},
     "output_type": "execute_result"
    }
   ],
   "source": [
    "np.std(x1, ddof=1)\n",
    "np.std(x2, ddof=1) # 표준편차는 *10만큼 차이"
   ]
  },
  {
   "cell_type": "code",
   "execution_count": 9,
   "id": "f2bed532",
   "metadata": {},
   "outputs": [
    {
     "data": {
      "text/plain": [
       "0.47140452079103173"
      ]
     },
     "execution_count": 9,
     "metadata": {},
     "output_type": "execute_result"
    },
    {
     "data": {
      "text/plain": [
       "0.4714045207910317"
      ]
     },
     "execution_count": 9,
     "metadata": {},
     "output_type": "execute_result"
    }
   ],
   "source": [
    "# 변동계수 동일함\n",
    "variation(x1)\n",
    "variation(x2)"
   ]
  },
  {
   "cell_type": "code",
   "execution_count": 10,
   "id": "d0a13e89",
   "metadata": {},
   "outputs": [
    {
     "data": {
      "text/plain": [
       "0.5270462766947299"
      ]
     },
     "execution_count": 10,
     "metadata": {},
     "output_type": "execute_result"
    },
    {
     "data": {
      "text/plain": [
       "0.5270462766947299"
      ]
     },
     "execution_count": 10,
     "metadata": {},
     "output_type": "execute_result"
    }
   ],
   "source": [
    "# 변동계수 수식\n",
    "np.std(x1, ddof=1)/np.mean(x1)\n",
    "np.std(x2, ddof=1)/np.mean(x2)"
   ]
  },
  {
   "cell_type": "markdown",
   "id": "2a9315e4",
   "metadata": {},
   "source": [
    "## 스케일링(표준화)\n",
    "- 평균 0으로 표준편차 1이 됨\n",
    "- 각 값들을 상대적인 값으로 변화시키는 기법\n",
    "- 평균이 95점 국어, 30점 수학 인 반에서\n",
    "    - 길동이가 받은 취득점수 90점 국어, 80점 수학이라면 길동이는 어떤 과목을 더 잘하는 가\n",
    "- 표주화된 데이터는 점수와 같은 단위를 사용하지 않음\n",
    "        "
   ]
  },
  {
   "cell_type": "code",
   "execution_count": 11,
   "id": "a39c6f0d",
   "metadata": {},
   "outputs": [
    {
     "data": {
      "text/plain": [
       "array([1, 2, 3, 4, 5])"
      ]
     },
     "execution_count": 11,
     "metadata": {},
     "output_type": "execute_result"
    },
    {
     "data": {
      "text/plain": [
       "array([10, 20, 30, 40, 50])"
      ]
     },
     "execution_count": 11,
     "metadata": {},
     "output_type": "execute_result"
    }
   ],
   "source": [
    "x1\n",
    "x2"
   ]
  },
  {
   "cell_type": "markdown",
   "id": "46fca6d3",
   "metadata": {},
   "source": [
    "### standard scaling : 평균 0 표준편차 1"
   ]
  },
  {
   "cell_type": "code",
   "execution_count": 12,
   "id": "292d66fd",
   "metadata": {},
   "outputs": [
    {
     "data": {
      "text/plain": [
       "array([-1.41421356, -0.70710678,  0.        ,  0.70710678,  1.41421356])"
      ]
     },
     "execution_count": 12,
     "metadata": {},
     "output_type": "execute_result"
    },
    {
     "data": {
      "text/plain": [
       "array([-1.41421356, -0.70710678,  0.        ,  0.70710678,  1.41421356])"
      ]
     },
     "execution_count": 12,
     "metadata": {},
     "output_type": "execute_result"
    }
   ],
   "source": [
    "z1 = (x1 - x1.mean()) / x1.std()\n",
    "z2 = (x2 - x2.mean()) / x2.std()\n",
    "\n",
    "z1\n",
    "z2"
   ]
  },
  {
   "cell_type": "code",
   "execution_count": 13,
   "id": "f5ccfe22",
   "metadata": {},
   "outputs": [
    {
     "data": {
      "text/plain": [
       "0.0"
      ]
     },
     "execution_count": 13,
     "metadata": {},
     "output_type": "execute_result"
    },
    {
     "data": {
      "text/plain": [
       "0.0"
      ]
     },
     "execution_count": 13,
     "metadata": {},
     "output_type": "execute_result"
    },
    {
     "data": {
      "text/plain": [
       "0.9999999999999999"
      ]
     },
     "execution_count": 13,
     "metadata": {},
     "output_type": "execute_result"
    }
   ],
   "source": [
    "z1.mean()\n",
    "z2.mean()\n",
    "z1.std(ddof=0)"
   ]
  },
  {
   "cell_type": "markdown",
   "id": "ec3e98cd",
   "metadata": {},
   "source": [
    "### Min/Max 스케일링"
   ]
  },
  {
   "cell_type": "code",
   "execution_count": 15,
   "id": "73ddf8d9",
   "metadata": {},
   "outputs": [
    {
     "name": "stdout",
     "output_type": "stream",
     "text": [
      "[0.   0.25 0.5  0.75 1.  ]\n",
      "[0.   0.25 0.5  0.75 1.  ]\n"
     ]
    }
   ],
   "source": [
    "z1 = (x1 - x1.min()) / (x1.max() - x1.min())\n",
    "z2 = (x2 - x2.min()) / (x2.max() - x2.min())\n",
    "\n",
    "print(z1)\n",
    "print(z2)\n"
   ]
  },
  {
   "cell_type": "code",
   "execution_count": null,
   "id": "e0e5b055",
   "metadata": {},
   "outputs": [],
   "source": [
    "## 표준화 예제"
   ]
  },
  {
   "cell_type": "code",
   "execution_count": 16,
   "id": "ac7c41b3",
   "metadata": {},
   "outputs": [
    {
     "data": {
      "text/html": [
       "<div>\n",
       "<style scoped>\n",
       "    .dataframe tbody tr th:only-of-type {\n",
       "        vertical-align: middle;\n",
       "    }\n",
       "\n",
       "    .dataframe tbody tr th {\n",
       "        vertical-align: top;\n",
       "    }\n",
       "\n",
       "    .dataframe thead th {\n",
       "        text-align: right;\n",
       "    }\n",
       "</style>\n",
       "<table border=\"1\" class=\"dataframe\">\n",
       "  <thead>\n",
       "    <tr style=\"text-align: right;\">\n",
       "      <th></th>\n",
       "      <th>english</th>\n",
       "      <th>mathematics</th>\n",
       "    </tr>\n",
       "    <tr>\n",
       "      <th>student number</th>\n",
       "      <th></th>\n",
       "      <th></th>\n",
       "    </tr>\n",
       "  </thead>\n",
       "  <tbody>\n",
       "    <tr>\n",
       "      <th>1</th>\n",
       "      <td>42</td>\n",
       "      <td>65</td>\n",
       "    </tr>\n",
       "    <tr>\n",
       "      <th>2</th>\n",
       "      <td>69</td>\n",
       "      <td>80</td>\n",
       "    </tr>\n",
       "    <tr>\n",
       "      <th>3</th>\n",
       "      <td>56</td>\n",
       "      <td>63</td>\n",
       "    </tr>\n",
       "    <tr>\n",
       "      <th>4</th>\n",
       "      <td>41</td>\n",
       "      <td>63</td>\n",
       "    </tr>\n",
       "    <tr>\n",
       "      <th>5</th>\n",
       "      <td>57</td>\n",
       "      <td>76</td>\n",
       "    </tr>\n",
       "  </tbody>\n",
       "</table>\n",
       "</div>"
      ],
      "text/plain": [
       "                english  mathematics\n",
       "student number                      \n",
       "1                    42           65\n",
       "2                    69           80\n",
       "3                    56           63\n",
       "4                    41           63\n",
       "5                    57           76"
      ]
     },
     "execution_count": 16,
     "metadata": {},
     "output_type": "execute_result"
    }
   ],
   "source": [
    "df = pd.read_csv('../data/ch2_scores_em.csv',\n",
    "                 index_col='student number')\n",
    "# df의 처음 5행을 표시\n",
    "df.head()\n"
   ]
  },
  {
   "cell_type": "code",
   "execution_count": 17,
   "id": "b09f175b",
   "metadata": {},
   "outputs": [],
   "source": [
    "scores = df.loc[1:10]\n",
    "scores.index=['A', 'B', 'C', 'D', 'E','F', 'G', 'H', 'I', 'J']\n",
    "scores.index.name='students'\n"
   ]
  },
  {
   "cell_type": "code",
   "execution_count": 18,
   "id": "17fad0b8",
   "metadata": {},
   "outputs": [
    {
     "data": {
      "text/html": [
       "<div>\n",
       "<style scoped>\n",
       "    .dataframe tbody tr th:only-of-type {\n",
       "        vertical-align: middle;\n",
       "    }\n",
       "\n",
       "    .dataframe tbody tr th {\n",
       "        vertical-align: top;\n",
       "    }\n",
       "\n",
       "    .dataframe thead th {\n",
       "        text-align: right;\n",
       "    }\n",
       "</style>\n",
       "<table border=\"1\" class=\"dataframe\">\n",
       "  <thead>\n",
       "    <tr style=\"text-align: right;\">\n",
       "      <th></th>\n",
       "      <th>english</th>\n",
       "      <th>mathematics</th>\n",
       "    </tr>\n",
       "    <tr>\n",
       "      <th>students</th>\n",
       "      <th></th>\n",
       "      <th></th>\n",
       "    </tr>\n",
       "  </thead>\n",
       "  <tbody>\n",
       "    <tr>\n",
       "      <th>A</th>\n",
       "      <td>42</td>\n",
       "      <td>65</td>\n",
       "    </tr>\n",
       "    <tr>\n",
       "      <th>B</th>\n",
       "      <td>69</td>\n",
       "      <td>80</td>\n",
       "    </tr>\n",
       "    <tr>\n",
       "      <th>C</th>\n",
       "      <td>56</td>\n",
       "      <td>63</td>\n",
       "    </tr>\n",
       "    <tr>\n",
       "      <th>D</th>\n",
       "      <td>41</td>\n",
       "      <td>63</td>\n",
       "    </tr>\n",
       "    <tr>\n",
       "      <th>E</th>\n",
       "      <td>57</td>\n",
       "      <td>76</td>\n",
       "    </tr>\n",
       "    <tr>\n",
       "      <th>F</th>\n",
       "      <td>48</td>\n",
       "      <td>60</td>\n",
       "    </tr>\n",
       "    <tr>\n",
       "      <th>G</th>\n",
       "      <td>65</td>\n",
       "      <td>81</td>\n",
       "    </tr>\n",
       "    <tr>\n",
       "      <th>H</th>\n",
       "      <td>49</td>\n",
       "      <td>66</td>\n",
       "    </tr>\n",
       "    <tr>\n",
       "      <th>I</th>\n",
       "      <td>65</td>\n",
       "      <td>78</td>\n",
       "    </tr>\n",
       "    <tr>\n",
       "      <th>J</th>\n",
       "      <td>58</td>\n",
       "      <td>82</td>\n",
       "    </tr>\n",
       "  </tbody>\n",
       "</table>\n",
       "</div>"
      ],
      "text/plain": [
       "          english  mathematics\n",
       "students                      \n",
       "A              42           65\n",
       "B              69           80\n",
       "C              56           63\n",
       "D              41           63\n",
       "E              57           76\n",
       "F              48           60\n",
       "G              65           81\n",
       "H              49           66\n",
       "I              65           78\n",
       "J              58           82"
      ]
     },
     "execution_count": 18,
     "metadata": {},
     "output_type": "execute_result"
    },
    {
     "data": {
      "text/plain": [
       "english        55.0\n",
       "mathematics    71.4\n",
       "dtype: float64"
      ]
     },
     "execution_count": 18,
     "metadata": {},
     "output_type": "execute_result"
    },
    {
     "data": {
      "text/plain": [
       "english        9.775252\n",
       "mathematics    8.720347\n",
       "dtype: float64"
      ]
     },
     "execution_count": 18,
     "metadata": {},
     "output_type": "execute_result"
    }
   ],
   "source": [
    "scores\n",
    "scores.mean()\n",
    "scores.std()"
   ]
  },
  {
   "cell_type": "code",
   "execution_count": 19,
   "id": "54eacbcb",
   "metadata": {},
   "outputs": [],
   "source": [
    "# np.set_printoptions(precision=20, suppress=True)\n",
    "# pd.options.display.float_format = '{:.2f}'.format\n",
    "# import numpy as np\n",
    "# # numpy float 출력옵션 변경\n",
    "# np.set_printoptions(precision=3)\n",
    "\n",
    "import numpy as np\n",
    "# numpy float 출력옵션 변경\n",
    "np.set_printoptions(formatter={'float_kind': lambda x: \"{0:0.3f}\".format(x)})"
   ]
  },
  {
   "cell_type": "code",
   "execution_count": 20,
   "id": "2c58ec56",
   "metadata": {},
   "outputs": [
    {
     "data": {
      "text/plain": [
       "students\n",
       "A   -1.329889\n",
       "B    1.432188\n",
       "C    0.102299\n",
       "D   -1.432188\n",
       "E    0.204598\n",
       "F   -0.716094\n",
       "G    1.022992\n",
       "H   -0.613795\n",
       "I    1.022992\n",
       "J    0.306897\n",
       "Name: english, dtype: float64"
      ]
     },
     "execution_count": 20,
     "metadata": {},
     "output_type": "execute_result"
    },
    {
     "data": {
      "text/plain": [
       "students\n",
       "A   -1.329889\n",
       "B    1.432188\n",
       "C    0.102299\n",
       "D   -1.432188\n",
       "E    0.204598\n",
       "F   -0.716094\n",
       "G    1.022992\n",
       "H   -0.613795\n",
       "I    1.022992\n",
       "J    0.306897\n",
       "Name: english, dtype: float64"
      ]
     },
     "execution_count": 20,
     "metadata": {},
     "output_type": "execute_result"
    }
   ],
   "source": [
    "em_z=(scores['english']- scores['english'].mean())/scores['english'].std()\n",
    "mt_z=(scores['english']- scores['english'].mean())/scores['english'].std()\n",
    "\n",
    "em_z\n",
    "mt_z"
   ]
  },
  {
   "cell_type": "code",
   "execution_count": 21,
   "id": "16a2bdce",
   "metadata": {},
   "outputs": [
    {
     "data": {
      "text/plain": [
       "2.7755575615628914e-17"
      ]
     },
     "execution_count": 21,
     "metadata": {},
     "output_type": "execute_result"
    },
    {
     "data": {
      "text/plain": [
       "2.7755575615628914e-17"
      ]
     },
     "execution_count": 21,
     "metadata": {},
     "output_type": "execute_result"
    },
    {
     "data": {
      "text/plain": [
       "1.0"
      ]
     },
     "execution_count": 21,
     "metadata": {},
     "output_type": "execute_result"
    },
    {
     "data": {
      "text/plain": [
       "1.0"
      ]
     },
     "execution_count": 21,
     "metadata": {},
     "output_type": "execute_result"
    }
   ],
   "source": [
    "em_z.mean()\n",
    "mt_z.mean()\n",
    "em_z.std()\n",
    "mt_z.std()"
   ]
  },
  {
   "cell_type": "markdown",
   "id": "27697d06",
   "metadata": {},
   "source": [
    "## sklearn을 이용한 스케일링 - 머신러닝을 위해 쓰는 경우가 대부분\n",
    "- df의 각 열에 대해서 스케일링하는데 적합함"
   ]
  },
  {
   "cell_type": "code",
   "execution_count": 22,
   "id": "460a034b",
   "metadata": {},
   "outputs": [
    {
     "data": {
      "text/html": [
       "<div>\n",
       "<style scoped>\n",
       "    .dataframe tbody tr th:only-of-type {\n",
       "        vertical-align: middle;\n",
       "    }\n",
       "\n",
       "    .dataframe tbody tr th {\n",
       "        vertical-align: top;\n",
       "    }\n",
       "\n",
       "    .dataframe thead th {\n",
       "        text-align: right;\n",
       "    }\n",
       "</style>\n",
       "<table border=\"1\" class=\"dataframe\">\n",
       "  <thead>\n",
       "    <tr style=\"text-align: right;\">\n",
       "      <th></th>\n",
       "      <th>X1</th>\n",
       "      <th>X2</th>\n",
       "    </tr>\n",
       "  </thead>\n",
       "  <tbody>\n",
       "    <tr>\n",
       "      <th>0</th>\n",
       "      <td>1</td>\n",
       "      <td>10</td>\n",
       "    </tr>\n",
       "    <tr>\n",
       "      <th>1</th>\n",
       "      <td>2</td>\n",
       "      <td>20</td>\n",
       "    </tr>\n",
       "    <tr>\n",
       "      <th>2</th>\n",
       "      <td>3</td>\n",
       "      <td>30</td>\n",
       "    </tr>\n",
       "    <tr>\n",
       "      <th>3</th>\n",
       "      <td>4</td>\n",
       "      <td>40</td>\n",
       "    </tr>\n",
       "    <tr>\n",
       "      <th>4</th>\n",
       "      <td>5</td>\n",
       "      <td>50</td>\n",
       "    </tr>\n",
       "  </tbody>\n",
       "</table>\n",
       "</div>"
      ],
      "text/plain": [
       "   X1  X2\n",
       "0   1  10\n",
       "1   2  20\n",
       "2   3  30\n",
       "3   4  40\n",
       "4   5  50"
      ]
     },
     "execution_count": 22,
     "metadata": {},
     "output_type": "execute_result"
    }
   ],
   "source": [
    "X = pd.DataFrame({\"X1\":[1, 2, 3, 4, 5],\n",
    "    \"X2\": [10, 20, 30, 40, 50]})\n",
    "\n",
    "X\n"
   ]
  },
  {
   "cell_type": "code",
   "execution_count": 24,
   "id": "1a8c3b47",
   "metadata": {},
   "outputs": [
    {
     "data": {
      "text/plain": [
       "array([[0.000, 0.000],\n",
       "       [0.250, 0.250],\n",
       "       [0.500, 0.500],\n",
       "       [0.750, 0.750],\n",
       "       [1.000, 1.000]])"
      ]
     },
     "execution_count": 24,
     "metadata": {},
     "output_type": "execute_result"
    },
    {
     "data": {
      "text/html": [
       "<div>\n",
       "<style scoped>\n",
       "    .dataframe tbody tr th:only-of-type {\n",
       "        vertical-align: middle;\n",
       "    }\n",
       "\n",
       "    .dataframe tbody tr th {\n",
       "        vertical-align: top;\n",
       "    }\n",
       "\n",
       "    .dataframe thead th {\n",
       "        text-align: right;\n",
       "    }\n",
       "</style>\n",
       "<table border=\"1\" class=\"dataframe\">\n",
       "  <thead>\n",
       "    <tr style=\"text-align: right;\">\n",
       "      <th></th>\n",
       "      <th>0</th>\n",
       "      <th>1</th>\n",
       "    </tr>\n",
       "  </thead>\n",
       "  <tbody>\n",
       "    <tr>\n",
       "      <th>0</th>\n",
       "      <td>0.00</td>\n",
       "      <td>0.00</td>\n",
       "    </tr>\n",
       "    <tr>\n",
       "      <th>1</th>\n",
       "      <td>0.25</td>\n",
       "      <td>0.25</td>\n",
       "    </tr>\n",
       "    <tr>\n",
       "      <th>2</th>\n",
       "      <td>0.50</td>\n",
       "      <td>0.50</td>\n",
       "    </tr>\n",
       "    <tr>\n",
       "      <th>3</th>\n",
       "      <td>0.75</td>\n",
       "      <td>0.75</td>\n",
       "    </tr>\n",
       "    <tr>\n",
       "      <th>4</th>\n",
       "      <td>1.00</td>\n",
       "      <td>1.00</td>\n",
       "    </tr>\n",
       "  </tbody>\n",
       "</table>\n",
       "</div>"
      ],
      "text/plain": [
       "      0     1\n",
       "0  0.00  0.00\n",
       "1  0.25  0.25\n",
       "2  0.50  0.50\n",
       "3  0.75  0.75\n",
       "4  1.00  1.00"
      ]
     },
     "execution_count": 24,
     "metadata": {},
     "output_type": "execute_result"
    }
   ],
   "source": [
    "from sklearn.preprocessing import MinMaxScaler\n",
    "scaler = MinMaxScaler() # 생성자 함수 이용해 객체 인스턴스 생성\n",
    "Z=scaler.fit_transform(X) #ndarray로 결과 반환\n",
    "Z\n",
    "pd.DataFrame(Z)"
   ]
  },
  {
   "cell_type": "code",
   "execution_count": null,
   "id": "0f25b628",
   "metadata": {},
   "outputs": [],
   "source": []
  },
  {
   "cell_type": "code",
   "execution_count": 25,
   "id": "15522248",
   "metadata": {},
   "outputs": [
    {
     "data": {
      "text/html": [
       "<div>\n",
       "<style scoped>\n",
       "    .dataframe tbody tr th:only-of-type {\n",
       "        vertical-align: middle;\n",
       "    }\n",
       "\n",
       "    .dataframe tbody tr th {\n",
       "        vertical-align: top;\n",
       "    }\n",
       "\n",
       "    .dataframe thead th {\n",
       "        text-align: right;\n",
       "    }\n",
       "</style>\n",
       "<table border=\"1\" class=\"dataframe\">\n",
       "  <thead>\n",
       "    <tr style=\"text-align: right;\">\n",
       "      <th></th>\n",
       "      <th>english</th>\n",
       "      <th>mathematics</th>\n",
       "    </tr>\n",
       "    <tr>\n",
       "      <th>students</th>\n",
       "      <th></th>\n",
       "      <th></th>\n",
       "    </tr>\n",
       "  </thead>\n",
       "  <tbody>\n",
       "    <tr>\n",
       "      <th>A</th>\n",
       "      <td>42</td>\n",
       "      <td>65</td>\n",
       "    </tr>\n",
       "    <tr>\n",
       "      <th>B</th>\n",
       "      <td>69</td>\n",
       "      <td>80</td>\n",
       "    </tr>\n",
       "    <tr>\n",
       "      <th>C</th>\n",
       "      <td>56</td>\n",
       "      <td>63</td>\n",
       "    </tr>\n",
       "    <tr>\n",
       "      <th>D</th>\n",
       "      <td>41</td>\n",
       "      <td>63</td>\n",
       "    </tr>\n",
       "    <tr>\n",
       "      <th>E</th>\n",
       "      <td>57</td>\n",
       "      <td>76</td>\n",
       "    </tr>\n",
       "    <tr>\n",
       "      <th>F</th>\n",
       "      <td>48</td>\n",
       "      <td>60</td>\n",
       "    </tr>\n",
       "    <tr>\n",
       "      <th>G</th>\n",
       "      <td>65</td>\n",
       "      <td>81</td>\n",
       "    </tr>\n",
       "    <tr>\n",
       "      <th>H</th>\n",
       "      <td>49</td>\n",
       "      <td>66</td>\n",
       "    </tr>\n",
       "    <tr>\n",
       "      <th>I</th>\n",
       "      <td>65</td>\n",
       "      <td>78</td>\n",
       "    </tr>\n",
       "    <tr>\n",
       "      <th>J</th>\n",
       "      <td>58</td>\n",
       "      <td>82</td>\n",
       "    </tr>\n",
       "  </tbody>\n",
       "</table>\n",
       "</div>"
      ],
      "text/plain": [
       "          english  mathematics\n",
       "students                      \n",
       "A              42           65\n",
       "B              69           80\n",
       "C              56           63\n",
       "D              41           63\n",
       "E              57           76\n",
       "F              48           60\n",
       "G              65           81\n",
       "H              49           66\n",
       "I              65           78\n",
       "J              58           82"
      ]
     },
     "execution_count": 25,
     "metadata": {},
     "output_type": "execute_result"
    }
   ],
   "source": [
    "scores"
   ]
  },
  {
   "cell_type": "markdown",
   "id": "f527ce0a",
   "metadata": {},
   "source": [
    "## 편차값\n",
    "- 집단의 평균값에서 어느 정도 떨어져 있는가를 수치로 나타낸 것. \n"
   ]
  },
  {
   "cell_type": "code",
   "execution_count": 28,
   "id": "acadc3e9",
   "metadata": {
    "scrolled": true
   },
   "outputs": [],
   "source": [
    "## 예시\n",
    "# 편차를 표준 편차로 나눠 10배를 한 뒤 50을 더한 것임.\n",
    "# 평균을 50, 표준편차 10이 되도록 정규화한 값"
   ]
  },
  {
   "cell_type": "code",
   "execution_count": 29,
   "id": "81affc51",
   "metadata": {},
   "outputs": [
    {
     "data": {
      "text/html": [
       "<div>\n",
       "<style scoped>\n",
       "    .dataframe tbody tr th:only-of-type {\n",
       "        vertical-align: middle;\n",
       "    }\n",
       "\n",
       "    .dataframe tbody tr th {\n",
       "        vertical-align: top;\n",
       "    }\n",
       "\n",
       "    .dataframe thead th {\n",
       "        text-align: right;\n",
       "    }\n",
       "</style>\n",
       "<table border=\"1\" class=\"dataframe\">\n",
       "  <thead>\n",
       "    <tr style=\"text-align: right;\">\n",
       "      <th></th>\n",
       "      <th>english</th>\n",
       "      <th>mathematics</th>\n",
       "    </tr>\n",
       "    <tr>\n",
       "      <th>students</th>\n",
       "      <th></th>\n",
       "      <th></th>\n",
       "    </tr>\n",
       "  </thead>\n",
       "  <tbody>\n",
       "    <tr>\n",
       "      <th>A</th>\n",
       "      <td>35.981739</td>\n",
       "      <td>42.263848</td>\n",
       "    </tr>\n",
       "    <tr>\n",
       "      <th>B</th>\n",
       "      <td>65.096588</td>\n",
       "      <td>60.395454</td>\n",
       "    </tr>\n",
       "    <tr>\n",
       "      <th>C</th>\n",
       "      <td>51.078328</td>\n",
       "      <td>39.846301</td>\n",
       "    </tr>\n",
       "    <tr>\n",
       "      <th>D</th>\n",
       "      <td>34.903412</td>\n",
       "      <td>39.846301</td>\n",
       "    </tr>\n",
       "    <tr>\n",
       "      <th>E</th>\n",
       "      <td>52.156655</td>\n",
       "      <td>55.560359</td>\n",
       "    </tr>\n",
       "    <tr>\n",
       "      <th>F</th>\n",
       "      <td>42.451706</td>\n",
       "      <td>36.219980</td>\n",
       "    </tr>\n",
       "    <tr>\n",
       "      <th>G</th>\n",
       "      <td>60.783277</td>\n",
       "      <td>61.604227</td>\n",
       "    </tr>\n",
       "    <tr>\n",
       "      <th>H</th>\n",
       "      <td>43.530034</td>\n",
       "      <td>43.472622</td>\n",
       "    </tr>\n",
       "    <tr>\n",
       "      <th>I</th>\n",
       "      <td>60.783277</td>\n",
       "      <td>57.977906</td>\n",
       "    </tr>\n",
       "    <tr>\n",
       "      <th>J</th>\n",
       "      <td>53.234983</td>\n",
       "      <td>62.813001</td>\n",
       "    </tr>\n",
       "  </tbody>\n",
       "</table>\n",
       "</div>"
      ],
      "text/plain": [
       "            english  mathematics\n",
       "students                        \n",
       "A         35.981739    42.263848\n",
       "B         65.096588    60.395454\n",
       "C         51.078328    39.846301\n",
       "D         34.903412    39.846301\n",
       "E         52.156655    55.560359\n",
       "F         42.451706    36.219980\n",
       "G         60.783277    61.604227\n",
       "H         43.530034    43.472622\n",
       "I         60.783277    57.977906\n",
       "J         53.234983    62.813001"
      ]
     },
     "execution_count": 29,
     "metadata": {},
     "output_type": "execute_result"
    },
    {
     "data": {
      "text/plain": [
       "english        50.0\n",
       "mathematics    50.0\n",
       "dtype: float64"
      ]
     },
     "execution_count": 29,
     "metadata": {},
     "output_type": "execute_result"
    },
    {
     "data": {
      "text/plain": [
       "english        10.540926\n",
       "mathematics    10.540926\n",
       "dtype: float64"
      ]
     },
     "execution_count": 29,
     "metadata": {},
     "output_type": "execute_result"
    }
   ],
   "source": [
    "z= 50 + 10 * (scores-np.mean(scores))/np.std(scores)\n",
    "z\n",
    "z.mean()\n",
    "z.std()"
   ]
  },
  {
   "cell_type": "code",
   "execution_count": 30,
   "id": "82a36301",
   "metadata": {},
   "outputs": [
    {
     "data": {
      "text/html": [
       "<div>\n",
       "<style scoped>\n",
       "    .dataframe tbody tr th:only-of-type {\n",
       "        vertical-align: middle;\n",
       "    }\n",
       "\n",
       "    .dataframe tbody tr th {\n",
       "        vertical-align: top;\n",
       "    }\n",
       "\n",
       "    .dataframe thead th {\n",
       "        text-align: right;\n",
       "    }\n",
       "</style>\n",
       "<table border=\"1\" class=\"dataframe\">\n",
       "  <thead>\n",
       "    <tr style=\"text-align: right;\">\n",
       "      <th></th>\n",
       "      <th>영어</th>\n",
       "      <th>영어편찻값</th>\n",
       "      <th>수학</th>\n",
       "      <th>수학편찻값</th>\n",
       "    </tr>\n",
       "    <tr>\n",
       "      <th>students</th>\n",
       "      <th></th>\n",
       "      <th></th>\n",
       "      <th></th>\n",
       "      <th></th>\n",
       "    </tr>\n",
       "  </thead>\n",
       "  <tbody>\n",
       "    <tr>\n",
       "      <th>A</th>\n",
       "      <td>42</td>\n",
       "      <td>35.981739</td>\n",
       "      <td>65</td>\n",
       "      <td>42.263848</td>\n",
       "    </tr>\n",
       "    <tr>\n",
       "      <th>B</th>\n",
       "      <td>69</td>\n",
       "      <td>65.096588</td>\n",
       "      <td>80</td>\n",
       "      <td>60.395454</td>\n",
       "    </tr>\n",
       "    <tr>\n",
       "      <th>C</th>\n",
       "      <td>56</td>\n",
       "      <td>51.078328</td>\n",
       "      <td>63</td>\n",
       "      <td>39.846301</td>\n",
       "    </tr>\n",
       "    <tr>\n",
       "      <th>D</th>\n",
       "      <td>41</td>\n",
       "      <td>34.903412</td>\n",
       "      <td>63</td>\n",
       "      <td>39.846301</td>\n",
       "    </tr>\n",
       "    <tr>\n",
       "      <th>E</th>\n",
       "      <td>57</td>\n",
       "      <td>52.156655</td>\n",
       "      <td>76</td>\n",
       "      <td>55.560359</td>\n",
       "    </tr>\n",
       "    <tr>\n",
       "      <th>F</th>\n",
       "      <td>48</td>\n",
       "      <td>42.451706</td>\n",
       "      <td>60</td>\n",
       "      <td>36.219980</td>\n",
       "    </tr>\n",
       "    <tr>\n",
       "      <th>G</th>\n",
       "      <td>65</td>\n",
       "      <td>60.783277</td>\n",
       "      <td>81</td>\n",
       "      <td>61.604227</td>\n",
       "    </tr>\n",
       "    <tr>\n",
       "      <th>H</th>\n",
       "      <td>49</td>\n",
       "      <td>43.530034</td>\n",
       "      <td>66</td>\n",
       "      <td>43.472622</td>\n",
       "    </tr>\n",
       "    <tr>\n",
       "      <th>I</th>\n",
       "      <td>65</td>\n",
       "      <td>60.783277</td>\n",
       "      <td>78</td>\n",
       "      <td>57.977906</td>\n",
       "    </tr>\n",
       "    <tr>\n",
       "      <th>J</th>\n",
       "      <td>58</td>\n",
       "      <td>53.234983</td>\n",
       "      <td>82</td>\n",
       "      <td>62.813001</td>\n",
       "    </tr>\n",
       "  </tbody>\n",
       "</table>\n",
       "</div>"
      ],
      "text/plain": [
       "          영어      영어편찻값  수학      수학편찻값\n",
       "students                              \n",
       "A         42  35.981739  65  42.263848\n",
       "B         69  65.096588  80  60.395454\n",
       "C         56  51.078328  63  39.846301\n",
       "D         41  34.903412  63  39.846301\n",
       "E         57  52.156655  76  55.560359\n",
       "F         48  42.451706  60  36.219980\n",
       "G         65  60.783277  81  61.604227\n",
       "H         49  43.530034  66  43.472622\n",
       "I         65  60.783277  78  57.977906\n",
       "J         58  53.234983  82  62.813001"
      ]
     },
     "execution_count": 30,
     "metadata": {},
     "output_type": "execute_result"
    }
   ],
   "source": [
    "result=pd.concat([scores,z], axis=1)\n",
    "result.columns=['영어','수학','영어편찻값','수학편찻값']\n",
    "result[['영어','영어편찻값','수학','수학편찻값']]\n"
   ]
  },
  {
   "cell_type": "code",
   "execution_count": null,
   "id": "b9aab89f",
   "metadata": {},
   "outputs": [],
   "source": []
  },
  {
   "cell_type": "code",
   "execution_count": null,
   "id": "94f41cac",
   "metadata": {},
   "outputs": [],
   "source": []
  },
  {
   "cell_type": "code",
   "execution_count": null,
   "id": "0a1416d5",
   "metadata": {},
   "outputs": [],
   "source": []
  },
  {
   "cell_type": "code",
   "execution_count": null,
   "id": "1956d592",
   "metadata": {},
   "outputs": [],
   "source": []
  },
  {
   "cell_type": "code",
   "execution_count": null,
   "id": "a8357092",
   "metadata": {},
   "outputs": [],
   "source": []
  },
  {
   "cell_type": "code",
   "execution_count": null,
   "id": "fc396255",
   "metadata": {},
   "outputs": [],
   "source": []
  },
  {
   "cell_type": "code",
   "execution_count": null,
   "id": "938af6fe",
   "metadata": {},
   "outputs": [],
   "source": []
  },
  {
   "cell_type": "code",
   "execution_count": null,
   "id": "e557db4b",
   "metadata": {},
   "outputs": [],
   "source": []
  },
  {
   "cell_type": "code",
   "execution_count": null,
   "id": "35bfcd82",
   "metadata": {},
   "outputs": [],
   "source": []
  },
  {
   "cell_type": "code",
   "execution_count": null,
   "id": "ef7904ca",
   "metadata": {},
   "outputs": [],
   "source": []
  },
  {
   "cell_type": "code",
   "execution_count": null,
   "id": "2963121e",
   "metadata": {},
   "outputs": [],
   "source": []
  },
  {
   "cell_type": "code",
   "execution_count": null,
   "id": "74b0eb7e",
   "metadata": {},
   "outputs": [],
   "source": []
  },
  {
   "cell_type": "code",
   "execution_count": null,
   "id": "257de09a",
   "metadata": {},
   "outputs": [],
   "source": []
  },
  {
   "cell_type": "code",
   "execution_count": null,
   "id": "54b16dba",
   "metadata": {},
   "outputs": [],
   "source": []
  },
  {
   "cell_type": "code",
   "execution_count": null,
   "id": "c977814e",
   "metadata": {},
   "outputs": [],
   "source": []
  },
  {
   "cell_type": "code",
   "execution_count": null,
   "id": "571a4437",
   "metadata": {},
   "outputs": [],
   "source": []
  },
  {
   "cell_type": "code",
   "execution_count": null,
   "id": "9fcf2e07",
   "metadata": {},
   "outputs": [],
   "source": []
  },
  {
   "cell_type": "code",
   "execution_count": null,
   "id": "39c2c40d",
   "metadata": {},
   "outputs": [],
   "source": []
  },
  {
   "cell_type": "code",
   "execution_count": null,
   "id": "2972e46b",
   "metadata": {},
   "outputs": [],
   "source": []
  }
 ],
 "metadata": {
  "kernelspec": {
   "display_name": "Python 3",
   "language": "python",
   "name": "python3"
  },
  "language_info": {
   "codemirror_mode": {
    "name": "ipython",
    "version": 3
   },
   "file_extension": ".py",
   "mimetype": "text/x-python",
   "name": "python",
   "nbconvert_exporter": "python",
   "pygments_lexer": "ipython3",
   "version": "3.8.8"
  }
 },
 "nbformat": 4,
 "nbformat_minor": 5
}
