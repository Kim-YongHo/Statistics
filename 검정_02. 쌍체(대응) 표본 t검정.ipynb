{
 "cells": [
  {
   "cell_type": "markdown",
   "id": "dddaf879",
   "metadata": {},
   "source": [
    "## 쌍체 표본 t검정\n",
    "\n",
    "- x의 변화에 따라 y 값이 결정\n",
    "- x에 변화를 가했을 때 그 x가 변화되어서 추출된 값을 검정(효과가 있는지)\n",
    "- A반 학생들이 보충수업 후 본 국어 시험점수를 봤을 때 보충수업의 효과가 있는지\n",
    "\n",
    "\n",
    "- 가설설정 - 데이터 정규성 검정 - Ttest - 결론"
   ]
  },
  {
   "cell_type": "markdown",
   "id": "3219f0be",
   "metadata": {},
   "source": [
    "## 선행조건\n",
    "- 실험전(x)과 실험후(y)의 데이터는 정규분포를 따르지 않았도 됨\n",
    "- 측정값의 차이는 정규성을 갖고 있어야 함"
   ]
  },
  {
   "cell_type": "markdown",
   "id": "2585026d",
   "metadata": {},
   "source": [
    "![](../picture/대응t정리.png)"
   ]
  },
  {
   "cell_type": "code",
   "execution_count": 3,
   "id": "8b48c2fa",
   "metadata": {},
   "outputs": [],
   "source": [
    "import pandas as pd\n",
    "from scipy.stats import *"
   ]
  },
  {
   "cell_type": "code",
   "execution_count": 4,
   "id": "d539bd01",
   "metadata": {},
   "outputs": [],
   "source": [
    "from IPython.core.interactiveshell import InteractiveShell\n",
    "InteractiveShell.ast_node_interactivity=\"all\""
   ]
  },
  {
   "cell_type": "code",
   "execution_count": 5,
   "id": "18df5f1b",
   "metadata": {},
   "outputs": [],
   "source": [
    "df = pd.read_csv(\"../data/다이어트약_효과검증.csv\")"
   ]
  },
  {
   "cell_type": "code",
   "execution_count": 7,
   "id": "6deb60d7",
   "metadata": {},
   "outputs": [
    {
     "data": {
      "text/html": [
       "<div>\n",
       "<style scoped>\n",
       "    .dataframe tbody tr th:only-of-type {\n",
       "        vertical-align: middle;\n",
       "    }\n",
       "\n",
       "    .dataframe tbody tr th {\n",
       "        vertical-align: top;\n",
       "    }\n",
       "\n",
       "    .dataframe thead th {\n",
       "        text-align: right;\n",
       "    }\n",
       "</style>\n",
       "<table border=\"1\" class=\"dataframe\">\n",
       "  <thead>\n",
       "    <tr style=\"text-align: right;\">\n",
       "      <th></th>\n",
       "      <th>다이어트전(kg)</th>\n",
       "      <th>다이어트후(kg)</th>\n",
       "    </tr>\n",
       "  </thead>\n",
       "  <tbody>\n",
       "    <tr>\n",
       "      <th>0</th>\n",
       "      <td>87.41</td>\n",
       "      <td>88.30</td>\n",
       "    </tr>\n",
       "    <tr>\n",
       "      <th>1</th>\n",
       "      <td>81.05</td>\n",
       "      <td>76.21</td>\n",
       "    </tr>\n",
       "    <tr>\n",
       "      <th>2</th>\n",
       "      <td>60.72</td>\n",
       "      <td>53.34</td>\n",
       "    </tr>\n",
       "    <tr>\n",
       "      <th>3</th>\n",
       "      <td>81.02</td>\n",
       "      <td>78.21</td>\n",
       "    </tr>\n",
       "    <tr>\n",
       "      <th>4</th>\n",
       "      <td>75.75</td>\n",
       "      <td>76.74</td>\n",
       "    </tr>\n",
       "  </tbody>\n",
       "</table>\n",
       "</div>"
      ],
      "text/plain": [
       "   다이어트전(kg)  다이어트후(kg)\n",
       "0      87.41      88.30\n",
       "1      81.05      76.21\n",
       "2      60.72      53.34\n",
       "3      81.02      78.21\n",
       "4      75.75      76.74"
      ]
     },
     "execution_count": 7,
     "metadata": {},
     "output_type": "execute_result"
    }
   ],
   "source": [
    "df.head()"
   ]
  },
  {
   "cell_type": "code",
   "execution_count": 8,
   "id": "d4967e56",
   "metadata": {},
   "outputs": [],
   "source": [
    "before = df['다이어트전(kg)']\n",
    "after = df['다이어트후(kg)']"
   ]
  },
  {
   "cell_type": "code",
   "execution_count": 9,
   "id": "f7721bff",
   "metadata": {},
   "outputs": [
    {
     "data": {
      "text/plain": [
       "KstestResult(statistic=0.7424620196514834, pvalue=7.04108433205159e-29)"
      ]
     },
     "execution_count": 9,
     "metadata": {},
     "output_type": "execute_result"
    }
   ],
   "source": [
    "# 정규성  검정 : 두 값의 차이가 정규분포를 따르는지 확인\n",
    "\n",
    "kstest(after-before,'norm')\n",
    "\n",
    "# pvalue가 거의 0에 가까운 수치(지수가 - 면 소수 이하로 내려간다)"
   ]
  },
  {
   "cell_type": "code",
   "execution_count": 10,
   "id": "b8ed92a2",
   "metadata": {},
   "outputs": [
    {
     "data": {
      "text/plain": [
       "ShapiroResult(statistic=0.9724071621894836, pvalue=0.2892048954963684)"
      ]
     },
     "execution_count": 10,
     "metadata": {},
     "output_type": "execute_result"
    }
   ],
   "source": [
    "from scipy.stats import shapiro # 정규성 검정 함수\n",
    "\n",
    "\n",
    "# 귀무가설 : 데이터는 정규분포이다\n",
    "# 대립가설 : 데이터는 정규분포가 아니다\n",
    "\n",
    "shapiro(after-before)\n",
    "\n",
    "# pvalue가 0.05보다 크므로 귀무가설 채택"
   ]
  },
  {
   "cell_type": "markdown",
   "id": "587a4768",
   "metadata": {},
   "source": [
    "## 대응(쌍체)표본  t 검정 함수\n",
    "\n",
    "- scipy.stats.ttest_rel(a, b, axis=0, nan_policy='propagate', alternative='two-sided')\n",
    "    - nan_policy {‘propagate’:nan을 반환, ‘raise’:오류발생, ‘omit’:무시} : NaN 처리 방법\n",
    "    - alternative='two-sided'|'less'|'greater' : 양측검정 or 왼쪽단측 or 오른쪽단측\n"
   ]
  },
  {
   "cell_type": "code",
   "execution_count": 11,
   "id": "272e71f1",
   "metadata": {},
   "outputs": [
    {
     "data": {
      "text/plain": [
       "Ttest_relResult(statistic=9.70596986565785, pvalue=5.370404098342324e-13)"
      ]
     },
     "execution_count": 11,
     "metadata": {},
     "output_type": "execute_result"
    }
   ],
   "source": [
    "\n",
    "# 귀무 가설 : 대응 표본 두 집단의 평균은 같다 - 다이어트 약의 효과는 없다\n",
    "# 대립가설 : 대응 표본 두 집단의 평균은 다르다 - 다이어트 약의 효과가 있다\n",
    "# pvalue가 0에 가까우므로 귀무가설은 기각\n",
    "# 통계량은 확실한 양의 효과가 있다 - 다이어트약의 효과가 있다\n",
    "\n",
    "\n",
    "ttest_rel(before,after)"
   ]
  },
  {
   "cell_type": "code",
   "execution_count": null,
   "id": "a432ae97",
   "metadata": {},
   "outputs": [],
   "source": []
  },
  {
   "cell_type": "markdown",
   "id": "55f0d1ca",
   "metadata": {},
   "source": [
    "## 개별실습 (마케딩에 따른 판매액 차이 : htest02d.csv)"
   ]
  },
  {
   "cell_type": "code",
   "execution_count": 12,
   "id": "fecfbf11",
   "metadata": {},
   "outputs": [],
   "source": [
    "df = pd.read_csv(\"../data/htest02d.csv\")\n"
   ]
  },
  {
   "cell_type": "code",
   "execution_count": 15,
   "id": "9d9e28e9",
   "metadata": {},
   "outputs": [
    {
     "data": {
      "text/html": [
       "<div>\n",
       "<style scoped>\n",
       "    .dataframe tbody tr th:only-of-type {\n",
       "        vertical-align: middle;\n",
       "    }\n",
       "\n",
       "    .dataframe tbody tr th {\n",
       "        vertical-align: top;\n",
       "    }\n",
       "\n",
       "    .dataframe thead th {\n",
       "        text-align: right;\n",
       "    }\n",
       "</style>\n",
       "<table border=\"1\" class=\"dataframe\">\n",
       "  <thead>\n",
       "    <tr style=\"text-align: right;\">\n",
       "      <th></th>\n",
       "      <th>before</th>\n",
       "      <th>after</th>\n",
       "    </tr>\n",
       "  </thead>\n",
       "  <tbody>\n",
       "    <tr>\n",
       "      <th>0</th>\n",
       "      <td>20000</td>\n",
       "      <td>40000</td>\n",
       "    </tr>\n",
       "    <tr>\n",
       "      <th>1</th>\n",
       "      <td>1000</td>\n",
       "      <td>32000</td>\n",
       "    </tr>\n",
       "    <tr>\n",
       "      <th>2</th>\n",
       "      <td>30000</td>\n",
       "      <td>70000</td>\n",
       "    </tr>\n",
       "    <tr>\n",
       "      <th>3</th>\n",
       "      <td>4000</td>\n",
       "      <td>3000</td>\n",
       "    </tr>\n",
       "    <tr>\n",
       "      <th>4</th>\n",
       "      <td>8000</td>\n",
       "      <td>15000</td>\n",
       "    </tr>\n",
       "    <tr>\n",
       "      <th>5</th>\n",
       "      <td>7000</td>\n",
       "      <td>15000</td>\n",
       "    </tr>\n",
       "    <tr>\n",
       "      <th>6</th>\n",
       "      <td>2000</td>\n",
       "      <td>10000</td>\n",
       "    </tr>\n",
       "    <tr>\n",
       "      <th>7</th>\n",
       "      <td>6000</td>\n",
       "      <td>7000</td>\n",
       "    </tr>\n",
       "    <tr>\n",
       "      <th>8</th>\n",
       "      <td>12000</td>\n",
       "      <td>30000</td>\n",
       "    </tr>\n",
       "    <tr>\n",
       "      <th>9</th>\n",
       "      <td>15000</td>\n",
       "      <td>16000</td>\n",
       "    </tr>\n",
       "  </tbody>\n",
       "</table>\n",
       "</div>"
      ],
      "text/plain": [
       "   before  after\n",
       "0   20000  40000\n",
       "1    1000  32000\n",
       "2   30000  70000\n",
       "3    4000   3000\n",
       "4    8000  15000\n",
       "5    7000  15000\n",
       "6    2000  10000\n",
       "7    6000   7000\n",
       "8   12000  30000\n",
       "9   15000  16000"
      ]
     },
     "execution_count": 15,
     "metadata": {},
     "output_type": "execute_result"
    }
   ],
   "source": [
    "df"
   ]
  },
  {
   "cell_type": "code",
   "execution_count": 16,
   "id": "c5f88e2a",
   "metadata": {},
   "outputs": [
    {
     "data": {
      "text/html": [
       "<div>\n",
       "<style scoped>\n",
       "    .dataframe tbody tr th:only-of-type {\n",
       "        vertical-align: middle;\n",
       "    }\n",
       "\n",
       "    .dataframe tbody tr th {\n",
       "        vertical-align: top;\n",
       "    }\n",
       "\n",
       "    .dataframe thead th {\n",
       "        text-align: right;\n",
       "    }\n",
       "</style>\n",
       "<table border=\"1\" class=\"dataframe\">\n",
       "  <thead>\n",
       "    <tr style=\"text-align: right;\">\n",
       "      <th></th>\n",
       "      <th>before</th>\n",
       "      <th>after</th>\n",
       "    </tr>\n",
       "  </thead>\n",
       "  <tbody>\n",
       "    <tr>\n",
       "      <th>0</th>\n",
       "      <td>20000</td>\n",
       "      <td>40000</td>\n",
       "    </tr>\n",
       "    <tr>\n",
       "      <th>1</th>\n",
       "      <td>1000</td>\n",
       "      <td>32000</td>\n",
       "    </tr>\n",
       "    <tr>\n",
       "      <th>2</th>\n",
       "      <td>30000</td>\n",
       "      <td>70000</td>\n",
       "    </tr>\n",
       "    <tr>\n",
       "      <th>3</th>\n",
       "      <td>4000</td>\n",
       "      <td>3000</td>\n",
       "    </tr>\n",
       "    <tr>\n",
       "      <th>4</th>\n",
       "      <td>8000</td>\n",
       "      <td>15000</td>\n",
       "    </tr>\n",
       "  </tbody>\n",
       "</table>\n",
       "</div>"
      ],
      "text/plain": [
       "   before  after\n",
       "0   20000  40000\n",
       "1    1000  32000\n",
       "2   30000  70000\n",
       "3    4000   3000\n",
       "4    8000  15000"
      ]
     },
     "execution_count": 16,
     "metadata": {},
     "output_type": "execute_result"
    },
    {
     "data": {
      "text/plain": [
       "Index(['before', 'after'], dtype='object')"
      ]
     },
     "execution_count": 16,
     "metadata": {},
     "output_type": "execute_result"
    }
   ],
   "source": [
    "df.head()\n",
    "df.columns"
   ]
  },
  {
   "cell_type": "code",
   "execution_count": 17,
   "id": "24b735a0",
   "metadata": {},
   "outputs": [
    {
     "data": {
      "text/plain": [
       "0    20000\n",
       "1     1000\n",
       "2    30000\n",
       "3     4000\n",
       "4     8000\n",
       "5     7000\n",
       "6     2000\n",
       "7     6000\n",
       "8    12000\n",
       "9    15000\n",
       "Name: before, dtype: int64"
      ]
     },
     "execution_count": 17,
     "metadata": {},
     "output_type": "execute_result"
    },
    {
     "data": {
      "text/plain": [
       "0    40000\n",
       "1    32000\n",
       "2    70000\n",
       "3     3000\n",
       "4    15000\n",
       "5    15000\n",
       "6    10000\n",
       "7     7000\n",
       "8    30000\n",
       "9    16000\n",
       "Name: after, dtype: int64"
      ]
     },
     "execution_count": 17,
     "metadata": {},
     "output_type": "execute_result"
    }
   ],
   "source": [
    "before = df['before']\n",
    "after = df['after']\n",
    "\n",
    "before\n",
    "after\n"
   ]
  },
  {
   "cell_type": "code",
   "execution_count": 18,
   "id": "6beed9da",
   "metadata": {},
   "outputs": [
    {
     "data": {
      "text/plain": [
       "KstestResult(statistic=0.9, pvalue=1.9999999999999957e-10)"
      ]
     },
     "execution_count": 18,
     "metadata": {},
     "output_type": "execute_result"
    }
   ],
   "source": [
    "# 정규성검정 - 두 값의 차이가 정규분포를 따르는지 확인\n",
    "kstest(after-before, 'norm') # 정규분포를 따름"
   ]
  },
  {
   "cell_type": "code",
   "execution_count": 19,
   "id": "b0292d18",
   "metadata": {},
   "outputs": [
    {
     "data": {
      "text/plain": [
       "Ttest_relResult(statistic=-3.063706575002505, pvalue=0.013490533567231943)"
      ]
     },
     "execution_count": 19,
     "metadata": {},
     "output_type": "execute_result"
    }
   ],
   "source": [
    "# 귀무가설 : 판매액의 변화가 없다\n",
    "# pvaluer가 유의수준 이하이므로 귀무가설이 기각됨 판매액의 변화가 있음\n",
    "# 통계량을 확인했음\n",
    "# t검정\n",
    "ttest_rel(before,after)"
   ]
  },
  {
   "cell_type": "code",
   "execution_count": null,
   "id": "15c1d900",
   "metadata": {},
   "outputs": [],
   "source": []
  },
  {
   "cell_type": "code",
   "execution_count": null,
   "id": "be607c26",
   "metadata": {},
   "outputs": [],
   "source": []
  },
  {
   "cell_type": "code",
   "execution_count": null,
   "id": "bf32b3d1",
   "metadata": {},
   "outputs": [],
   "source": []
  },
  {
   "cell_type": "code",
   "execution_count": null,
   "id": "d14d4da8",
   "metadata": {},
   "outputs": [],
   "source": []
  },
  {
   "cell_type": "code",
   "execution_count": null,
   "id": "17506c89",
   "metadata": {},
   "outputs": [],
   "source": []
  },
  {
   "cell_type": "code",
   "execution_count": null,
   "id": "71f3dbd5",
   "metadata": {},
   "outputs": [],
   "source": []
  },
  {
   "cell_type": "code",
   "execution_count": null,
   "id": "1add7098",
   "metadata": {},
   "outputs": [],
   "source": []
  },
  {
   "cell_type": "code",
   "execution_count": null,
   "id": "9fe5c6ff",
   "metadata": {},
   "outputs": [],
   "source": []
  },
  {
   "cell_type": "code",
   "execution_count": null,
   "id": "3d697e3f",
   "metadata": {},
   "outputs": [],
   "source": []
  },
  {
   "cell_type": "code",
   "execution_count": null,
   "id": "32f0bfbc",
   "metadata": {},
   "outputs": [],
   "source": []
  },
  {
   "cell_type": "code",
   "execution_count": null,
   "id": "ddfb978c",
   "metadata": {},
   "outputs": [],
   "source": []
  },
  {
   "cell_type": "code",
   "execution_count": null,
   "id": "16e014c3",
   "metadata": {},
   "outputs": [],
   "source": []
  },
  {
   "cell_type": "code",
   "execution_count": null,
   "id": "6ea3965a",
   "metadata": {},
   "outputs": [],
   "source": []
  },
  {
   "cell_type": "code",
   "execution_count": null,
   "id": "1c77cbfb",
   "metadata": {},
   "outputs": [],
   "source": []
  }
 ],
 "metadata": {
  "kernelspec": {
   "display_name": "Python 3",
   "language": "python",
   "name": "python3"
  },
  "language_info": {
   "codemirror_mode": {
    "name": "ipython",
    "version": 3
   },
   "file_extension": ".py",
   "mimetype": "text/x-python",
   "name": "python",
   "nbconvert_exporter": "python",
   "pygments_lexer": "ipython3",
   "version": "3.8.8"
  }
 },
 "nbformat": 4,
 "nbformat_minor": 5
}
