{
 "cells": [
  {
   "cell_type": "markdown",
   "id": "aa877871",
   "metadata": {},
   "source": [
    "## 통계적 가설검증\n",
    "![](../picture/가설검정.png)"
   ]
  },
  {
   "cell_type": "code",
   "execution_count": 3,
   "id": "60d82f91",
   "metadata": {},
   "outputs": [
    {
     "data": {
      "text/plain": [
       "'%.3f'"
      ]
     },
     "execution_count": 3,
     "metadata": {},
     "output_type": "execute_result"
    }
   ],
   "source": [
    "import numpy as np\n",
    "import pandas as pd\n",
    "from scipy import stats\n",
    "\n",
    "%precision 3\n",
    "np.random.seed(1111)\n"
   ]
  },
  {
   "cell_type": "code",
   "execution_count": 8,
   "id": "325d6bbb",
   "metadata": {},
   "outputs": [],
   "source": [
    "from IPython.core.interactiveshell import InteractiveShell\n",
    "InteractiveShell.ast_node_interactivity=\"all\"\n"
   ]
  },
  {
   "cell_type": "code",
   "execution_count": 9,
   "id": "a3e403d6",
   "metadata": {},
   "outputs": [
    {
     "data": {
      "text/plain": [
       "array([122.02, 131.73, 130.6 , 131.82, 132.05, 126.12, 124.43, 132.89,\n",
       "       122.79, 129.95, 126.14, 134.45, 127.64, 125.68])"
      ]
     },
     "execution_count": 9,
     "metadata": {},
     "output_type": "execute_result"
    }
   ],
   "source": [
    "df = pd.read_csv('../data/ch11_potato.csv')\n",
    "sample = np.array(df['무게'])\n",
    "sample\n"
   ]
  },
  {
   "cell_type": "code",
   "execution_count": null,
   "id": "8a8ee6e1",
   "metadata": {},
   "outputs": [],
   "source": []
  },
  {
   "cell_type": "markdown",
   "id": "57f90f1d",
   "metadata": {},
   "source": [
    "### 통계적 가설검정의 흐름\n",
    "\n",
    "- A학생이 감자튀김에 관하여 확인하고 싶은 것은 모평균이 130g보다 적은지 여부 임\n",
    "    - 여기서는 감자튀김의 모집단이 정규분포를 따르고 있고, 모분산이 9임을 알고 있다고 전제\n",
    "\n",
    "- 가정은 ‘모평균이 130g’\n",
    "- 감자튀김 표본 14개는 독립성을 띄고 X1,X2,X3,...,X14 ~ N(130,9) 를 따르고 표본평균은 N(130,9/14)를 따른다\n",
    "\n",
    "\n",
    "- 표본평균 $\\overline{x}$ 가 P($\\overline{X}$ <= x) = 0.05를 만족하는 x를 생각\n"
   ]
  },
  {
   "cell_type": "code",
   "execution_count": 10,
   "id": "8873eba1",
   "metadata": {},
   "outputs": [
    {
     "data": {
      "text/plain": [
       "128.68118313069039"
      ]
     },
     "execution_count": 10,
     "metadata": {},
     "output_type": "execute_result"
    }
   ],
   "source": [
    "rv = stats.norm(130, np.sqrt(9/14))\n",
    "rv.isf(0.95)"
   ]
  },
  {
   "cell_type": "markdown",
   "id": "541c609b",
   "metadata": {},
   "source": [
    "![](../picture/가설검정수식.png)"
   ]
  },
  {
   "cell_type": "markdown",
   "id": "19e7dcb3",
   "metadata": {},
   "source": [
    "![](../picture/그림11-1.jpg)"
   ]
  },
  {
   "cell_type": "markdown",
   "id": "6711e900",
   "metadata": {},
   "source": [
    "## 가설검정에서 사용하는 모수에 관한 두가지 가설\n",
    "- 대립가설: 주장하고 싶은 가설 \n",
    "    - 예: “차이가 있다”, “효과가 있다”\n",
    "\n",
    "- 귀무가설: 대립가설과 반대 \n",
    "    - 예: “차이가 없다”, “효과가 없다”\n",
    "\n",
    "- 가설검정의 결론\n",
    "    - 귀무가설을 기각한다: 귀무가설은 옳지 않다\n",
    "    - 귀무가설을 채택한다: 귀무가설이 옳지 않다고 말할 수 없다\n"
   ]
  },
  {
   "cell_type": "markdown",
   "id": "63e954dd",
   "metadata": {},
   "source": [
    "- ‘귀무가설을 기각한다/채택한다’의 판단은 귀무가설의 가정을 바탕으로 했을 때 표본으로부터 계산되는 통계량이 드문 값인지 여부로 결정\n",
    "- 드문 값을 얻으면, 우연이 아니라 의미 있는 값이라고 생각하여 귀무가설을 기각\n",
    "    - 유의하다: 우연이 아니라 의미가 있다\n",
    "        \n",
    "        \n",
    "\n",
    "- 귀무가설 ‘모평균은 130g이다’라는 가정을 바탕으로 했을 때 표본평균이 128.451g이 되는 것은 유의하므로 귀무가설은 기각\n",
    "    - 표본평균이 128.681g보다 작다면 귀무가설은 기각되고, 128.681g보다 크다면 귀무가설을 채택\n"
   ]
  },
  {
   "cell_type": "markdown",
   "id": "6dac193d",
   "metadata": {},
   "source": [
    "![](../picture/유의수준.png)"
   ]
  },
  {
   "cell_type": "markdown",
   "id": "4d058b10",
   "metadata": {},
   "source": [
    "- p값과 유의수준\n",
    "- p값이 유의수준보다 작으면 귀무가설을 기가\n",
    "![](../picture/p값.png)"
   ]
  },
  {
   "cell_type": "markdown",
   "id": "b8bcdede",
   "metadata": {},
   "source": [
    "![](../picture/p값1.jpg)"
   ]
  },
  {
   "cell_type": "markdown",
   "id": "87b4ab0c",
   "metadata": {},
   "source": [
    "- p값은 누적분포함수로 구할 수 있음"
   ]
  },
  {
   "cell_type": "markdown",
   "id": "3cf2c04e",
   "metadata": {},
   "source": [
    "## 검정 통계량 Z는 아래와 같이 설정하자\n",
    "- 유의 수준은 0.05(5%)로 설정"
   ]
  },
  {
   "cell_type": "code",
   "execution_count": 14,
   "id": "2e0682f2",
   "metadata": {},
   "outputs": [
    {
     "data": {
      "text/plain": [
       "-1.932298779026813"
      ]
     },
     "execution_count": 14,
     "metadata": {},
     "output_type": "execute_result"
    }
   ],
   "source": [
    "s_mean = np.mean(sample)\n",
    "\n",
    "z = (s_mean-130) / np.sqrt(9/14)\n",
    "\n",
    "z"
   ]
  },
  {
   "cell_type": "code",
   "execution_count": 17,
   "id": "3736fb2f",
   "metadata": {},
   "outputs": [],
   "source": [
    "rv = stats.norm()"
   ]
  },
  {
   "cell_type": "code",
   "execution_count": 18,
   "id": "3ff258b4",
   "metadata": {},
   "outputs": [
    {
     "data": {
      "text/plain": [
       "0.026661319523126635"
      ]
     },
     "execution_count": 18,
     "metadata": {},
     "output_type": "execute_result"
    }
   ],
   "source": [
    "# 확률변수 rv를 이용한 p값 계산\n",
    "rv.cdf(z)"
   ]
  },
  {
   "cell_type": "markdown",
   "id": "88652b80",
   "metadata": {},
   "source": [
    "![](../picture/그림11-3.jpg)"
   ]
  },
  {
   "cell_type": "markdown",
   "id": "9b4226f4",
   "metadata": {},
   "source": [
    "## 단측검정과 양측검정\n",
    "\n",
    "- 모평균은 130보다 작다=>단측검정 라는 대립가설이 아닌 모평균은 130g이 아니다라는 대립가설로 가설 검정 수행    \n",
    "\n",
    "\n",
    "    - 모평균이 130g보다 작은 경우와 큰 경우도 고려하게 됨 => 양측 검정\n",
    "    \n",
    "- 동일한 유의수준 $\\alpha$ 의 검정이라도 단측 검정 쪽의 기각역이 넓어진다. \n",
    "    - 단측검정은 양측검정보다 귀무가설을 기각하기 쉽다\n"
   ]
  },
  {
   "cell_type": "markdown",
   "id": "91c4c37f",
   "metadata": {},
   "source": [
    "![](../picture/단측검정양측검정.png)"
   ]
  },
  {
   "cell_type": "code",
   "execution_count": 20,
   "id": "89473d70",
   "metadata": {},
   "outputs": [
    {
     "data": {
      "text/plain": [
       "-1.932298779026813"
      ]
     },
     "execution_count": 20,
     "metadata": {},
     "output_type": "execute_result"
    }
   ],
   "source": [
    "# 검정통계량은 단측 검정과 동일\n",
    "s_mean = np.mean(sample) # 감자튀김 14개의 무게 data인 sample의 평균\n",
    "\n",
    "z = (s_mean-130) / np.sqrt(9/14)\n",
    "\n",
    "z"
   ]
  },
  {
   "cell_type": "code",
   "execution_count": 22,
   "id": "d01e51cf",
   "metadata": {},
   "outputs": [
    {
     "data": {
      "text/plain": [
       "(-1.959963984540054, 1.959963984540054)"
      ]
     },
     "execution_count": 22,
     "metadata": {},
     "output_type": "execute_result"
    }
   ],
   "source": [
    "# 양측 검정이므로 임계값은 표전 정규분포의 95% 구간에 따라 구할 수 있음\n",
    "rv = stats.norm()\n",
    "rv.interval(0.95)"
   ]
  },
  {
   "cell_type": "markdown",
   "id": "50e0da75",
   "metadata": {},
   "source": [
    "- 임곗값과 검정 통계량을 비교해 보면 검정통계량이 채택역에 들어 있다. => 귀무가설이 기각되지 않는다\n"
   ]
  },
  {
   "cell_type": "code",
   "execution_count": 23,
   "id": "1514d4b8",
   "metadata": {},
   "outputs": [
    {
     "data": {
      "text/plain": [
       "0.05332263904625327"
      ]
     },
     "execution_count": 23,
     "metadata": {},
     "output_type": "execute_result"
    }
   ],
   "source": [
    "# 양측검정의 p값을 구할 때는 상단과 하단의 양쪽 면적을 고려할 필요가 있으므로 누적밀도함수의 값을 2배로 함\n",
    "rv.cdf(z)*2"
   ]
  },
  {
   "cell_type": "markdown",
   "id": "2313162b",
   "metadata": {},
   "source": [
    "- p값의 유의 수준이 0.05보다 큼 => 귀무가설은 기각되지 않는다\n"
   ]
  },
  {
   "cell_type": "markdown",
   "id": "ab59d26a",
   "metadata": {},
   "source": [
    "## 가설검정의 2가지 오류"
   ]
  },
  {
   "cell_type": "markdown",
   "id": "30d09360",
   "metadata": {},
   "source": [
    "![](../picture/제12종오류_.png)\n",
    "\n",
    "- 제1종 오류\n",
    "    - 실제로 ‘평균이 130g’인데도 ‘평균은 130g보다 작다’라는 결론을 내리는 상황\n",
    "    - 본래 검출하지 말아야 할 것을 검출한 것이므로 오탐(false negative)\n",
    "    - 위험률: 제1종 오류를 범하는 확률 $\\alpha$\n",
    "\n",
    "- 제2종 오류\n",
    "    - 실제로 ‘평균이 130g보다 작다’인데도 ‘평균은 130g보다 작다’라는 결론을 얻을 수 없는 상황\n",
    "    - 본래 검출해야 하는 것을 검출하지 못했으므로 미탐(false negative)\n"
   ]
  },
  {
   "cell_type": "code",
   "execution_count": null,
   "id": "6b072d40",
   "metadata": {},
   "outputs": [],
   "source": []
  },
  {
   "cell_type": "code",
   "execution_count": null,
   "id": "b514e333",
   "metadata": {},
   "outputs": [],
   "source": []
  },
  {
   "cell_type": "code",
   "execution_count": null,
   "id": "2c0e12b9",
   "metadata": {},
   "outputs": [],
   "source": []
  },
  {
   "cell_type": "code",
   "execution_count": null,
   "id": "0af01217",
   "metadata": {},
   "outputs": [],
   "source": []
  },
  {
   "cell_type": "code",
   "execution_count": null,
   "id": "541e4bc5",
   "metadata": {},
   "outputs": [],
   "source": []
  },
  {
   "cell_type": "code",
   "execution_count": null,
   "id": "3779f335",
   "metadata": {},
   "outputs": [],
   "source": []
  },
  {
   "cell_type": "code",
   "execution_count": null,
   "id": "5567e994",
   "metadata": {},
   "outputs": [],
   "source": []
  },
  {
   "cell_type": "code",
   "execution_count": null,
   "id": "c0e96591",
   "metadata": {},
   "outputs": [],
   "source": []
  }
 ],
 "metadata": {
  "kernelspec": {
   "display_name": "Python 3",
   "language": "python",
   "name": "python3"
  },
  "language_info": {
   "codemirror_mode": {
    "name": "ipython",
    "version": 3
   },
   "file_extension": ".py",
   "mimetype": "text/x-python",
   "name": "python",
   "nbconvert_exporter": "python",
   "pygments_lexer": "ipython3",
   "version": "3.8.8"
  }
 },
 "nbformat": 4,
 "nbformat_minor": 5
}
