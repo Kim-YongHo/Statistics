{
 "cells": [
  {
   "cell_type": "code",
   "execution_count": null,
   "id": "0a8ab0db",
   "metadata": {},
   "outputs": [],
   "source": [
    "## 대표적인 이산형 확률분포\n",
    "- 베르누이분포 = > "
   ]
  },
  {
   "cell_type": "code",
   "execution_count": 1,
   "id": "ae5fd395",
   "metadata": {},
   "outputs": [],
   "source": [
    "import numpy as np\n",
    "import matplotlib.pyplot as plt\n",
    "from scipy import stats\n",
    "\n",
    "%precision 3\n",
    "%matplotlib inline\n"
   ]
  },
  {
   "cell_type": "code",
   "execution_count": 2,
   "id": "6320da66",
   "metadata": {},
   "outputs": [],
   "source": [
    "from IPython.core.interactiveshell import InteractiveShell\n",
    "InteractiveShell.ast_node_interactivity=\"all\"\n"
   ]
  },
  {
   "cell_type": "code",
   "execution_count": 3,
   "id": "8b28b39c",
   "metadata": {},
   "outputs": [],
   "source": [
    "# 한글 문제\n",
    "# matplotlit의 기본 폰트에서 한글 지원되지 않기 때문에\n",
    "# matplotlib의 폰트 변경 필요\n",
    "import platform\n",
    "\n",
    "from matplotlib import font_manager, rc\n",
    "plt.rcParams['axes.unicode_minus'] = False\n",
    "\n",
    "if platform.system() == 'Darwin':  # 맥OS \n",
    "    rc('font', family='AppleGothic')\n",
    "elif platform.system() == 'Windows':  # 윈도우\n",
    "    path = \"c:/Windows/Fonts/malgun.ttf\"\n",
    "    font_name = font_manager.FontProperties(fname=path).get_name()\n",
    "    rc('font', family=font_name)\n",
    "else:\n",
    "    print('Unknown system...  sorry~~~')\n"
   ]
  },
  {
   "cell_type": "code",
   "execution_count": 4,
   "id": "577842e4",
   "metadata": {},
   "outputs": [],
   "source": [
    "# 필요 함수 정의\n",
    "\n",
    "# 그래프 선의 종류\n",
    "linestyles = ['-', '--', ':']\n",
    "\n",
    "def E(X, g=lambda x: x):\n",
    "    x_set, f = X\n",
    "    return np.sum([g(x_k) * f(x_k) for x_k in x_set])\n",
    "\n",
    "def V(X, g=lambda x: x):\n",
    "    x_set, f = X\n",
    "    mean = E(X, g)\n",
    "    return np.sum([(g(x_k)-mean)**2 * f(x_k) for x_k in x_set])\n",
    "\n",
    "# 기댓값과 분산 계산 함수\n",
    "\n",
    "# X가 이산형 확률변수인지 확인\n",
    "def check_prob(X):\n",
    "    x_set, f = X\n",
    "    prob = np.array([f(x_k) for x_k in x_set])\n",
    "    assert np.all(prob >= 0), 'minus probability'\n",
    "    prob_sum = np.round(np.sum(prob), 6)\n",
    "    assert prob_sum == 1, f'sum of probability{prob_sum}'\n",
    "    print(f'expected value {E(X):.4}')\n",
    "    print(f'variance {(V(X)):.4}')\n",
    "    \n",
    "# 그래프 작성 함수\n",
    "\n",
    "def plot_prob(X):\n",
    "    x_set, f = X\n",
    "    prob = np.array([f(x_k) for x_k in x_set])\n",
    "    \n",
    "    fig = plt.figure(figsize=(10, 6))\n",
    "    ax = fig.add_subplot(111)\n",
    "    ax.bar(x_set, prob, label='prob')\n",
    "    ax.vlines(E(X), 0, 1, label='mean', color='black')\n",
    "    ax.set_xticks(np.append(x_set, E(X)))\n",
    "    ax.set_ylim(0, prob.max()*1.2)\n",
    "    ax.legend()\n",
    "    \n",
    "    plt.show()\n"
   ]
  },
  {
   "cell_type": "markdown",
   "id": "328af1e1",
   "metadata": {},
   "source": [
    "## 베르누이 분포\n",
    "- 확률변수가 취할 수 있는 값이 0과 1 밖에 없는 분포\n",
    "    - 베르누이 분포를 따르는 확률변수의 시행이 베르누이 시행\n",
    "    - 1은 성공, 0은 실패\n",
    "    - 1이 나오는 확률 p, 0이 나오는 확률 1-ㅔ\n",
    "    - 파라미터 p인 베르누이 분포 Bern(p)\n",
    "    \n",
    "![](../picture/베르누이함수.png)\n",
    "    "
   ]
  },
  {
   "cell_type": "markdown",
   "id": "baeb69f2",
   "metadata": {},
   "source": [
    "- 동전을 던져서 앞면이 나올 확률\n",
    "![](../picture/동전확률.png)"
   ]
  },
  {
   "cell_type": "markdown",
   "id": "5a53cd45",
   "metadata": {},
   "source": [
    "- 주사위를 한번 던져 6이 나오지 않을 확률\n",
    "![](../picture/주사위확률.png)"
   ]
  },
  {
   "cell_type": "code",
   "execution_count": null,
   "id": "19bf0518",
   "metadata": {},
   "outputs": [],
   "source": []
  },
  {
   "cell_type": "code",
   "execution_count": 5,
   "id": "c290cec0",
   "metadata": {},
   "outputs": [],
   "source": [
    "def Bern(p):\n",
    "    x_set = np.array([0,1])\n",
    "    def f(x):\n",
    "        if x in x_set:\n",
    "            return p**x*(1-p)**(1-x)\n",
    "        else:\n",
    "            return 0\n",
    "    \n",
    "    return x_set, f"
   ]
  },
  {
   "cell_type": "code",
   "execution_count": 6,
   "id": "99980464",
   "metadata": {},
   "outputs": [],
   "source": [
    "p=0.3 # 1이 나올 확률\n",
    "X = Bern(p)"
   ]
  },
  {
   "cell_type": "code",
   "execution_count": 7,
   "id": "d6d251ec",
   "metadata": {},
   "outputs": [
    {
     "name": "stdout",
     "output_type": "stream",
     "text": [
      "(array([0, 1]), <function Bern.<locals>.f at 0x0000021B0A011E50>)\n"
     ]
    }
   ],
   "source": [
    "print(X)"
   ]
  },
  {
   "cell_type": "markdown",
   "id": "12c31232",
   "metadata": {},
   "source": [
    "![](../picture/베르누이기대값분산.png)"
   ]
  },
  {
   "cell_type": "code",
   "execution_count": 8,
   "id": "efc24c48",
   "metadata": {},
   "outputs": [
    {
     "name": "stdout",
     "output_type": "stream",
     "text": [
      "expected value 0.3\n",
      "variance 0.21\n"
     ]
    }
   ],
   "source": [
    "# 기대값과 분산\n",
    "check_prob(X)"
   ]
  },
  {
   "cell_type": "code",
   "execution_count": 9,
   "id": "84093dad",
   "metadata": {},
   "outputs": [
    {
     "data": {
      "image/png": "[encoded data removed]",
      "text/plain": [
       "<Figure size 720x432 with 1 Axes>"
      ]
     },
     "metadata": {
      "needs_background": "light"
     },
     "output_type": "display_data"
    }
   ],
   "source": [
    "# 기대값\n",
    "plot_prob(X)"
   ]
  },
  {
   "cell_type": "code",
   "execution_count": null,
   "id": "5f6a6aea",
   "metadata": {},
   "outputs": [],
   "source": []
  },
  {
   "cell_type": "markdown",
   "id": "b5ab69cc",
   "metadata": {},
   "source": [
    "## scipy.stats 모듈\n",
    "- SciPy는 각종 수치 해석 기능을 제공하는 파이썬 패키지\n",
    "\n",
    "    - SciPy는 여러개의 서브 패키지로 구성되어 있는데 그 중 scipy.stats 서브패키지는 여러가지 확률 분포 분석을 위한 기능을 제공\n",
    "\n",
    "![](../picture/stats.png)"
   ]
  },
  {
   "cell_type": "code",
   "execution_count": 10,
   "id": "f5edcbb0",
   "metadata": {},
   "outputs": [],
   "source": [
    "p=0.3\n",
    "\n",
    "# 인수로 확률 파라미터를 취하고 베르누이 분포를 따르는 object를 반환함\n",
    "# 반환 object가 저장된 변수 rv는 확률변수에 해당함\n",
    "\n",
    "rv=stats.bernoulli(p)"
   ]
  },
  {
   "cell_type": "code",
   "execution_count": 11,
   "id": "8f4f2b5f",
   "metadata": {},
   "outputs": [
    {
     "data": {
      "text/plain": [
       "0.7000000000000001"
      ]
     },
     "execution_count": 11,
     "metadata": {},
     "output_type": "execute_result"
    },
    {
     "data": {
      "text/plain": [
       "0.3"
      ]
     },
     "execution_count": 11,
     "metadata": {},
     "output_type": "execute_result"
    },
    {
     "data": {
      "text/plain": [
       "array([0.7, 0.3])"
      ]
     },
     "execution_count": 11,
     "metadata": {},
     "output_type": "execute_result"
    },
    {
     "data": {
      "text/plain": [
       "array([0.7, 0.3, 0. , 0. ])"
      ]
     },
     "execution_count": 11,
     "metadata": {},
     "output_type": "execute_result"
    }
   ],
   "source": [
    "# pmf 메서드 : 확률 질량 함수\n",
    "rv.pmf(0) # 0이 나올 확률\n",
    "rv.pmf(1) \n",
    "\n",
    "# pmf는 리스트를 인수로 넘길 수 있음\n",
    "rv.pmf([0,1])\n",
    "\n",
    "rv.pmf([0,1,2,3])"
   ]
  },
  {
   "cell_type": "code",
   "execution_count": 12,
   "id": "0d23e795",
   "metadata": {},
   "outputs": [
    {
     "data": {
      "text/plain": [
       "array([0.7, 1. ])"
      ]
     },
     "execution_count": 12,
     "metadata": {},
     "output_type": "execute_result"
    }
   ],
   "source": [
    "# cdf 누적 분포 함수\n",
    "rv.cdf([0,1])"
   ]
  },
  {
   "cell_type": "code",
   "execution_count": 13,
   "id": "13ac65c6",
   "metadata": {},
   "outputs": [
    {
     "data": {
      "text/plain": [
       "0.3"
      ]
     },
     "execution_count": 13,
     "metadata": {},
     "output_type": "execute_result"
    },
    {
     "data": {
      "text/plain": [
       "0.21"
      ]
     },
     "execution_count": 13,
     "metadata": {},
     "output_type": "execute_result"
    }
   ],
   "source": [
    "# 기대값과 분산 계산\n",
    "rv.mean()\n",
    "rv.var()"
   ]
  },
  {
   "cell_type": "markdown",
   "id": "2741bd67",
   "metadata": {},
   "source": [
    "![](../picture/베르누이정리.png)"
   ]
  },
  {
   "cell_type": "markdown",
   "id": "087c32d3",
   "metadata": {},
   "source": [
    "## 이항분포\n",
    "- 성공 확률이 μ인 베르누이 시행을 N번 반복하는 경우\n",
    "    - 가장 운이 좋을 때는 N번 모두 성공할 것이고, 운이 나쁜 경우에는 한번도 성공하지 못할 것\n",
    "    - N번 중 성공한 횟수를 확률변수 X라고 한다면 X의 값을 0부터 N가지의 정수 중 하나가 됨\n",
    "\n",
    "![](../picture/이항분포.png)"
   ]
  },
  {
   "cell_type": "markdown",
   "id": "c75f2e4e",
   "metadata": {},
   "source": [
    "- 이런 확률변수를 **이항분포(binomial distribution)**를 따르는 확률변수라고 하며 다음과 같이 표시한다.\n"
   ]
  },
  {
   "cell_type": "markdown",
   "id": "55944e55",
   "metadata": {},
   "source": [
    "- X = 성공의 확률이 p인 ㅔ르누이 시행을 n번 반복할 때 성공의 수가 따르는 분포\n",
    "    - 𝑋가 가질 수 있는 값: 0, 1, 2, …, 𝑛\n",
    "    - n번 던져서 x번 성공할 확률\n",
    "\n",
    "![](../picture/이항연산.png)"
   ]
  },
  {
   "cell_type": "markdown",
   "id": "497e15b5",
   "metadata": {},
   "source": [
    "## comb \n",
    "![](../picture/comb_r.png)"
   ]
  },
  {
   "cell_type": "code",
   "execution_count": 14,
   "id": "26984eee",
   "metadata": {},
   "outputs": [
    {
     "data": {
      "text/plain": [
       "10.0"
      ]
     },
     "execution_count": 14,
     "metadata": {},
     "output_type": "execute_result"
    },
    {
     "data": {
      "text/plain": [
       "10.000"
      ]
     },
     "execution_count": 14,
     "metadata": {},
     "output_type": "execute_result"
    }
   ],
   "source": [
    "from scipy.special import comb\n",
    "\n",
    "com = comb(5,2)\n",
    "com\n",
    "(5*4*3*2*1)/(2*1*(3*2*1))"
   ]
  },
  {
   "cell_type": "code",
   "execution_count": 15,
   "id": "b136e54f",
   "metadata": {},
   "outputs": [],
   "source": [
    "from scipy.special import comb\n",
    "\n",
    "def Bin(n,p):\n",
    "    x_set = np.arange(n+1)\n",
    "    def f(x):\n",
    "        if x in x_set:\n",
    "            return comb(n,x)*p**x*(1-p)**(n-x)\n",
    "        else:\n",
    "            return 0\n",
    "    return x_set, f"
   ]
  },
  {
   "cell_type": "code",
   "execution_count": 16,
   "id": "2d199ac2",
   "metadata": {},
   "outputs": [
    {
     "data": {
      "text/plain": [
       "(array([ 0,  1,  2,  3,  4,  5,  6,  7,  8,  9, 10]),\n",
       " <function __main__.Bin.<locals>.f(x)>)"
      ]
     },
     "execution_count": 16,
     "metadata": {},
     "output_type": "execute_result"
    }
   ],
   "source": [
    "n=10\n",
    "p=0.3\n",
    "\n",
    "X=Bin(n,p)\n",
    "\n",
    "X"
   ]
  },
  {
   "cell_type": "code",
   "execution_count": 17,
   "id": "32b84dd2",
   "metadata": {},
   "outputs": [
    {
     "name": "stdout",
     "output_type": "stream",
     "text": [
      "expected value 3.0\n",
      "variance 2.1\n"
     ]
    }
   ],
   "source": [
    "check_prob(X)"
   ]
  },
  {
   "cell_type": "code",
   "execution_count": 18,
   "id": "c403d3d3",
   "metadata": {},
   "outputs": [
    {
     "data": {
      "text/plain": [
       "array([ 0,  1,  2,  3,  4,  5,  6,  7,  8,  9, 10])"
      ]
     },
     "execution_count": 18,
     "metadata": {},
     "output_type": "execute_result"
    },
    {
     "data": {
      "text/plain": [
       "<function __main__.Bin.<locals>.f(x)>"
      ]
     },
     "execution_count": 18,
     "metadata": {},
     "output_type": "execute_result"
    },
    {
     "data": {
      "text/plain": [
       "(array([ 0,  1,  2,  3,  4,  5,  6,  7,  8,  9, 10]),\n",
       " <function __main__.Bin.<locals>.f(x)>)"
      ]
     },
     "execution_count": 18,
     "metadata": {},
     "output_type": "execute_result"
    }
   ],
   "source": [
    "x_set, f = X\n",
    "\n",
    "x_set\n",
    "f\n",
    "X"
   ]
  },
  {
   "cell_type": "code",
   "execution_count": 19,
   "id": "8a98038a",
   "metadata": {},
   "outputs": [
    {
     "data": {
      "text/plain": [
       "array([2.825e-02, 1.211e-01, 2.335e-01, 2.668e-01, 2.001e-01, 1.029e-01,\n",
       "       3.676e-02, 9.002e-03, 1.447e-03, 1.378e-04, 5.905e-06])"
      ]
     },
     "execution_count": 19,
     "metadata": {},
     "output_type": "execute_result"
    }
   ],
   "source": [
    "np.array([f(x_k) for x_k in x_set])"
   ]
  },
  {
   "cell_type": "code",
   "execution_count": 20,
   "id": "4c7727ba",
   "metadata": {},
   "outputs": [],
   "source": [
    "def plot_prob(X):\n",
    "    x_set, f = X\n",
    "    prob = np.array([f(x_k) for x_k in x_set])\n",
    "    \n",
    "    fig = plt.figure(figsize=(10, 6))\n",
    "    ax = fig.add_subplot(111)\n",
    "    ax.bar(x_set, prob, label='prob')\n",
    "    ax.vlines(E(X), 0, 1, label='mean', color='black')\n",
    "    ax.set_xticks(np.append(x_set, E(X)))\n",
    "    ax.set_ylim(0, prob.max()*1.2)\n",
    "    ax.legend()\n",
    "    \n",
    "    plt.show()\n"
   ]
  },
  {
   "cell_type": "code",
   "execution_count": 21,
   "id": "cc59ba58",
   "metadata": {},
   "outputs": [
    {
     "data": {
      "image/png": "[encoded data removed]",
      "text/plain": [
       "<Figure size 720x432 with 1 Axes>"
      ]
     },
     "metadata": {
      "needs_background": "light"
     },
     "output_type": "display_data"
    }
   ],
   "source": [
    "plot_prob(X)"
   ]
  },
  {
   "cell_type": "code",
   "execution_count": null,
   "id": "04264164",
   "metadata": {},
   "outputs": [],
   "source": []
  },
  {
   "cell_type": "markdown",
   "id": "4c4e2117",
   "metadata": {},
   "source": [
    "## 성공할 확률(p)를 변경해 그래프를 그린 후 비교"
   ]
  },
  {
   "cell_type": "code",
   "execution_count": 22,
   "id": "1a806842",
   "metadata": {},
   "outputs": [
    {
     "data": {
      "text/plain": [
       "[(0.300, '-'), (0.500, '--')]"
      ]
     },
     "execution_count": 22,
     "metadata": {},
     "output_type": "execute_result"
    },
    {
     "data": {
      "text/plain": [
       "[(0.300, '-'), (0.500, '--'), (0.700, ':')]"
      ]
     },
     "execution_count": 22,
     "metadata": {},
     "output_type": "execute_result"
    },
    {
     "data": {
      "text/plain": [
       "10"
      ]
     },
     "execution_count": 22,
     "metadata": {},
     "output_type": "execute_result"
    }
   ],
   "source": [
    "# 라인스타일 자동으로 줌\n",
    "list(zip([0.3,0.5], linestyles))\n",
    "list(zip([0.3,0.5,0.7], linestyles))\n",
    "\n",
    "n"
   ]
  },
  {
   "cell_type": "code",
   "execution_count": 24,
   "id": "1fcc763b",
   "metadata": {},
   "outputs": [
    {
     "data": {
      "text/plain": [
       "[<matplotlib.lines.Line2D at 0x21b0a89b0a0>]"
      ]
     },
     "execution_count": 24,
     "metadata": {},
     "output_type": "execute_result"
    },
    {
     "data": {
      "text/plain": [
       "[<matplotlib.lines.Line2D at 0x21b0a89b670>]"
      ]
     },
     "execution_count": 24,
     "metadata": {},
     "output_type": "execute_result"
    },
    {
     "data": {
      "text/plain": [
       "[<matplotlib.lines.Line2D at 0x21b0a89bc70>]"
      ]
     },
     "execution_count": 24,
     "metadata": {},
     "output_type": "execute_result"
    },
    {
     "data": {
      "image/png": "[encoded data removed]",
      "text/plain": [
       "<Figure size 720x432 with 1 Axes>"
      ]
     },
     "metadata": {
      "needs_background": "light"
     },
     "output_type": "display_data"
    }
   ],
   "source": [
    "n=10 \n",
    "#linestyles = ['-','--',':']\n",
    "\n",
    "fig = plt.figure(figsize=(10, 6))\n",
    "ax = fig.add_subplot(111)\n",
    "\n",
    "x_set = np.arange(n+1)\n",
    "\n",
    "# 성공확률 0.3, 0.5, 0.7 일 때 그래프 비교\n",
    "\n",
    "for p, ls in zip([0.3,0.5,0.7], linestyles):\n",
    "    rv = stats.binom(n,p)\n",
    "    ax.plot(x_set, rv.pmf(x_set), label=f'p:{p}',ls=ls,color='gray')\n",
    "    "
   ]
  },
  {
   "cell_type": "markdown",
   "id": "d7f70d3e",
   "metadata": {},
   "source": [
    "## 파이썬 scipy 모듈의 stats.binom 함수 사용하여 이항확률변수 생성\n",
    "\n",
    "- stats.binom(시행횟수, 성공확률)\n"
   ]
  },
  {
   "cell_type": "code",
   "execution_count": 25,
   "id": "71924afd",
   "metadata": {},
   "outputs": [],
   "source": [
    "# 성공확률이 0.6인 베르누이 시행을 10번 반복했을 때의 확률변수 rv 생성\n",
    "N=10\n",
    "mu=0.6\n",
    "rv=stats.binom(N,mu)"
   ]
  },
  {
   "cell_type": "code",
   "execution_count": 26,
   "id": "569214a2",
   "metadata": {},
   "outputs": [
    {
     "name": "stdout",
     "output_type": "stream",
     "text": [
      "[ 0  1  2  3  4  5  6  7  8  9 10]\n"
     ]
    },
    {
     "data": {
      "text/plain": [
       "array([1.049e-04, 1.573e-03, 1.062e-02, 4.247e-02, 1.115e-01, 2.007e-01,\n",
       "       2.508e-01, 2.150e-01, 1.209e-01, 4.031e-02, 6.047e-03])"
      ]
     },
     "execution_count": 26,
     "metadata": {},
     "output_type": "execute_result"
    }
   ],
   "source": [
    "xx=np.arange(N+1)\n",
    "print(xx)\n",
    "rv.pmf(xx)"
   ]
  },
  {
   "cell_type": "code",
   "execution_count": 27,
   "id": "50e055f5",
   "metadata": {},
   "outputs": [
    {
     "data": {
      "text/plain": [
       "<BarContainer object of 11 artists>"
      ]
     },
     "execution_count": 27,
     "metadata": {},
     "output_type": "execute_result"
    },
    {
     "data": {
      "text/plain": [
       "Text(0.5, 0, '$P(X)$')"
      ]
     },
     "execution_count": 27,
     "metadata": {},
     "output_type": "execute_result"
    },
    {
     "data": {
      "text/plain": [
       "Text(0.5, 1.0, '막대그래프')"
      ]
     },
     "execution_count": 27,
     "metadata": {},
     "output_type": "execute_result"
    },
    {
     "data": {
      "image/png": "[encoded data removed]",
      "text/plain": [
       "<Figure size 432x288 with 1 Axes>"
      ]
     },
     "metadata": {
      "needs_background": "light"
     },
     "output_type": "display_data"
    }
   ],
   "source": [
    "xx = np.arange(N+1)\n",
    "plt.bar(xx,rv.pmf(xx),align='center')\n",
    "plt.xlabel('$P(X)$')\n",
    "plt.title('막대그래프')"
   ]
  },
  {
   "cell_type": "code",
   "execution_count": null,
   "id": "24d49553",
   "metadata": {},
   "outputs": [],
   "source": []
  },
  {
   "cell_type": "markdown",
   "id": "96386f80",
   "metadata": {},
   "source": [
    "## rsv함수\n",
    "- binom.rvs 함수는 이항분포를 따르는 난수를 생성시킴\n",
    "- 인자 : n,p,size,random_state"
   ]
  },
  {
   "cell_type": "code",
   "execution_count": 28,
   "id": "abd44de9",
   "metadata": {},
   "outputs": [],
   "source": [
    "from scipy.stats import binom"
   ]
  },
  {
   "cell_type": "code",
   "execution_count": 29,
   "id": "f71492dd",
   "metadata": {},
   "outputs": [
    {
     "data": {
      "text/plain": [
       "array([28, 23, 27])"
      ]
     },
     "execution_count": 29,
     "metadata": {},
     "output_type": "execute_result"
    },
    {
     "data": {
      "text/plain": [
       "array([24, 26, 22])"
      ]
     },
     "execution_count": 29,
     "metadata": {},
     "output_type": "execute_result"
    }
   ],
   "source": [
    "binom.rvs(n=50,p=0.5,size=3)\n",
    "binom.rvs(n=50,p=0.5,size=3)"
   ]
  },
  {
   "cell_type": "code",
   "execution_count": 30,
   "id": "4d2c875d",
   "metadata": {},
   "outputs": [
    {
     "data": {
      "text/plain": [
       "array([25, 27, 23])"
      ]
     },
     "execution_count": 30,
     "metadata": {},
     "output_type": "execute_result"
    },
    {
     "data": {
      "text/plain": [
       "array([25, 27, 23])"
      ]
     },
     "execution_count": 30,
     "metadata": {},
     "output_type": "execute_result"
    }
   ],
   "source": [
    "binom.rvs(n=50,p=0.5,size=3,random_state=3)\n",
    "binom.rvs(n=50,p=0.5,size=3,random_state=3)"
   ]
  },
  {
   "cell_type": "code",
   "execution_count": 31,
   "id": "1bce9d28",
   "metadata": {},
   "outputs": [
    {
     "data": {
      "text/plain": [
       "100"
      ]
     },
     "execution_count": 31,
     "metadata": {},
     "output_type": "execute_result"
    },
    {
     "data": {
      "text/plain": [
       "array([ 6,  5,  6,  6,  6,  5,  6,  4,  3,  6,  5,  6,  6,  4,  8,  8,  9,\n",
       "        5,  5,  4,  3,  5,  6,  5,  8,  5,  8,  4,  6,  6,  7,  5,  6,  6,\n",
       "        9,  6,  6,  6,  4,  5,  7,  6,  5,  8,  5,  5,  7,  8,  7,  7,  6,\n",
       "        6,  2,  8,  7,  8,  5,  7,  6,  7,  8,  8,  5,  8,  7,  7,  5,  8,\n",
       "        4,  8,  3,  6,  3,  6,  5,  9,  7,  8,  7,  8,  7,  6,  8,  5,  6,\n",
       "        7,  6,  8,  6,  4,  7,  5,  8,  5,  7,  7,  6,  9,  5, 10])"
      ]
     },
     "execution_count": 31,
     "metadata": {},
     "output_type": "execute_result"
    }
   ],
   "source": [
    "# rvs 메서드로 무작위 표본을 뽑아내는 시뮬레이션을 한 결과 생성되는 난수는 이항 분포를 따르게 됨\n",
    "\n",
    "np.random.seed(0)\n",
    "x=rv.rvs(100)\n",
    "len(x)\n",
    "x"
   ]
  },
  {
   "cell_type": "code",
   "execution_count": 32,
   "id": "e85fbcbf",
   "metadata": {},
   "outputs": [
    {
     "name": "stderr",
     "output_type": "stream",
     "text": [
      "C:\\ProgramData\\Anaconda3\\lib\\site-packages\\seaborn\\_decorators.py:36: FutureWarning: Pass the following variable as a keyword arg: x. From version 0.12, the only valid positional argument will be `data`, and passing other arguments without an explicit keyword will result in an error or misinterpretation.\n",
      "  warnings.warn(\n"
     ]
    },
    {
     "data": {
      "text/plain": [
       "<AxesSubplot:ylabel='count'>"
      ]
     },
     "execution_count": 32,
     "metadata": {},
     "output_type": "execute_result"
    },
    {
     "data": {
      "text/plain": [
       "Text(0.5, 1.0, '이항분포의 시뮬레이션 결과')"
      ]
     },
     "execution_count": 32,
     "metadata": {},
     "output_type": "execute_result"
    },
    {
     "data": {
      "text/plain": [
       "Text(0.5, 0, '표본값')"
      ]
     },
     "execution_count": 32,
     "metadata": {},
     "output_type": "execute_result"
    },
    {
     "data": {
      "image/png": "[encoded data removed]",
      "text/plain": [
       "<Figure size 432x288 with 1 Axes>"
      ]
     },
     "metadata": {
      "needs_background": "light"
     },
     "output_type": "display_data"
    }
   ],
   "source": [
    "import seaborn as sns\n",
    "sns.countplot(x)\n",
    "plt.title(\"이항분포의 시뮬레이션 결과\")\n",
    "plt.xlabel(\"표본값\")\n",
    "plt.show()\n"
   ]
  },
  {
   "cell_type": "markdown",
   "id": "6a045664",
   "metadata": {},
   "source": [
    "## 포아송 분포\n",
    "- 단위 시간 안에 어떤 사건이 몇 번 발생할 것인지를 표현하는 이산 확률 분포\n",
    "-  예.\n",
    "    - 119 구조대에 걸려오는 시간 당 전화 횟수\n",
    "    - 1년 동안 발생하는 진도 4 이상의 지진 횟수\n",
    "    - 프러시아 기병 중에서 매년 말에 차여 사망하는 병사의 수\n",
    "    - 한 야구경기에서 실책의 수\n",
    "    - 서울지역의 5월 중 부도를 낸 중소기업 수\n",
    "\n",
    "\n",
    "![](../picture/포아송.png)"
   ]
  },
  {
   "cell_type": "markdown",
   "id": "34aa3e95",
   "metadata": {},
   "source": [
    "- 하루에 평균 2건의 교통사고가 발생하는 (Poi(2))하는 지역에서 하루 사고가 한 건도 일어나지 않을 확률\n",
    "![](../picture/교통사고.png)"
   ]
  },
  {
   "cell_type": "code",
   "execution_count": 34,
   "id": "79aecbb2",
   "metadata": {},
   "outputs": [],
   "source": [
    "# 편의상 x_set을 0~19 이하인 정수로 가정\n",
    "from scipy.special import factorial\n",
    "\n",
    "def Poi(lam):\n",
    "    x_set = np.arange(20)\n",
    "    def f(x):\n",
    "        if x in x_set:\n",
    "            return np.power(lam,x)/factorial(x)*np.exp(-lam)\n",
    "        else:\n",
    "            return 0\n",
    "    return x_set, f"
   ]
  },
  {
   "cell_type": "code",
   "execution_count": 35,
   "id": "2042edbc",
   "metadata": {},
   "outputs": [
    {
     "data": {
      "text/plain": [
       "(array([ 0,  1,  2,  3,  4,  5,  6,  7,  8,  9, 10, 11, 12, 13, 14, 15, 16,\n",
       "        17, 18, 19]),\n",
       " <function __main__.Poi.<locals>.f(x)>)"
      ]
     },
     "execution_count": 35,
     "metadata": {},
     "output_type": "execute_result"
    }
   ],
   "source": [
    "X=Poi(10)\n",
    "X # 0~ 19\n",
    "x_set, f = X\n",
    "prob = np.array([f(x_k) for x_k in x_set])"
   ]
  },
  {
   "cell_type": "code",
   "execution_count": 36,
   "id": "44ee102e",
   "metadata": {},
   "outputs": [
    {
     "data": {
      "text/plain": [
       "array([ 0,  1,  2,  3,  4,  5,  6,  7,  8,  9, 10, 11, 12, 13, 14, 15, 16,\n",
       "       17, 18, 19])"
      ]
     },
     "execution_count": 36,
     "metadata": {},
     "output_type": "execute_result"
    },
    {
     "data": {
      "text/plain": [
       "<function __main__.Poi.<locals>.f(x)>"
      ]
     },
     "execution_count": 36,
     "metadata": {},
     "output_type": "execute_result"
    },
    {
     "data": {
      "text/plain": [
       "(array([ 0,  1,  2,  3,  4,  5,  6,  7,  8,  9, 10, 11, 12, 13, 14, 15, 16,\n",
       "        17, 18, 19]),\n",
       " <function __main__.Poi.<locals>.f(x)>)"
      ]
     },
     "execution_count": 36,
     "metadata": {},
     "output_type": "execute_result"
    }
   ],
   "source": [
    "x_set\n",
    "f\n",
    "X"
   ]
  },
  {
   "cell_type": "code",
   "execution_count": 37,
   "id": "300623e1",
   "metadata": {},
   "outputs": [
    {
     "data": {
      "text/plain": [
       "array([ 0,  1,  2,  3,  4,  5,  6,  7,  8,  9, 10, 11, 12, 13, 14, 15, 16,\n",
       "       17, 18, 19])"
      ]
     },
     "execution_count": 37,
     "metadata": {},
     "output_type": "execute_result"
    },
    {
     "data": {
      "text/plain": [
       "array([ 4.540e-05,  4.540e-04,  2.270e-03,  7.567e-03,  1.892e-02,\n",
       "        3.783e-02,  6.306e-02,  9.008e-02,  1.126e-01,  1.251e-01,\n",
       "        1.764e-02,  1.383e-03, -6.894e-05,  9.596e-06,  1.440e-07,\n",
       "       -5.314e-08,  4.068e-09,  2.003e-10, -1.054e-11, -7.394e-13])"
      ]
     },
     "execution_count": 37,
     "metadata": {},
     "output_type": "execute_result"
    }
   ],
   "source": [
    "x_set\n",
    "prob"
   ]
  },
  {
   "cell_type": "code",
   "execution_count": null,
   "id": "46b3999b",
   "metadata": {},
   "outputs": [],
   "source": []
  },
  {
   "cell_type": "code",
   "execution_count": null,
   "id": "11c35a66",
   "metadata": {},
   "outputs": [],
   "source": []
  },
  {
   "cell_type": "code",
   "execution_count": null,
   "id": "217dca62",
   "metadata": {},
   "outputs": [],
   "source": []
  }
 ],
 "metadata": {
  "kernelspec": {
   "display_name": "Python 3",
   "language": "python",
   "name": "python3"
  },
  "language_info": {
   "codemirror_mode": {
    "name": "ipython",
    "version": 3
   },
   "file_extension": ".py",
   "mimetype": "text/x-python",
   "name": "python",
   "nbconvert_exporter": "python",
   "pygments_lexer": "ipython3",
   "version": "3.8.8"
  }
 },
 "nbformat": 4,
 "nbformat_minor": 5
}
